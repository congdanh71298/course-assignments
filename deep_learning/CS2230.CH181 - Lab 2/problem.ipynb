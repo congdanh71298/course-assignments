{
 "cells": [
  {
   "cell_type": "markdown",
   "id": "gAAdqHUTUNtL",
   "metadata": {
    "id": "gAAdqHUTUNtL"
   },
   "source": [
    "# PHẦN 0 - KIỂM TRA PHIÊN BẢN CỦA THƯ VIỆN TENSORFLOW VÀ KERAS"
   ]
  },
  {
   "cell_type": "markdown",
   "id": "_73yrUJlVMtq",
   "metadata": {
    "id": "_73yrUJlVMtq"
   },
   "source": [
    "Trong bài tập này, chúng ta chỉ sẽ sử dụng thiết bị `CPU`. Bạn phải sử dụng phiên bản `2.15.0` của `TensorFlow` (đây cũng là phiên bản của môi trường `Google Colab` hiện tại). Trong trường hợp môi trường `Python 3` của bạn chưa có thư viện `TensorFlow` theo như yêu cầu, bạn cài đặt bằng cách thực hiện lệnh sau `pip install tensorflow==2.15.0`."
   ]
  },
  {
   "cell_type": "code",
   "execution_count": 1,
   "id": "udSpqqalTjLE",
   "metadata": {
    "colab": {
     "base_uri": "https://localhost:8080/"
    },
    "execution": {
     "iopub.execute_input": "2024-04-06T10:11:41.033263Z",
     "iopub.status.busy": "2024-04-06T10:11:41.032422Z",
     "iopub.status.idle": "2024-04-06T10:11:53.636749Z",
     "shell.execute_reply": "2024-04-06T10:11:53.633415Z"
    },
    "executionInfo": {
     "elapsed": 11937,
     "status": "ok",
     "timestamp": 1712308942350,
     "user": {
      "displayName": "Nguyễn Đức Vũ",
      "userId": "07288779277842550568"
     },
     "user_tz": -420
    },
    "id": "udSpqqalTjLE",
    "outputId": "50d54c7c-388d-4f6d-e1df-fc60a3eb8cec"
   },
   "outputs": [
    {
     "name": "stdout",
     "output_type": "stream",
     "text": [
      "2.15.0\n",
      "[PhysicalDevice(name='/physical_device:CPU:0', device_type='CPU')]\n"
     ]
    }
   ],
   "source": [
    "# Kiểm tra phiên bản của thư viện TensorFlow và in ra danh sách các thiết bị.\n",
    "!python -c 'import tensorflow; print(tensorflow.__version__); print(tensorflow.config.list_physical_devices())'"
   ]
  },
  {
   "cell_type": "code",
   "execution_count": 2,
   "id": "7PV29RCaUDze",
   "metadata": {
    "colab": {
     "base_uri": "https://localhost:8080/"
    },
    "execution": {
     "iopub.execute_input": "2024-04-06T10:11:53.649814Z",
     "iopub.status.busy": "2024-04-06T10:11:53.647465Z",
     "iopub.status.idle": "2024-04-06T10:12:02.632962Z",
     "shell.execute_reply": "2024-04-06T10:12:02.628945Z"
    },
    "executionInfo": {
     "elapsed": 16560,
     "status": "ok",
     "timestamp": 1712308958902,
     "user": {
      "displayName": "Nguyễn Đức Vũ",
      "userId": "07288779277842550568"
     },
     "user_tz": -420
    },
    "id": "7PV29RCaUDze",
    "outputId": "8902f665-5176-41bd-b33a-c1866ec18e78"
   },
   "outputs": [
    {
     "name": "stdout",
     "output_type": "stream",
     "text": [
      "2.15.0\n"
     ]
    }
   ],
   "source": [
    "# Kiểm tra phiên bản của thư viện Keras.\n",
    "!python -c 'import keras; print(keras.__version__)'"
   ]
  },
  {
   "cell_type": "markdown",
   "id": "32d8e798-415f-437f-9595-395432d2f6ea",
   "metadata": {
    "id": "32d8e798-415f-437f-9595-395432d2f6ea",
    "nbgrader": {
     "grade": false,
     "grade_id": "cell-cd8ada6364a44dde",
     "locked": true,
     "schema_version": 3,
     "solution": false,
     "task": false
    },
    "tags": []
   },
   "source": [
    "## PHẦN 1 - CÀI ĐẶT MÔ HÌNH LINEAR REGRESSION VỚI KERAS"
   ]
  },
  {
   "cell_type": "markdown",
   "id": "fd050030-303d-46a5-814b-39eb047ad932",
   "metadata": {
    "id": "fd050030-303d-46a5-814b-39eb047ad932",
    "nbgrader": {
     "grade": false,
     "grade_id": "cell-0bffba57d1ad9cb3",
     "locked": true,
     "schema_version": 3,
     "solution": false,
     "task": false
    },
    "tags": []
   },
   "source": [
    "Một mô hình máy học cần có đủ ít nhất 7 phương thức sau:\n",
    "- `__init__`: hàm constructor trong hướng đối tượng, được sử dụng để khởi tạo các tham số mặc định hoặc tham số bắt đầu một mô hình. Trong những bài tập đầu tiên, để đơn giản constructor sẽ không sử dụng.\n",
    "- `build`: xây dựng kiến trúc của mô hình\n",
    "- `train`: bắt đầu quá trình huấn luyện mô hình\n",
    "- `save`: lưu lại mô hình sau khi đã huấn luyện\n",
    "- `load`: load lên mô hình từ file đã huấn luyện (pretrained)\n",
    "- `summary`: in tóm tắt kiến trúc mô hình\n",
    "- `predict`: dự đoán giá trị output từ dữ liệu đầu vào"
   ]
  },
  {
   "cell_type": "code",
   "execution_count": 3,
   "id": "4045ce28-ee6d-4e9b-a48a-f1735f301574",
   "metadata": {
    "execution": {
     "iopub.execute_input": "2024-04-06T10:12:02.645556Z",
     "iopub.status.busy": "2024-04-06T10:12:02.644447Z",
     "iopub.status.idle": "2024-04-06T10:12:02.666988Z",
     "shell.execute_reply": "2024-04-06T10:12:02.664538Z"
    },
    "executionInfo": {
     "elapsed": 8,
     "status": "ok",
     "timestamp": 1712308958903,
     "user": {
      "displayName": "Nguyễn Đức Vũ",
      "userId": "07288779277842550568"
     },
     "user_tz": -420
    },
    "id": "4045ce28-ee6d-4e9b-a48a-f1735f301574",
    "nbgrader": {
     "grade": false,
     "grade_id": "cell-126fc97be75a7453",
     "locked": true,
     "schema_version": 3,
     "solution": false,
     "task": false
    },
    "tags": []
   },
   "outputs": [],
   "source": [
    "# Mô hình cài đặt tổng quát bao gồm 7 phương thức cơ bản\n",
    "# Lưu ý: mô hình này chỉ mang tính gợi ý, không bắt buộc\n",
    "# Tuy nhiên, trong phần bài tập cần tuân theo các tên phương thức này\n",
    "class MyModel:\n",
    "    # constructor\n",
    "    def __init__(self):\n",
    "        return None\n",
    "\n",
    "    # Implement architecture of the model\n",
    "    def build(self):\n",
    "        return None\n",
    "\n",
    "    # Train the defined model with training and validation data\n",
    "    def train(self):\n",
    "        return None\n",
    "\n",
    "    # Save the trained model to file\n",
    "    def save(self, model_path):\n",
    "        return None\n",
    "\n",
    "    # Load pretrained model from file\n",
    "    def load(self):\n",
    "        return None\n",
    "\n",
    "    # Visualize your model\n",
    "    def summary(self):\n",
    "        return None\n",
    "\n",
    "    # Apply your model with new input data\n",
    "    def predict(self):\n",
    "        return None"
   ]
  },
  {
   "cell_type": "markdown",
   "id": "498cd880-c80c-4d9a-9ca8-bff003cf2ae6",
   "metadata": {
    "id": "498cd880-c80c-4d9a-9ca8-bff003cf2ae6",
    "nbgrader": {
     "grade": false,
     "grade_id": "cell-449bbee0eee23e80",
     "locked": true,
     "schema_version": 3,
     "solution": false,
     "task": false
    },
    "tags": []
   },
   "source": [
    "## 1. Import các thư viện Keras\n",
    "\n",
    "Đầu tiên, ta sẽ import các thư viện, module, hàm của `Keras`:\n",
    "- `Input`: để nhận dữ liệu đầu vào cho mô hình\n",
    "- `Dense`: hay còn gọi là lớp Fully Connected (Lớp kết nối đầy đủ), một thành phần quan trọng của các mô hình dựa trên mạng Neural Network.\n",
    "- `Model`: đây là lớp đối tượng mô hình được sử dụng để đóng gói lớp đầu vào, đầu ra, sau đó huấn luyện với phương thức `fit` và dự đoán kết quả với `predict`.\n",
    "- `load_model`: hàm sử dụng để load mô hình lên từ file"
   ]
  },
  {
   "cell_type": "code",
   "execution_count": 4,
   "id": "1f4b4acb-157f-4309-96de-b8e7b01f6506",
   "metadata": {
    "execution": {
     "iopub.execute_input": "2024-04-06T10:12:02.676506Z",
     "iopub.status.busy": "2024-04-06T10:12:02.675591Z",
     "iopub.status.idle": "2024-04-06T10:12:10.331216Z",
     "shell.execute_reply": "2024-04-06T10:12:10.328873Z"
    },
    "executionInfo": {
     "elapsed": 11696,
     "status": "ok",
     "timestamp": 1712308970593,
     "user": {
      "displayName": "Nguyễn Đức Vũ",
      "userId": "07288779277842550568"
     },
     "user_tz": -420
    },
    "id": "1f4b4acb-157f-4309-96de-b8e7b01f6506",
    "nbgrader": {
     "grade": false,
     "grade_id": "cell-57c79d33953aeef2",
     "locked": true,
     "schema_version": 3,
     "solution": false,
     "task": false
    },
    "tags": []
   },
   "outputs": [],
   "source": [
    "from keras.layers import Input, Dense\n",
    "from keras import Model\n",
    "import tensorflow as tf\n",
    "from keras.models import load_model"
   ]
  },
  {
   "cell_type": "markdown",
   "id": "04a833c1-4990-489c-bbac-968b578eac39",
   "metadata": {
    "id": "04a833c1-4990-489c-bbac-968b578eac39",
    "nbgrader": {
     "grade": false,
     "grade_id": "cell-f72ad50b2c988c98",
     "locked": true,
     "schema_version": 3,
     "solution": false,
     "task": false
    },
    "tags": []
   },
   "source": [
    "## 2. Cài đặt mô hình Linear Regression\n",
    "Tiếp theo, ta sẽ dựa trên khung đối tượng `MyModel` đã trình bày ở mục trước để tiến hành cài đặt mô hình **Linear Regression**. Phương thức chính mà bài tập này cần thực hiện là `def build()`. Các phương thức còn lại đã được cài đặt sẵn, các bạn cần đọc, hiểu ý nghĩa và cách thức sử dụng về sau.\n",
    "\n",
    "<p align=\"center\">\n",
    "  <img src=\"./images/LinearReg.png\" />\n",
    "</p>"
   ]
  },
  {
   "cell_type": "code",
   "execution_count": 5,
   "id": "60b33717-b96f-4c9b-97f8-2e0eb49d7afa",
   "metadata": {
    "execution": {
     "iopub.execute_input": "2024-04-06T10:12:10.342530Z",
     "iopub.status.busy": "2024-04-06T10:12:10.340979Z",
     "iopub.status.idle": "2024-04-06T10:12:10.360725Z",
     "shell.execute_reply": "2024-04-06T10:12:10.358720Z"
    },
    "executionInfo": {
     "elapsed": 39,
     "status": "ok",
     "timestamp": 1712308970594,
     "user": {
      "displayName": "Nguyễn Đức Vũ",
      "userId": "07288779277842550568"
     },
     "user_tz": -420
    },
    "id": "60b33717-b96f-4c9b-97f8-2e0eb49d7afa",
    "nbgrader": {
     "grade": false,
     "grade_id": "cell-39579eccef29b960",
     "locked": false,
     "schema_version": 3,
     "solution": true,
     "task": false
    },
    "tags": []
   },
   "outputs": [],
   "source": [
    "# Linear Regression\n",
    "class LinearRegression:\n",
    "    def __init__(self): # Self is similar to your 'this' pointer in C++\n",
    "        return None\n",
    "\n",
    "    def build(self, input_dim):\n",
    "\n",
    "        self.model = None\n",
    "        # Hãy cài đặt để định nghĩa KIẾN TRÚC MÔ HÌNH và lưu ở thuộc tính `self.model`\n",
    "        # với các biến đối tượng sau:\n",
    "        #  - tạo biến `input` với lớp đối tượng `Input` của Keras,\n",
    "        #    truyền vào kích thước đầu vào `input_dim`\n",
    "        #  - tạo biến `output` với lớp đối tượng `Dense` của Keras,\n",
    "        #    truyền vào các tham số:  kích thước output, có sử dụng bias,\n",
    "        #    không sử dụng hàm activation\n",
    "        # Sau bước này, self.model sẽ đóng gói 2 biến `input` và `output` để tạo thành mô hình\n",
    "        ### BEGIN SOLUTION\n",
    "        input = Input(shape=(input_dim,))\n",
    "        output = Dense(1, use_bias=True, activation=None)(input)\n",
    "        ### END SOLUTION\n",
    "        self.model = Model(input, output)\n",
    "        return self.model\n",
    "\n",
    "    def train(self, x_train, y_train):\n",
    "        opt = tf.keras.optimizers.SGD(learning_rate=0.1) # Stochastic Gradient Descent\n",
    "        self.model.compile(optimizer=opt, loss='mse') # MSE: mean squared error or L2 distance # (y~ - y)^2\n",
    "        return self.model.fit(x_train, y_train, epochs=30)\n",
    "\n",
    "    def save(self, model_file):\n",
    "        return self.model.save(model_file)\n",
    "\n",
    "    def load(self, model_file):\n",
    "        self.model = load_model(model_file)\n",
    "\n",
    "    def summary(self):\n",
    "        self.model.summary()\n",
    "\n",
    "    def predict(self, x_test):\n",
    "        return self.model.predict(x_test)\n",
    "\n",
    "    def get_weights(self):\n",
    "        return self.model.layers[1].get_weights()"
   ]
  },
  {
   "cell_type": "markdown",
   "id": "97f6c731-3e41-4d71-988d-b41a6dfa2999",
   "metadata": {
    "id": "97f6c731-3e41-4d71-988d-b41a6dfa2999",
    "nbgrader": {
     "grade": false,
     "grade_id": "cell-ac1cf2df36b35acb",
     "locked": true,
     "schema_version": 3,
     "solution": false,
     "task": false
    },
    "tags": []
   },
   "source": [
    "Tiếp theo, ta sẽ khởi tạo đối tượng LinearRegression và kiểm tra thử xem phương `build` đã cài đặt chính xác chưa."
   ]
  },
  {
   "cell_type": "code",
   "execution_count": 6,
   "id": "74d6e729-8fcc-4464-9d1f-0e24da5629dc",
   "metadata": {
    "colab": {
     "base_uri": "https://localhost:8080/"
    },
    "execution": {
     "iopub.execute_input": "2024-04-06T10:12:10.370409Z",
     "iopub.status.busy": "2024-04-06T10:12:10.369257Z",
     "iopub.status.idle": "2024-04-06T10:12:10.507939Z",
     "shell.execute_reply": "2024-04-06T10:12:10.505720Z"
    },
    "executionInfo": {
     "elapsed": 32,
     "status": "ok",
     "timestamp": 1712308970594,
     "user": {
      "displayName": "Nguyễn Đức Vũ",
      "userId": "07288779277842550568"
     },
     "user_tz": -420
    },
    "id": "74d6e729-8fcc-4464-9d1f-0e24da5629dc",
    "nbgrader": {
     "grade": false,
     "grade_id": "cell-cb24e77ca4ff451e",
     "locked": true,
     "schema_version": 3,
     "solution": false,
     "task": false
    },
    "outputId": "4749df93-df51-40af-9277-6bd83a922f1d",
    "tags": []
   },
   "outputs": [
    {
     "data": {
      "text/plain": [
       "<keras.src.engine.functional.Functional at 0x32f6ac4d0>"
      ]
     },
     "execution_count": 6,
     "metadata": {},
     "output_type": "execute_result"
    }
   ],
   "source": [
    "lr = LinearRegression()\n",
    "# Trong ví dụ này, ta sẽ khởi tạo input là một vector 1000 chiều:\n",
    "lr.build(1000)"
   ]
  },
  {
   "cell_type": "code",
   "execution_count": 7,
   "id": "9ca9fdb2-e913-4c1d-a858-48a3842f3436",
   "metadata": {
    "execution": {
     "iopub.execute_input": "2024-04-06T10:12:10.517399Z",
     "iopub.status.busy": "2024-04-06T10:12:10.516169Z",
     "iopub.status.idle": "2024-04-06T10:12:10.527331Z",
     "shell.execute_reply": "2024-04-06T10:12:10.525334Z"
    },
    "executionInfo": {
     "elapsed": 25,
     "status": "ok",
     "timestamp": 1712308970594,
     "user": {
      "displayName": "Nguyễn Đức Vũ",
      "userId": "07288779277842550568"
     },
     "user_tz": -420
    },
    "id": "9ca9fdb2-e913-4c1d-a858-48a3842f3436",
    "nbgrader": {
     "grade": true,
     "grade_id": "cell-278fafeae5c407d0",
     "locked": true,
     "points": 5,
     "schema_version": 3,
     "solution": false,
     "task": false
    },
    "tags": []
   },
   "outputs": [],
   "source": [
    "# Public Test\n",
    "assert len(lr.model.layers) == 2\n",
    "assert str(type(lr.model.layers[0])).endswith(\"input_layer.InputLayer'>\") == True\n",
    "assert str(type(lr.model.layers[1])).endswith(\"core.dense.Dense'>\") == True\n",
    "assert lr.model.layers[0].input_shape[0][1] == 1000"
   ]
  },
  {
   "cell_type": "markdown",
   "id": "834e8988-86a3-4914-8b48-5b1e0c26ef9f",
   "metadata": {
    "id": "834e8988-86a3-4914-8b48-5b1e0c26ef9f",
    "nbgrader": {
     "grade": false,
     "grade_id": "cell-ac7a9ddf407c8762",
     "locked": true,
     "schema_version": 3,
     "solution": false,
     "task": false
    },
    "tags": []
   },
   "source": [
    "## 3. Tạo dữ liệu mẫu (toy example)\n",
    "Bước tiếp theo, ta sẽ tiến hành tạo mẫu dữ liệu để huấn luyện và kiểm thử.\n",
    "\n",
    "Dữ liệu được tạo ra là các điểm xoay xung quanh một đường thẳng với một số nhiễu"
   ]
  },
  {
   "cell_type": "code",
   "execution_count": 8,
   "id": "e85e8cda-f476-4091-8bbc-e1c5c05a8c99",
   "metadata": {
    "colab": {
     "base_uri": "https://localhost:8080/",
     "height": 451
    },
    "execution": {
     "iopub.execute_input": "2024-04-06T10:12:10.593161Z",
     "iopub.status.busy": "2024-04-06T10:12:10.591940Z",
     "iopub.status.idle": "2024-04-06T10:12:13.263311Z",
     "shell.execute_reply": "2024-04-06T10:12:13.260875Z"
    },
    "executionInfo": {
     "elapsed": 36,
     "status": "ok",
     "timestamp": 1712308971289,
     "user": {
      "displayName": "Nguyễn Đức Vũ",
      "userId": "07288779277842550568"
     },
     "user_tz": -420
    },
    "id": "e85e8cda-f476-4091-8bbc-e1c5c05a8c99",
    "nbgrader": {
     "grade": false,
     "grade_id": "cell-596b906e8b2db48f",
     "locked": true,
     "schema_version": 3,
     "solution": false,
     "task": false
    },
    "outputId": "f2bde581-be76-4247-e320-50715ce5e5a6",
    "tags": []
   },
   "outputs": [
    {
     "data": {
      "image/png": "[encoded data removed]",
      "text/plain": [
       "<Figure size 640x480 with 1 Axes>"
      ]
     },
     "metadata": {},
     "output_type": "display_data"
    }
   ],
   "source": [
    "import numpy as np\n",
    "import matplotlib.pyplot as plt\n",
    "\n",
    "# Khởi tạo các điểm xung quanh đường thẳng y = -3*x + 10\n",
    "x = np.arange(-5, 5, 0.5)\n",
    "n = len(x) # Số mẫu dữ liệu\n",
    "\n",
    "std = 2 # tham số thể hiện mức độ nhiễu nhiều hay ít. Càng lớn càng nhiễu\n",
    "y = -3*x + 10 + np.random.normal(0, std, n)\n",
    "\n",
    "# Trực quan hóa dữ liệu bằng các hình tròn màu đỏ\n",
    "plt.plot(x, y, 'ro')\n",
    "plt.show()"
   ]
  },
  {
   "cell_type": "code",
   "execution_count": 9,
   "id": "8aa7ce32-4f59-4cee-ae56-25f0cd972886",
   "metadata": {
    "colab": {
     "base_uri": "https://localhost:8080/"
    },
    "execution": {
     "iopub.execute_input": "2024-04-06T10:12:13.273023Z",
     "iopub.status.busy": "2024-04-06T10:12:13.271725Z",
     "iopub.status.idle": "2024-04-06T10:12:13.361109Z",
     "shell.execute_reply": "2024-04-06T10:12:13.358630Z"
    },
    "executionInfo": {
     "elapsed": 567,
     "status": "ok",
     "timestamp": 1712308971828,
     "user": {
      "displayName": "Nguyễn Đức Vũ",
      "userId": "07288779277842550568"
     },
     "user_tz": -420
    },
    "id": "8aa7ce32-4f59-4cee-ae56-25f0cd972886",
    "nbgrader": {
     "grade": false,
     "grade_id": "cell-7b350a0e29be5844",
     "locked": false,
     "schema_version": 3,
     "solution": true,
     "task": false
    },
    "outputId": "85b2d28f-37e4-48dc-adad-0ff4574c667b",
    "tags": []
   },
   "outputs": [
    {
     "name": "stdout",
     "output_type": "stream",
     "text": [
      "The architecture of Linear Regression model: \n",
      "Model: \"model_1\"\n",
      "_________________________________________________________________\n",
      " Layer (type)                Output Shape              Param #   \n",
      "=================================================================\n",
      " input_2 (InputLayer)        [(None, 1)]               0         \n",
      "                                                                 \n",
      " dense_1 (Dense)             (None, 1)                 2         \n",
      "                                                                 \n",
      "=================================================================\n",
      "Total params: 2 (8.00 Byte)\n",
      "Trainable params: 2 (8.00 Byte)\n",
      "Non-trainable params: 0 (0.00 Byte)\n",
      "_________________________________________________________________\n"
     ]
    }
   ],
   "source": [
    "lr = LinearRegression()\n",
    "\n",
    "# Hãy gọi phương thức `build` cho đối tượng `lr` và truyền tham số đầu vào\n",
    "# tương ứng với dữ liệu train đã phát sinh ở code block trên\n",
    "# Theo bạn, `input_dim` bằng bao nhiêu?\n",
    "\n",
    "### BEGIN SOLUTION\n",
    "lr.build(1)\n",
    "### END SOLUTION\n",
    "\n",
    "# Để hiển thị kiến trúc của mô hình ta gọi phương thức `summary`\n",
    "print(\"The architecture of Linear Regression model: \")\n",
    "lr.summary()"
   ]
  },
  {
   "cell_type": "code",
   "execution_count": 10,
   "id": "7f34ecff-3ef0-497f-bcd0-c138cb7b7af3",
   "metadata": {
    "colab": {
     "base_uri": "https://localhost:8080/"
    },
    "execution": {
     "iopub.execute_input": "2024-04-06T10:12:13.399961Z",
     "iopub.status.busy": "2024-04-06T10:12:13.398012Z",
     "iopub.status.idle": "2024-04-06T10:12:14.786352Z",
     "shell.execute_reply": "2024-04-06T10:12:14.783772Z"
    },
    "executionInfo": {
     "elapsed": 2156,
     "status": "ok",
     "timestamp": 1712308973964,
     "user": {
      "displayName": "Nguyễn Đức Vũ",
      "userId": "07288779277842550568"
     },
     "user_tz": -420
    },
    "id": "7f34ecff-3ef0-497f-bcd0-c138cb7b7af3",
    "nbgrader": {
     "grade": false,
     "grade_id": "cell-9ba3148b1e8aacd3",
     "locked": true,
     "schema_version": 3,
     "solution": false,
     "task": false
    },
    "outputId": "8b962d5a-822a-4123-8e21-e5808c9034c4",
    "tags": []
   },
   "outputs": [
    {
     "name": "stderr",
     "output_type": "stream",
     "text": [
      "WARNING:absl:At this time, the v2.11+ optimizer `tf.keras.optimizers.SGD` runs slowly on M1/M2 Macs, please use the legacy Keras optimizer instead, located at `tf.keras.optimizers.legacy.SGD`.\n"
     ]
    },
    {
     "name": "stdout",
     "output_type": "stream",
     "text": [
      "Epoch 1/30\n",
      "1/1 [==============================] - 0s 111ms/step - loss: 229.4748\n",
      "Epoch 2/30\n",
      "1/1 [==============================] - 0s 2ms/step - loss: 123.8019\n",
      "Epoch 3/30\n",
      "1/1 [==============================] - 0s 1ms/step - loss: 69.7190\n",
      "Epoch 4/30\n",
      "1/1 [==============================] - 0s 2ms/step - loss: 41.2941\n",
      "Epoch 5/30\n",
      "1/1 [==============================] - 0s 1ms/step - loss: 25.9259\n",
      "Epoch 6/30\n",
      "1/1 [==============================] - 0s 2ms/step - loss: 17.3769\n",
      "Epoch 7/30\n",
      "1/1 [==============================] - 0s 2ms/step - loss: 12.4906\n",
      "Epoch 8/30\n",
      "1/1 [==============================] - 0s 1ms/step - loss: 9.6287\n",
      "Epoch 9/30\n",
      "1/1 [==============================] - 0s 1ms/step - loss: 7.9168\n",
      "Epoch 10/30\n",
      "1/1 [==============================] - 0s 1ms/step - loss: 6.8750\n",
      "Epoch 11/30\n",
      "1/1 [==============================] - 0s 1ms/step - loss: 6.2322\n",
      "Epoch 12/30\n",
      "1/1 [==============================] - 0s 2ms/step - loss: 5.8312\n",
      "Epoch 13/30\n",
      "1/1 [==============================] - 0s 2ms/step - loss: 5.5792\n",
      "Epoch 14/30\n",
      "1/1 [==============================] - 0s 1ms/step - loss: 5.4197\n",
      "Epoch 15/30\n",
      "1/1 [==============================] - 0s 1ms/step - loss: 5.3184\n",
      "Epoch 16/30\n",
      "1/1 [==============================] - 0s 2ms/step - loss: 5.2539\n",
      "Epoch 17/30\n",
      "1/1 [==============================] - 0s 2ms/step - loss: 5.2126\n",
      "Epoch 18/30\n",
      "1/1 [==============================] - 0s 1ms/step - loss: 5.1862\n",
      "Epoch 19/30\n",
      "1/1 [==============================] - 0s 1ms/step - loss: 5.1693\n",
      "Epoch 20/30\n",
      "1/1 [==============================] - 0s 2ms/step - loss: 5.1584\n",
      "Epoch 21/30\n",
      "1/1 [==============================] - 0s 2ms/step - loss: 5.1515\n",
      "Epoch 22/30\n",
      "1/1 [==============================] - 0s 2ms/step - loss: 5.1470\n",
      "Epoch 23/30\n",
      "1/1 [==============================] - 0s 2ms/step - loss: 5.1441\n",
      "Epoch 24/30\n",
      "1/1 [==============================] - 0s 2ms/step - loss: 5.1423\n",
      "Epoch 25/30\n",
      "1/1 [==============================] - 0s 2ms/step - loss: 5.1411\n",
      "Epoch 26/30\n",
      "1/1 [==============================] - 0s 2ms/step - loss: 5.1404\n",
      "Epoch 27/30\n",
      "1/1 [==============================] - 0s 2ms/step - loss: 5.1399\n",
      "Epoch 28/30\n",
      "1/1 [==============================] - 0s 2ms/step - loss: 5.1396\n",
      "Epoch 29/30\n",
      "1/1 [==============================] - 0s 2ms/step - loss: 5.1394\n",
      "Epoch 30/30\n",
      "1/1 [==============================] - 0s 2ms/step - loss: 5.1392\n"
     ]
    }
   ],
   "source": [
    "# Để huấn luyện mô hình ta gọi phương thức `train` với dữ liệu mẫu đã tạo được\n",
    "# Nếu bước `build` mô hình gọi đúng thì bước `train` sau sẽ thực hiện thành công\n",
    "hist = lr.train(x, y)"
   ]
  },
  {
   "cell_type": "code",
   "execution_count": 11,
   "id": "44d04e58-792d-40e7-b4c5-01b4e0a582df",
   "metadata": {
    "colab": {
     "base_uri": "https://localhost:8080/",
     "height": 493
    },
    "execution": {
     "iopub.execute_input": "2024-04-06T10:12:14.795469Z",
     "iopub.status.busy": "2024-04-06T10:12:14.794741Z",
     "iopub.status.idle": "2024-04-06T10:12:15.285124Z",
     "shell.execute_reply": "2024-04-06T10:12:15.282907Z"
    },
    "executionInfo": {
     "elapsed": 747,
     "status": "ok",
     "timestamp": 1712308974707,
     "user": {
      "displayName": "Nguyễn Đức Vũ",
      "userId": "07288779277842550568"
     },
     "user_tz": -420
    },
    "id": "44d04e58-792d-40e7-b4c5-01b4e0a582df",
    "nbgrader": {
     "grade": false,
     "grade_id": "cell-410570417a6e9fdd",
     "locked": true,
     "schema_version": 3,
     "solution": false,
     "task": false
    },
    "outputId": "b5a7385e-a1fd-451d-9ab9-f95b51ec6e3a",
    "tags": []
   },
   "outputs": [
    {
     "data": {
      "image/png": "[encoded data removed]",
      "text/plain": [
       "<Figure size 640x480 with 1 Axes>"
      ]
     },
     "metadata": {},
     "output_type": "display_data"
    }
   ],
   "source": [
    "# Hiển thị loss theo số epoch\n",
    "plt.plot(hist.history['loss'])\n",
    "plt.title('Model Loss')\n",
    "plt.ylabel('loss')\n",
    "plt.xlabel('epoch')\n",
    "plt.show()"
   ]
  },
  {
   "cell_type": "code",
   "execution_count": 12,
   "id": "3fb633a4-92b1-4d1d-a189-df8b64bca31d",
   "metadata": {
    "execution": {
     "iopub.execute_input": "2024-04-06T10:12:15.295209Z",
     "iopub.status.busy": "2024-04-06T10:12:15.293279Z",
     "iopub.status.idle": "2024-04-06T10:12:15.326391Z",
     "shell.execute_reply": "2024-04-06T10:12:15.324227Z"
    },
    "executionInfo": {
     "elapsed": 29,
     "status": "ok",
     "timestamp": 1712308974707,
     "user": {
      "displayName": "Nguyễn Đức Vũ",
      "userId": "07288779277842550568"
     },
     "user_tz": -420
    },
    "id": "3fb633a4-92b1-4d1d-a189-df8b64bca31d",
    "nbgrader": {
     "grade": false,
     "grade_id": "cell-bbe1e1b3f7109f67",
     "locked": true,
     "schema_version": 3,
     "solution": false,
     "task": false
    },
    "tags": []
   },
   "outputs": [
    {
     "name": "stderr",
     "output_type": "stream",
     "text": [
      "/Users/danny/.pyenv/versions/3.11.1/lib/python3.11/site-packages/keras/src/engine/training.py:3103: UserWarning: You are saving your model as an HDF5 file via `model.save()`. This file format is considered legacy. We recommend using instead the native Keras format, e.g. `model.save('my_model.keras')`.\n",
      "  saving_api.save_model(\n"
     ]
    }
   ],
   "source": [
    "# Sau khi đã huấn luyện, ta lưu mô hình về để sau này tái sử dụng\n",
    "# Lưu ý: hai phương thức lưu mô hình `save` và tải mô hình lên 'load'\n",
    "# được sử dụng khi muốn tái sử dụng nhiều lần mà KHÔNG CẦN PHẢI HUẤN LUYỆN LẠI\n",
    "lr.save('linear_regression_model.h5')"
   ]
  },
  {
   "cell_type": "markdown",
   "id": "70ea400e-07a0-42d5-a516-0d902674dc01",
   "metadata": {
    "id": "70ea400e-07a0-42d5-a516-0d902674dc01"
   },
   "source": [
    "## 5. Trực quan hóa mô hình và dự đoán với dữ liệu test"
   ]
  },
  {
   "cell_type": "code",
   "execution_count": 13,
   "id": "734b3a8b-8f30-4acb-a92a-471ee4c3b052",
   "metadata": {
    "execution": {
     "iopub.execute_input": "2024-04-06T10:12:15.335776Z",
     "iopub.status.busy": "2024-04-06T10:12:15.333965Z",
     "iopub.status.idle": "2024-04-06T10:12:15.423359Z",
     "shell.execute_reply": "2024-04-06T10:12:15.421034Z"
    },
    "executionInfo": {
     "elapsed": 28,
     "status": "ok",
     "timestamp": 1712308974707,
     "user": {
      "displayName": "Nguyễn Đức Vũ",
      "userId": "07288779277842550568"
     },
     "user_tz": -420
    },
    "id": "734b3a8b-8f30-4acb-a92a-471ee4c3b052",
    "nbgrader": {
     "grade": false,
     "grade_id": "cell-6caaefefab9d0f32",
     "locked": true,
     "schema_version": 3,
     "solution": false,
     "task": false
    },
    "tags": []
   },
   "outputs": [
    {
     "name": "stderr",
     "output_type": "stream",
     "text": [
      "WARNING:absl:At this time, the v2.11+ optimizer `tf.keras.optimizers.SGD` runs slowly on M1/M2 Macs, please use the legacy Keras optimizer instead, located at `tf.keras.optimizers.legacy.SGD`.\n"
     ]
    }
   ],
   "source": [
    "# Khởi tạo đối tượng mới và gọi phương thức load mô hình từ file\n",
    "pretrain_lr = LinearRegression()\n",
    "pretrain_lr.load('linear_regression_model.h5')"
   ]
  },
  {
   "cell_type": "code",
   "execution_count": 14,
   "id": "dd9a079b-2dd4-49f6-b766-d16fe4358b55",
   "metadata": {
    "colab": {
     "base_uri": "https://localhost:8080/"
    },
    "execution": {
     "iopub.execute_input": "2024-04-06T10:12:15.433735Z",
     "iopub.status.busy": "2024-04-06T10:12:15.431560Z",
     "iopub.status.idle": "2024-04-06T10:12:15.447377Z",
     "shell.execute_reply": "2024-04-06T10:12:15.445379Z"
    },
    "executionInfo": {
     "elapsed": 28,
     "status": "ok",
     "timestamp": 1712308974708,
     "user": {
      "displayName": "Nguyễn Đức Vũ",
      "userId": "07288779277842550568"
     },
     "user_tz": -420
    },
    "id": "dd9a079b-2dd4-49f6-b766-d16fe4358b55",
    "nbgrader": {
     "grade": false,
     "grade_id": "cell-4c57bf1e1c1fe3c9",
     "locked": true,
     "schema_version": 3,
     "solution": false,
     "task": false
    },
    "outputId": "6bc57b05-fc75-4c1e-bdda-3c0d9e54b631",
    "tags": []
   },
   "outputs": [
    {
     "name": "stdout",
     "output_type": "stream",
     "text": [
      "Tham số tối ưu: \n",
      "[array([[-2.9647195]], dtype=float32), array([9.445695], dtype=float32)]\n",
      "Trong đó: \n",
      "   - bias (hệ số tự do) :  9.445695\n",
      "   - theta (hệ số cho dữ liệu đầu vào):  -2.9647195\n"
     ]
    }
   ],
   "source": [
    "theta = pretrain_lr.get_weights()\n",
    "print('Tham số tối ưu: ')\n",
    "print(theta)\n",
    "bias = theta[1][0] # bias chính là theta0 trong mô hình gốc\n",
    "theta1 = theta[0][0][0]\n",
    "print('Trong đó: ')\n",
    "print('   - bias (hệ số tự do) : ', bias)\n",
    "print('   - theta (hệ số cho dữ liệu đầu vào): ', theta1)"
   ]
  },
  {
   "cell_type": "markdown",
   "id": "5b3d5093-1ed8-4366-a430-950609438930",
   "metadata": {
    "id": "5b3d5093-1ed8-4366-a430-950609438930",
    "nbgrader": {
     "grade": false,
     "grade_id": "cell-e2cbb740bcdc77a8",
     "locked": true,
     "schema_version": 3,
     "solution": false,
     "task": false
    },
    "tags": []
   },
   "source": [
    "Như ta có thể thấy, tham số tối ưu xấp xỉ với mô hình gốc được sử dụng để khởi tạo dữ liệu:\n",
    "\n",
    "`y = -3*x + 10 + np.random.normal(0, std, n)`"
   ]
  },
  {
   "cell_type": "code",
   "execution_count": 15,
   "id": "6d32360d-f18c-4c90-85af-1a4df14d8ae6",
   "metadata": {
    "colab": {
     "base_uri": "https://localhost:8080/",
     "height": 451
    },
    "execution": {
     "iopub.execute_input": "2024-04-06T10:12:15.456648Z",
     "iopub.status.busy": "2024-04-06T10:12:15.454894Z",
     "iopub.status.idle": "2024-04-06T10:12:15.785236Z",
     "shell.execute_reply": "2024-04-06T10:12:15.782996Z"
    },
    "executionInfo": {
     "elapsed": 737,
     "status": "ok",
     "timestamp": 1712308975438,
     "user": {
      "displayName": "Nguyễn Đức Vũ",
      "userId": "07288779277842550568"
     },
     "user_tz": -420
    },
    "id": "6d32360d-f18c-4c90-85af-1a4df14d8ae6",
    "nbgrader": {
     "grade": false,
     "grade_id": "cell-1ad67705d50f701d",
     "locked": true,
     "schema_version": 3,
     "solution": false,
     "task": false
    },
    "outputId": "da3e2152-6a07-47c9-a55c-c49ace3e17a9",
    "tags": []
   },
   "outputs": [
    {
     "data": {
      "image/png": "[encoded data removed]",
      "text/plain": [
       "<Figure size 640x480 with 1 Axes>"
      ]
     },
     "metadata": {},
     "output_type": "display_data"
    }
   ],
   "source": [
    "# Trực quan hóa dữ liệu và mô hình sau khi huấn luyện\n",
    "plt.plot(x, y, 'ro')\n",
    "\n",
    "# Trực quan hóa mô hình\n",
    "plt.plot([x[0],x[-1]], [theta1*x[0]+bias, theta1*x[-1]+bias])\n",
    "plt.show()"
   ]
  },
  {
   "cell_type": "markdown",
   "id": "f6d90f1f-8ff1-49f7-9c4b-a099ca7bfed8",
   "metadata": {
    "id": "f6d90f1f-8ff1-49f7-9c4b-a099ca7bfed8",
    "nbgrader": {
     "grade": false,
     "grade_id": "cell-64f389b662b21977",
     "locked": true,
     "schema_version": 3,
     "solution": false,
     "task": false
    },
    "tags": []
   },
   "source": [
    "Như vậy ta có thể thấy rằng, các hệ số đã huấn luyện tương ứng đã tạo thành phương trình đường thẳng đi qua các điểm mẫu huấn luyện.\n",
    "\n",
    "Tiếp theo, ta sẽ thử nghiệm với dữ liệu x_test với 2 trường hợp: -4, 0 và 4.\n",
    "\n",
    "Dựa trên biểu đồ, ta đoán rằng y_test sẽ nhận giá trị lân cận các giá trị\n",
    "trên 20, xấp xỉ 10 và 0."
   ]
  },
  {
   "cell_type": "code",
   "execution_count": 16,
   "id": "253408c5-0133-42c6-bd35-140d7b8602d7",
   "metadata": {
    "colab": {
     "base_uri": "https://localhost:8080/"
    },
    "execution": {
     "iopub.execute_input": "2024-04-06T10:12:15.795057Z",
     "iopub.status.busy": "2024-04-06T10:12:15.793095Z",
     "iopub.status.idle": "2024-04-06T10:12:16.088746Z",
     "shell.execute_reply": "2024-04-06T10:12:16.086185Z"
    },
    "executionInfo": {
     "elapsed": 33,
     "status": "ok",
     "timestamp": 1712308975439,
     "user": {
      "displayName": "Nguyễn Đức Vũ",
      "userId": "07288779277842550568"
     },
     "user_tz": -420
    },
    "id": "253408c5-0133-42c6-bd35-140d7b8602d7",
    "nbgrader": {
     "grade": false,
     "grade_id": "cell-d893fdd4cbcd3c2c",
     "locked": true,
     "schema_version": 3,
     "solution": false,
     "task": false
    },
    "outputId": "928c2fe6-229e-4e7e-deed-0184069db26d",
    "tags": []
   },
   "outputs": [
    {
     "name": "stdout",
     "output_type": "stream",
     "text": [
      "1/1 [==============================] - 0s 45ms/step\n",
      "Các giá trị mà mô hình hồi quy dự đoán trên x_test:  [-4, 0, 4]\n",
      "[[21.304573 ]\n",
      " [ 9.445695 ]\n",
      " [-2.4131832]]\n"
     ]
    }
   ],
   "source": [
    "x_test = [-4, 0, 4]\n",
    "y_pred = pretrain_lr.predict(x_test)\n",
    "\n",
    "print(\"Các giá trị mà mô hình hồi quy dự đoán trên x_test: \", x_test)\n",
    "print(y_pred)"
   ]
  },
  {
   "cell_type": "markdown",
   "id": "dc2861f5-840e-4ee8-8be6-c8010feb0cee",
   "metadata": {
    "id": "dc2861f5-840e-4ee8-8be6-c8010feb0cee",
    "nbgrader": {
     "grade": false,
     "grade_id": "cell-cbe9714134925bf2",
     "locked": true,
     "schema_version": 3,
     "solution": false,
     "task": false
    },
    "tags": []
   },
   "source": [
    "Các giá trị này khá khớp với giá trị dự đoán ở trên."
   ]
  },
  {
   "cell_type": "markdown",
   "id": "PfhpTe84YdAM",
   "metadata": {
    "id": "PfhpTe84YdAM"
   },
   "source": [
    "# PHẦN 2 - CÀI ĐẶT MÔ HÌNH LOGISTIC REGRESSION VỚI KERAS"
   ]
  },
  {
   "cell_type": "markdown",
   "id": "J9scHu9VYfJk",
   "metadata": {
    "id": "J9scHu9VYfJk"
   },
   "source": [
    "Một mô hình máy học cần có đủ ít nhất 7 phương thức sau:\n",
    "- `__init__`: hàm constructor trong hướng đối tượng, được sử dụng để khởi tạo các tham số mặc định hoặc tham số bắt đầu một mô hình. Trong những bài tập đầu tiên, để đơn giản constructor sẽ không sử dụng.\n",
    "- `build`: xây dựng kiến trúc của mô hình\n",
    "- `train`: bắt đầu quá trình huấn luyện mô hình\n",
    "- `save`: lưu lại mô hình sau khi đã huấn luyện\n",
    "- `load`: load lên mô hình từ file đã huấn luyện (pretrained)\n",
    "- `summary`: in tóm tắt kiến trúc mô hình\n",
    "- `predict`: dự đoán giá trị output từ dữ liệu đầu vào"
   ]
  },
  {
   "cell_type": "code",
   "execution_count": 17,
   "id": "-J2Vtt_wUpUT",
   "metadata": {
    "execution": {
     "iopub.execute_input": "2024-04-06T10:12:16.098586Z",
     "iopub.status.busy": "2024-04-06T10:12:16.097726Z",
     "iopub.status.idle": "2024-04-06T10:12:16.111629Z",
     "shell.execute_reply": "2024-04-06T10:12:16.109170Z"
    },
    "executionInfo": {
     "elapsed": 404,
     "status": "ok",
     "timestamp": 1712308975837,
     "user": {
      "displayName": "Nguyễn Đức Vũ",
      "userId": "07288779277842550568"
     },
     "user_tz": -420
    },
    "id": "-J2Vtt_wUpUT"
   },
   "outputs": [],
   "source": [
    "# Mô hình cài đặt tổng quát bao gồm 7 phương thức cơ bản\n",
    "# Lưu ý: mô hình này chỉ mang tính gợi ý, không bắt buộc\n",
    "# Tuy nhiên, trong phần bài tập cần tuân theo các tên phương thức này\n",
    "class MyModel:\n",
    "    # constructor\n",
    "    def __init__(self):\n",
    "        return None\n",
    "\n",
    "    # Implement architecture of the model\n",
    "    def build(self):\n",
    "        return None\n",
    "\n",
    "    # Train the defined model with training and validation data\n",
    "    def train(self):\n",
    "        return None\n",
    "\n",
    "    # Save the trained model to file\n",
    "    def save(self, model_path):\n",
    "        return None\n",
    "\n",
    "    # Load pretrained model from file\n",
    "    def load(self):\n",
    "        return None\n",
    "\n",
    "    # Visualize your model\n",
    "    def summary(self):\n",
    "        return None\n",
    "\n",
    "    # Apply your model with new input data\n",
    "    def predict(self):\n",
    "        return None"
   ]
  },
  {
   "cell_type": "markdown",
   "id": "Ap0HnJP9YmwG",
   "metadata": {
    "id": "Ap0HnJP9YmwG"
   },
   "source": [
    "## 1. Import các thư viện Keras\n",
    "\n",
    "Đầu tiên, ta sẽ import các thư viện, module, hàm của `Keras`:\n",
    "- `Input`: để nhận dữ liệu đầu vào cho mô hình\n",
    "- `Dense`: hay còn gọi là lớp Fully Connected (Lớp kết nối đầy đủ), một thành phần quan trọng của các mô hình dựa trên mạng Neural Network.\n",
    "- `Model`: đây là lớp đối tượng mô hình được sử dụng để đóng gói lớp đầu vào, đầu ra, sau đó huấn luyện với phương thức `fit` và dự đoán kết quả với `predict`.\n",
    "- `load_model`: hàm sử dụng để load mô hình lên từ file"
   ]
  },
  {
   "cell_type": "code",
   "execution_count": 18,
   "id": "NHbyXVt5Ykpl",
   "metadata": {
    "execution": {
     "iopub.execute_input": "2024-04-06T10:12:16.120394Z",
     "iopub.status.busy": "2024-04-06T10:12:16.119296Z",
     "iopub.status.idle": "2024-04-06T10:12:16.129652Z",
     "shell.execute_reply": "2024-04-06T10:12:16.127151Z"
    },
    "executionInfo": {
     "elapsed": 54,
     "status": "ok",
     "timestamp": 1712308975837,
     "user": {
      "displayName": "Nguyễn Đức Vũ",
      "userId": "07288779277842550568"
     },
     "user_tz": -420
    },
    "id": "NHbyXVt5Ykpl"
   },
   "outputs": [],
   "source": [
    "from keras.layers import Input, Dense\n",
    "from keras import Model\n",
    "import tensorflow as tf\n",
    "from keras.models import load_model"
   ]
  },
  {
   "cell_type": "markdown",
   "id": "5MgrsybzYq3K",
   "metadata": {
    "id": "5MgrsybzYq3K"
   },
   "source": [
    "## 2. Cài đặt mô hình Logistic Regression\n",
    "Tiếp theo, ta sẽ dựa trên khung đối tượng `MyModel` đã trình bày ở mục trước để tiến hành cài đặt mô hình **Logistic Regression**. Phương thức chính mà bài tập này cần thực hiện là `def build()`. Các phương thức còn lại đã được cài đặt sẵn, các bạn cần đọc, hiểu ý nghĩa và cách thức sử dụng về sau.\n",
    "\n",
    "<p align=\"center\">\n",
    "  <img src=\"./images/LogisticReg.png\" />\n",
    "</p>"
   ]
  },
  {
   "cell_type": "code",
   "execution_count": 19,
   "id": "jdzrovIlYrN6",
   "metadata": {
    "execution": {
     "iopub.execute_input": "2024-04-06T10:12:16.138436Z",
     "iopub.status.busy": "2024-04-06T10:12:16.137587Z",
     "iopub.status.idle": "2024-04-06T10:12:16.157751Z",
     "shell.execute_reply": "2024-04-06T10:12:16.155296Z"
    },
    "executionInfo": {
     "elapsed": 38,
     "status": "ok",
     "timestamp": 1712308975838,
     "user": {
      "displayName": "Nguyễn Đức Vũ",
      "userId": "07288779277842550568"
     },
     "user_tz": -420
    },
    "id": "jdzrovIlYrN6"
   },
   "outputs": [],
   "source": [
    "# Logistic Regression\n",
    "class LogisticRegression:\n",
    "    def __init__(self): # Self is similar to your 'this' pointer in C++\n",
    "        return None\n",
    "\n",
    "    def build(self, input_dim):\n",
    "\n",
    "        self.model = None\n",
    "        # Hãy cài đặt để định nghĩa KIẾN TRÚC MÔ HÌNH và lưu ở thuộc tính `self.model`\n",
    "        # với các biến đối tượng sau:\n",
    "        #  - tạo biến `input` với lớp đối tượng `Input` của Keras,\n",
    "        #    truyền vào kích thước đầu vào `input_dim`\n",
    "        #  - tạo biến `output` với lớp đối tượng `Dense` của Keras,\n",
    "        #    truyền vào các tham số:  kích thước output, có sử dụng bias,\n",
    "        #    CÓ SỬ DỤNG hàm activation là `sigmoid`\n",
    "        # Sau bước này, self.model sẽ đóng gói 2 biến `input` và `output` để tạo thành mô hình\n",
    "        ### BEGIN SOLUTION\n",
    "        input = Input(shape=(input_dim,))\n",
    "        output = Dense(1, use_bias=True, activation='sigmoid')(input)\n",
    "        ### END SOLUTION\n",
    "        self.model = Model(input, output)\n",
    "        return self.model\n",
    "\n",
    "    def train(self, x_train, y_train):\n",
    "        opt = tf.keras.optimizers.SGD(learning_rate=0.1) # Stochastic Gradient Descent\n",
    "        self.model.compile(optimizer=opt, loss='binary_crossentropy') # BCE loss\n",
    "        return self.model.fit(x_train, y_train, epochs=50)\n",
    "\n",
    "    def save(self, model_file):\n",
    "        return self.model.save(model_file)\n",
    "\n",
    "    def load(self, model_file):\n",
    "        self.model = load_model(model_file)\n",
    "\n",
    "    def summary(self):\n",
    "        self.model.summary()\n",
    "\n",
    "    def predict(self, x_test):\n",
    "        return self.model.predict(x_test)\n",
    "\n",
    "    def get_weights(self):\n",
    "        return self.model.layers[1].get_weights()"
   ]
  },
  {
   "cell_type": "markdown",
   "id": "fZem401-ZAuD",
   "metadata": {
    "id": "fZem401-ZAuD"
   },
   "source": [
    "Tiếp theo, ta sẽ khởi tạo đối tượng LogisticRegression và kiểm tra thử xem phương `build` đã cài đặt chính xác chưa."
   ]
  },
  {
   "cell_type": "code",
   "execution_count": 20,
   "id": "U_wNpI4pY9TO",
   "metadata": {
    "colab": {
     "base_uri": "https://localhost:8080/"
    },
    "execution": {
     "iopub.execute_input": "2024-04-06T10:12:16.166176Z",
     "iopub.status.busy": "2024-04-06T10:12:16.165326Z",
     "iopub.status.idle": "2024-04-06T10:12:16.216424Z",
     "shell.execute_reply": "2024-04-06T10:12:16.213993Z"
    },
    "executionInfo": {
     "elapsed": 37,
     "status": "ok",
     "timestamp": 1712308975838,
     "user": {
      "displayName": "Nguyễn Đức Vũ",
      "userId": "07288779277842550568"
     },
     "user_tz": -420
    },
    "id": "U_wNpI4pY9TO",
    "outputId": "f698bed0-04c3-49ca-9f9c-962e618a1113"
   },
   "outputs": [
    {
     "data": {
      "text/plain": [
       "<keras.src.engine.functional.Functional at 0x3600a4450>"
      ]
     },
     "execution_count": 20,
     "metadata": {},
     "output_type": "execute_result"
    }
   ],
   "source": [
    "lr = LogisticRegression()\n",
    "# Trong ví dụ này, ta sẽ khởi tạo input là một vector 1000 chiều:\n",
    "lr.build(1000)"
   ]
  },
  {
   "cell_type": "code",
   "execution_count": 21,
   "id": "JAXMyvv3ZDJm",
   "metadata": {
    "execution": {
     "iopub.execute_input": "2024-04-06T10:12:16.225145Z",
     "iopub.status.busy": "2024-04-06T10:12:16.224248Z",
     "iopub.status.idle": "2024-04-06T10:12:16.242227Z",
     "shell.execute_reply": "2024-04-06T10:12:16.238257Z"
    },
    "executionInfo": {
     "elapsed": 34,
     "status": "ok",
     "timestamp": 1712308975838,
     "user": {
      "displayName": "Nguyễn Đức Vũ",
      "userId": "07288779277842550568"
     },
     "user_tz": -420
    },
    "id": "JAXMyvv3ZDJm"
   },
   "outputs": [],
   "source": [
    "# Public Test\n",
    "assert len(lr.model.layers) == 2\n",
    "assert str(type(lr.model.layers[0])).endswith(\"input_layer.InputLayer'>\") == True\n",
    "assert str(type(lr.model.layers[1])).endswith(\"core.dense.Dense'>\") == True\n",
    "assert lr.model.layers[0].input_shape[0][1] == 1000\n",
    "assert lr.model.layers[1].activation(0.0).numpy() == 0.5"
   ]
  },
  {
   "cell_type": "markdown",
   "id": "Km1UuqZ1ZHNP",
   "metadata": {
    "id": "Km1UuqZ1ZHNP"
   },
   "source": [
    "## 3. Tạo dữ liệu mẫu (toy example)\n",
    "Bước tiếp theo, ta sẽ tiến hành tạo mẫu dữ liệu để huấn luyện và kiểm thử.\n",
    "\n",
    "Dữ liệu được tạo ra là 02 cụm điểm ngẫu nhiên xung quanh hai tâm cụm:\n",
    "- [1, 5]\n",
    "- [5, 1]\n",
    "\n",
    "Lưu ý rằng, hai điểm này đủ cách xa để khi các điểm ngẫu nhiên phát sinh không giao thoa với nhau."
   ]
  },
  {
   "cell_type": "code",
   "execution_count": 22,
   "id": "-c5Rtn2rZFkm",
   "metadata": {
    "colab": {
     "base_uri": "https://localhost:8080/",
     "height": 467
    },
    "execution": {
     "iopub.execute_input": "2024-04-06T10:12:16.322028Z",
     "iopub.status.busy": "2024-04-06T10:12:16.321163Z",
     "iopub.status.idle": "2024-04-06T10:12:16.807365Z",
     "shell.execute_reply": "2024-04-06T10:12:16.804650Z"
    },
    "executionInfo": {
     "elapsed": 897,
     "status": "ok",
     "timestamp": 1712308976716,
     "user": {
      "displayName": "Nguyễn Đức Vũ",
      "userId": "07288779277842550568"
     },
     "user_tz": -420
    },
    "id": "-c5Rtn2rZFkm",
    "outputId": "6d9ca062-0c94-49dc-bb24-a362e021ffee"
   },
   "outputs": [
    {
     "data": {
      "text/plain": [
       "[<matplotlib.lines.Line2D at 0x35ffe7a90>]"
      ]
     },
     "execution_count": 22,
     "metadata": {},
     "output_type": "execute_result"
    },
    {
     "data": {
      "image/png": "[encoded data removed]",
      "text/plain": [
       "<Figure size 640x480 with 1 Axes>"
      ]
     },
     "metadata": {},
     "output_type": "display_data"
    }
   ],
   "source": [
    "import numpy as np\n",
    "import matplotlib.pyplot as plt\n",
    "\n",
    "n_sample = 10\n",
    "\n",
    "# Tạo bộ dữ  liệu gồm 2 tập đỏ và xanh\n",
    "red_points = np.random.randn(n_sample, 2) + np.array([[1,5]])\n",
    "blue_points = np.random.randn(n_sample, 2) + np.array([[5,1]])\n",
    "x_train = np.concatenate((red_points, blue_points))\n",
    "y_train = np.concatenate((np.ones(n_sample), np.zeros(n_sample)))\n",
    "\n",
    "# Tạo tập dữ liệu validation\n",
    "red_points_test = np.random.randn(n_sample, 2) + np.array([[1,5]])\n",
    "blue_points_test = np.random.randn(n_sample, 2) + np.array([[5,1]])\n",
    "x_test = np.concatenate((red_points_test, blue_points_test))\n",
    "y_test = np.concatenate((np.ones(n_sample), np.zeros(n_sample)))\n",
    "\n",
    "# Trực quan hóa dữ liệu bằng các hình tròn màu đỏ, xanh\n",
    "plt.plot(red_points[:,0], red_points[:,1], 'ro')\n",
    "plt.plot(blue_points[:,0], blue_points[:,1], 'bo')"
   ]
  },
  {
   "cell_type": "code",
   "execution_count": 23,
   "id": "S41NGr9lZJw1",
   "metadata": {
    "colab": {
     "base_uri": "https://localhost:8080/"
    },
    "execution": {
     "iopub.execute_input": "2024-04-06T10:12:16.816346Z",
     "iopub.status.busy": "2024-04-06T10:12:16.815454Z",
     "iopub.status.idle": "2024-04-06T10:12:16.900280Z",
     "shell.execute_reply": "2024-04-06T10:12:16.897585Z"
    },
    "executionInfo": {
     "elapsed": 32,
     "status": "ok",
     "timestamp": 1712308976717,
     "user": {
      "displayName": "Nguyễn Đức Vũ",
      "userId": "07288779277842550568"
     },
     "user_tz": -420
    },
    "id": "S41NGr9lZJw1",
    "outputId": "cc65f1d3-ba78-46e8-b26d-c49cb0769706"
   },
   "outputs": [
    {
     "name": "stdout",
     "output_type": "stream",
     "text": [
      "Kiến trúc của mô hình Logistic Regression: \n",
      "Model: \"model_3\"\n",
      "_________________________________________________________________\n",
      " Layer (type)                Output Shape              Param #   \n",
      "=================================================================\n",
      " input_4 (InputLayer)        [(None, 2)]               0         \n",
      "                                                                 \n",
      " dense_3 (Dense)             (None, 1)                 3         \n",
      "                                                                 \n",
      "=================================================================\n",
      "Total params: 3 (12.00 Byte)\n",
      "Trainable params: 3 (12.00 Byte)\n",
      "Non-trainable params: 0 (0.00 Byte)\n",
      "_________________________________________________________________\n"
     ]
    }
   ],
   "source": [
    "lr = LogisticRegression()\n",
    "\n",
    "# Hãy gọi phương thức `build` cho đối tượng `lr` và truyền tham số đầu vào\n",
    "# tương ứng với dữ liệu train đã phát sinh ở code block trên\n",
    "# Theo bạn, `input_dim` bằng bao nhiêu?\n",
    "\n",
    "### BEGIN SOLUTION\n",
    "lr.build(2)\n",
    "### END SOLUTION\n",
    "\n",
    "# Để hiển thị kiến trúc của mô hình ta gọi phương thức `summary`\n",
    "print(\"Kiến trúc của mô hình Logistic Regression: \")\n",
    "lr.summary()"
   ]
  },
  {
   "cell_type": "code",
   "execution_count": 24,
   "id": "_MXAKQwCZNFG",
   "metadata": {
    "colab": {
     "base_uri": "https://localhost:8080/"
    },
    "execution": {
     "iopub.execute_input": "2024-04-06T10:12:16.936936Z",
     "iopub.status.busy": "2024-04-06T10:12:16.936040Z",
     "iopub.status.idle": "2024-04-06T10:12:18.430924Z",
     "shell.execute_reply": "2024-04-06T10:12:18.428281Z"
    },
    "executionInfo": {
     "elapsed": 3693,
     "status": "ok",
     "timestamp": 1712308980753,
     "user": {
      "displayName": "Nguyễn Đức Vũ",
      "userId": "07288779277842550568"
     },
     "user_tz": -420
    },
    "id": "_MXAKQwCZNFG",
    "outputId": "72975a54-db63-41de-eace-ae4258fa534f"
   },
   "outputs": [
    {
     "name": "stderr",
     "output_type": "stream",
     "text": [
      "WARNING:absl:At this time, the v2.11+ optimizer `tf.keras.optimizers.SGD` runs slowly on M1/M2 Macs, please use the legacy Keras optimizer instead, located at `tf.keras.optimizers.legacy.SGD`.\n"
     ]
    },
    {
     "name": "stdout",
     "output_type": "stream",
     "text": [
      "Epoch 1/50\n",
      "1/1 [==============================] - 0s 116ms/step - loss: 0.6189\n",
      "Epoch 2/50\n",
      "1/1 [==============================] - 0s 1ms/step - loss: 0.3565\n",
      "Epoch 3/50\n",
      "1/1 [==============================] - 0s 2ms/step - loss: 0.2323\n",
      "Epoch 4/50\n",
      "1/1 [==============================] - 0s 2ms/step - loss: 0.1719\n",
      "Epoch 5/50\n",
      "1/1 [==============================] - 0s 2ms/step - loss: 0.1392\n",
      "Epoch 6/50\n",
      "1/1 [==============================] - 0s 2ms/step - loss: 0.1194\n",
      "Epoch 7/50\n",
      "1/1 [==============================] - 0s 2ms/step - loss: 0.1064\n",
      "Epoch 8/50\n",
      "1/1 [==============================] - 0s 2ms/step - loss: 0.0973\n",
      "Epoch 9/50\n",
      "1/1 [==============================] - 0s 2ms/step - loss: 0.0905\n",
      "Epoch 10/50\n",
      "1/1 [==============================] - 0s 1ms/step - loss: 0.0853\n",
      "Epoch 11/50\n",
      "1/1 [==============================] - 0s 2ms/step - loss: 0.0811\n",
      "Epoch 12/50\n",
      "1/1 [==============================] - 0s 2ms/step - loss: 0.0776\n",
      "Epoch 13/50\n",
      "1/1 [==============================] - 0s 1ms/step - loss: 0.0746\n",
      "Epoch 14/50\n",
      "1/1 [==============================] - 0s 1ms/step - loss: 0.0721\n",
      "Epoch 15/50\n",
      "1/1 [==============================] - 0s 2ms/step - loss: 0.0698\n",
      "Epoch 16/50\n",
      "1/1 [==============================] - 0s 2ms/step - loss: 0.0677\n",
      "Epoch 17/50\n",
      "1/1 [==============================] - 0s 2ms/step - loss: 0.0659\n",
      "Epoch 18/50\n",
      "1/1 [==============================] - 0s 2ms/step - loss: 0.0642\n",
      "Epoch 19/50\n",
      "1/1 [==============================] - 0s 2ms/step - loss: 0.0626\n",
      "Epoch 20/50\n",
      "1/1 [==============================] - 0s 2ms/step - loss: 0.0611\n",
      "Epoch 21/50\n",
      "1/1 [==============================] - 0s 2ms/step - loss: 0.0598\n",
      "Epoch 22/50\n",
      "1/1 [==============================] - 0s 2ms/step - loss: 0.0585\n",
      "Epoch 23/50\n",
      "1/1 [==============================] - 0s 2ms/step - loss: 0.0573\n",
      "Epoch 24/50\n",
      "1/1 [==============================] - 0s 2ms/step - loss: 0.0561\n",
      "Epoch 25/50\n",
      "1/1 [==============================] - 0s 2ms/step - loss: 0.0551\n",
      "Epoch 26/50\n",
      "1/1 [==============================] - 0s 3ms/step - loss: 0.0540\n",
      "Epoch 27/50\n",
      "1/1 [==============================] - 0s 2ms/step - loss: 0.0530\n",
      "Epoch 28/50\n",
      "1/1 [==============================] - 0s 3ms/step - loss: 0.0521\n",
      "Epoch 29/50\n",
      "1/1 [==============================] - 0s 3ms/step - loss: 0.0512\n",
      "Epoch 30/50\n",
      "1/1 [==============================] - 0s 2ms/step - loss: 0.0503\n",
      "Epoch 31/50\n",
      "1/1 [==============================] - 0s 2ms/step - loss: 0.0495\n",
      "Epoch 32/50\n",
      "1/1 [==============================] - 0s 2ms/step - loss: 0.0487\n",
      "Epoch 33/50\n",
      "1/1 [==============================] - 0s 2ms/step - loss: 0.0479\n",
      "Epoch 34/50\n",
      "1/1 [==============================] - 0s 2ms/step - loss: 0.0472\n",
      "Epoch 35/50\n",
      "1/1 [==============================] - 0s 1ms/step - loss: 0.0465\n",
      "Epoch 36/50\n",
      "1/1 [==============================] - 0s 2ms/step - loss: 0.0458\n",
      "Epoch 37/50\n",
      "1/1 [==============================] - 0s 2ms/step - loss: 0.0451\n",
      "Epoch 38/50\n",
      "1/1 [==============================] - 0s 2ms/step - loss: 0.0445\n",
      "Epoch 39/50\n",
      "1/1 [==============================] - 0s 2ms/step - loss: 0.0439\n",
      "Epoch 40/50\n",
      "1/1 [==============================] - 0s 2ms/step - loss: 0.0433\n",
      "Epoch 41/50\n",
      "1/1 [==============================] - 0s 2ms/step - loss: 0.0427\n",
      "Epoch 42/50\n",
      "1/1 [==============================] - 0s 2ms/step - loss: 0.0421\n",
      "Epoch 43/50\n",
      "1/1 [==============================] - 0s 2ms/step - loss: 0.0416\n",
      "Epoch 44/50\n",
      "1/1 [==============================] - 0s 2ms/step - loss: 0.0410\n",
      "Epoch 45/50\n",
      "1/1 [==============================] - 0s 2ms/step - loss: 0.0405\n",
      "Epoch 46/50\n",
      "1/1 [==============================] - 0s 2ms/step - loss: 0.0400\n",
      "Epoch 47/50\n",
      "1/1 [==============================] - 0s 3ms/step - loss: 0.0395\n",
      "Epoch 48/50\n",
      "1/1 [==============================] - 0s 2ms/step - loss: 0.0391\n",
      "Epoch 49/50\n",
      "1/1 [==============================] - 0s 1ms/step - loss: 0.0386\n",
      "Epoch 50/50\n",
      "1/1 [==============================] - 0s 3ms/step - loss: 0.0381\n"
     ]
    }
   ],
   "source": [
    "# Để huấn luyện mô hình ta gọi phương thức `train` với dữ liệu mẫu đã tạo được\n",
    "# Nếu bước `build` mô hình gọi đúng thì bước `train` sau sẽ thực hiện thành công\n",
    "hist = lr.train(x_train, y_train)"
   ]
  },
  {
   "cell_type": "code",
   "execution_count": 25,
   "id": "DXpSoCTXZOY3",
   "metadata": {
    "colab": {
     "base_uri": "https://localhost:8080/",
     "height": 493
    },
    "execution": {
     "iopub.execute_input": "2024-04-06T10:12:18.441285Z",
     "iopub.status.busy": "2024-04-06T10:12:18.440513Z",
     "iopub.status.idle": "2024-04-06T10:12:18.941578Z",
     "shell.execute_reply": "2024-04-06T10:12:18.939337Z"
    },
    "executionInfo": {
     "elapsed": 773,
     "status": "ok",
     "timestamp": 1712308981523,
     "user": {
      "displayName": "Nguyễn Đức Vũ",
      "userId": "07288779277842550568"
     },
     "user_tz": -420
    },
    "id": "DXpSoCTXZOY3",
    "outputId": "9091dab2-4e39-48b7-c4cb-2393d840ae5c"
   },
   "outputs": [
    {
     "data": {
      "image/png": "[encoded data removed]",
      "text/plain": [
       "<Figure size 640x480 with 1 Axes>"
      ]
     },
     "metadata": {},
     "output_type": "display_data"
    }
   ],
   "source": [
    "# Hiển thị loss theo số epoch\n",
    "plt.plot(hist.history['loss'])\n",
    "plt.title('Model Loss')\n",
    "plt.ylabel('loss')\n",
    "plt.xlabel('epoch')\n",
    "plt.show()"
   ]
  },
  {
   "cell_type": "code",
   "execution_count": 26,
   "id": "wN3Ea__sZR5E",
   "metadata": {
    "execution": {
     "iopub.execute_input": "2024-04-06T10:12:18.950996Z",
     "iopub.status.busy": "2024-04-06T10:12:18.949114Z",
     "iopub.status.idle": "2024-04-06T10:12:18.978529Z",
     "shell.execute_reply": "2024-04-06T10:12:18.976344Z"
    },
    "executionInfo": {
     "elapsed": 38,
     "status": "ok",
     "timestamp": 1712308981524,
     "user": {
      "displayName": "Nguyễn Đức Vũ",
      "userId": "07288779277842550568"
     },
     "user_tz": -420
    },
    "id": "wN3Ea__sZR5E"
   },
   "outputs": [
    {
     "name": "stderr",
     "output_type": "stream",
     "text": [
      "/Users/danny/.pyenv/versions/3.11.1/lib/python3.11/site-packages/keras/src/engine/training.py:3103: UserWarning: You are saving your model as an HDF5 file via `model.save()`. This file format is considered legacy. We recommend using instead the native Keras format, e.g. `model.save('my_model.keras')`.\n",
      "  saving_api.save_model(\n"
     ]
    }
   ],
   "source": [
    "# Sau khi đã huấn luyện, ta lưu mô hình về để sau này tái sử dụng\n",
    "# Lưu ý: hai phương thức lưu mô hình `save` và tải mô hình lên 'load'\n",
    "# được sử dụng khi muốn tái sử dụng nhiều lần mà KHÔNG CẦN PHẢI HUẤN LUYỆN LẠI\n",
    "lr.save('logistic_regression_model.h5')"
   ]
  },
  {
   "cell_type": "markdown",
   "id": "7mi8vdRRZWlm",
   "metadata": {
    "id": "7mi8vdRRZWlm"
   },
   "source": [
    "## 5. Trực quan hóa mô hình và dự đoán với dữ liệu test"
   ]
  },
  {
   "cell_type": "code",
   "execution_count": 27,
   "id": "qTSxO8D_ZT-I",
   "metadata": {
    "execution": {
     "iopub.execute_input": "2024-04-06T10:12:18.987643Z",
     "iopub.status.busy": "2024-04-06T10:12:18.985963Z",
     "iopub.status.idle": "2024-04-06T10:12:19.070114Z",
     "shell.execute_reply": "2024-04-06T10:12:19.067679Z"
    },
    "executionInfo": {
     "elapsed": 35,
     "status": "ok",
     "timestamp": 1712308981524,
     "user": {
      "displayName": "Nguyễn Đức Vũ",
      "userId": "07288779277842550568"
     },
     "user_tz": -420
    },
    "id": "qTSxO8D_ZT-I"
   },
   "outputs": [
    {
     "name": "stderr",
     "output_type": "stream",
     "text": [
      "WARNING:absl:At this time, the v2.11+ optimizer `tf.keras.optimizers.SGD` runs slowly on M1/M2 Macs, please use the legacy Keras optimizer instead, located at `tf.keras.optimizers.legacy.SGD`.\n"
     ]
    }
   ],
   "source": [
    "# Khởi tạo đối tượng mới và gọi phương thức load mô hình từ file\n",
    "pretrain_lr = LogisticRegression()\n",
    "pretrain_lr.load('logistic_regression_model.h5')"
   ]
  },
  {
   "cell_type": "code",
   "execution_count": 28,
   "id": "0ss2l-poZYZT",
   "metadata": {
    "colab": {
     "base_uri": "https://localhost:8080/"
    },
    "execution": {
     "iopub.execute_input": "2024-04-06T10:12:19.079562Z",
     "iopub.status.busy": "2024-04-06T10:12:19.077563Z",
     "iopub.status.idle": "2024-04-06T10:12:19.094447Z",
     "shell.execute_reply": "2024-04-06T10:12:19.092397Z"
    },
    "executionInfo": {
     "elapsed": 33,
     "status": "ok",
     "timestamp": 1712308981524,
     "user": {
      "displayName": "Nguyễn Đức Vũ",
      "userId": "07288779277842550568"
     },
     "user_tz": -420
    },
    "id": "0ss2l-poZYZT",
    "outputId": "a62000c1-7e11-4aa4-9068-37bb21ff7729"
   },
   "outputs": [
    {
     "name": "stdout",
     "output_type": "stream",
     "text": [
      "Tham số tối ưu: \n",
      "[array([[-0.95791835],\n",
      "       [ 1.0366259 ]], dtype=float32), array([-0.12025464], dtype=float32)]\n",
      "Trong đó: \n",
      "   - bias (hệ số tự do) :  -0.120254636\n",
      "   - theta1 (hệ số cho dữ liệu x1):  -0.95791835\n",
      "   - theta2 (hệ số cho dữ liệu x2):  1.0366259\n"
     ]
    }
   ],
   "source": [
    "theta = pretrain_lr.get_weights()\n",
    "print('Tham số tối ưu: ')\n",
    "print(theta)\n",
    "bias = theta[1][0] # bias chính là theta0 trong mô hình gốc\n",
    "theta1 = theta[0][0][0]\n",
    "theta2 = theta[0][1][0]\n",
    "print('Trong đó: ')\n",
    "print('   - bias (hệ số tự do) : ', bias)\n",
    "print('   - theta1 (hệ số cho dữ liệu x1): ', theta1)\n",
    "print('   - theta2 (hệ số cho dữ liệu x2): ', theta2)"
   ]
  },
  {
   "cell_type": "code",
   "execution_count": 29,
   "id": "6FXeII6SZZO9",
   "metadata": {
    "colab": {
     "base_uri": "https://localhost:8080/",
     "height": 451
    },
    "execution": {
     "iopub.execute_input": "2024-04-06T10:12:19.103292Z",
     "iopub.status.busy": "2024-04-06T10:12:19.101437Z",
     "iopub.status.idle": "2024-04-06T10:12:19.500683Z",
     "shell.execute_reply": "2024-04-06T10:12:19.498530Z"
    },
    "executionInfo": {
     "elapsed": 8,
     "status": "ok",
     "timestamp": 1712308981524,
     "user": {
      "displayName": "Nguyễn Đức Vũ",
      "userId": "07288779277842550568"
     },
     "user_tz": -420
    },
    "id": "6FXeII6SZZO9",
    "outputId": "eb8a4b08-e71e-4360-dfa5-417ab9fc020d"
   },
   "outputs": [
    {
     "data": {
      "image/png": "[encoded data removed]",
      "text/plain": [
       "<Figure size 640x480 with 1 Axes>"
      ]
     },
     "metadata": {},
     "output_type": "display_data"
    }
   ],
   "source": [
    "# Trực quan hóa dữ liệu và mô hình sau khi huấn luyện\n",
    "plt.plot(red_points[:,0], red_points[:,1], 'ro')\n",
    "plt.plot(blue_points[:,0], blue_points[:,1], 'bo')\n",
    "\n",
    "# Trực quan hóa đường thẳng phân lớp 2 tập đỏ, xanh\n",
    "# Khoảng giá trị nhỏ nhất và lớn nhất mà x1 có thể nhận được từ 0-6\n",
    "x1=[0, 6]\n",
    "# Tính giá trị x2 dựa trên phương trình đường thẳng:\n",
    "# theta1*x1 + theta2*x2 + bias = 0\n",
    "# => x2 = -(theta1*x1 + bias)/theta2\n",
    "x2=[-(theta1*x1[0]+bias)/theta2, -(theta1*x1[-1]+bias)/theta2]\n",
    "plt.plot(x1, x2)\n",
    "plt.show()"
   ]
  },
  {
   "cell_type": "markdown",
   "id": "mRy3Z5ITZdyO",
   "metadata": {
    "id": "mRy3Z5ITZdyO"
   },
   "source": [
    "Như vậy ta có thể thấy rằng, các hệ số đã huấn luyện tương ứng đã tạo thành phương trình đường thẳng chia tách các điểm huấn luyện đỏ và xanh."
   ]
  },
  {
   "cell_type": "code",
   "execution_count": 30,
   "id": "6wbdN2NpZauv",
   "metadata": {
    "colab": {
     "base_uri": "https://localhost:8080/"
    },
    "execution": {
     "iopub.execute_input": "2024-04-06T10:12:19.510690Z",
     "iopub.status.busy": "2024-04-06T10:12:19.508644Z",
     "iopub.status.idle": "2024-04-06T10:12:19.692229Z",
     "shell.execute_reply": "2024-04-06T10:12:19.690073Z"
    },
    "executionInfo": {
     "elapsed": 807,
     "status": "ok",
     "timestamp": 1712308982325,
     "user": {
      "displayName": "Nguyễn Đức Vũ",
      "userId": "07288779277842550568"
     },
     "user_tz": -420
    },
    "id": "6wbdN2NpZauv",
    "outputId": "951a71e0-fd96-43e0-afcc-2e3ba02be77c"
   },
   "outputs": [
    {
     "name": "stdout",
     "output_type": "stream",
     "text": [
      "1/1 [==============================] - 0s 22ms/step\n",
      "Giá trị nhãn dự đoán trên tập test: \n",
      "[1. 1. 1. 1. 1. 1. 1. 1. 1. 1. 0. 0. 0. 0. 0. 0. 0. 0. 0. 0.]\n",
      "Giá trị nhãn phát sinh (tập test): \n",
      "[1. 1. 1. 1. 1. 1. 1. 1. 1. 1. 0. 0. 0. 0. 0. 0. 0. 0. 0. 0.]\n"
     ]
    }
   ],
   "source": [
    "# Sai số trung bình khi thử nghiệm trên  tập test:\n",
    "y_pred = lr.predict(x_test)[:,0]\n",
    "y_pred[y_pred >= 0.5] = 1\n",
    "y_pred[y_pred < 0.5] = 0\n",
    "print('Giá trị nhãn dự đoán trên tập test: ')\n",
    "print(y_pred)\n",
    "print('Giá trị nhãn phát sinh (tập test): ')\n",
    "print(y_test)"
   ]
  },
  {
   "cell_type": "markdown",
   "id": "Ib_I4CJRZhcn",
   "metadata": {
    "id": "Ib_I4CJRZhcn"
   },
   "source": [
    "Như ta đã thấy, giá trị dự đoán `y_pred` **gần như chính xác** so với dữ liệu phát sinh `y_test`. Sẽ có tình huống `y_pred` không khớp với `y_test`, phụ thuộc vào yếu tố nhiễu khi tạo sinh dữ liệu.\n",
    "\n",
    "Để tính tổng độ chính xác (Accuracy), ta đếm tổng số mẫu mà giá trị dự đoán khớp với giá trị phát sinh, sau đó chia cho tổng số mẫu:"
   ]
  },
  {
   "cell_type": "code",
   "execution_count": 31,
   "id": "mQyvyBp7Zc4Q",
   "metadata": {
    "execution": {
     "iopub.execute_input": "2024-04-06T10:12:19.702172Z",
     "iopub.status.busy": "2024-04-06T10:12:19.700082Z",
     "iopub.status.idle": "2024-04-06T10:12:19.710977Z",
     "shell.execute_reply": "2024-04-06T10:12:19.708907Z"
    },
    "executionInfo": {
     "elapsed": 131,
     "status": "ok",
     "timestamp": 1712308982325,
     "user": {
      "displayName": "Nguyễn Đức Vũ",
      "userId": "07288779277842550568"
     },
     "user_tz": -420
    },
    "id": "mQyvyBp7Zc4Q"
   },
   "outputs": [],
   "source": [
    "def accuracy(y_pred, y_test):\n",
    "    acc = None\n",
    "    # Cài đặt biến `acc` chứa độ chính xác theo %\n",
    "    # với công thức tính bằng tổng số mẫu dự đoán đúng\n",
    "    # (`y_pred` và `y_test` khớp nhau) chia cho tổng số mẫu\n",
    "    # của tập test.\n",
    "    # Lưu ý: giá trị nhỏ nhất là 0%, lớn nhất là 100%\n",
    "    ### BEGIN SOLUTION\n",
    "    acc = np.sum(y_pred == y_test) / len(y_test) * 100\n",
    "    ### END SOLUTION\n",
    "    return acc"
   ]
  },
  {
   "cell_type": "code",
   "execution_count": 32,
   "id": "Hm0mHyaKZjER",
   "metadata": {
    "colab": {
     "base_uri": "https://localhost:8080/"
    },
    "execution": {
     "iopub.execute_input": "2024-04-06T10:12:19.721724Z",
     "iopub.status.busy": "2024-04-06T10:12:19.719636Z",
     "iopub.status.idle": "2024-04-06T10:12:19.730846Z",
     "shell.execute_reply": "2024-04-06T10:12:19.728841Z"
    },
    "executionInfo": {
     "elapsed": 129,
     "status": "ok",
     "timestamp": 1712308982325,
     "user": {
      "displayName": "Nguyễn Đức Vũ",
      "userId": "07288779277842550568"
     },
     "user_tz": -420
    },
    "id": "Hm0mHyaKZjER",
    "outputId": "68ed3dfd-91f2-4b7a-9f69-c4a3ee894f91"
   },
   "outputs": [
    {
     "name": "stdout",
     "output_type": "stream",
     "text": [
      "Độ chính xác trên tập test:  100.0 (%)\n"
     ]
    }
   ],
   "source": [
    "print(\"Độ chính xác trên tập test: \", accuracy(y_pred, y_test), \"(%)\")"
   ]
  },
  {
   "cell_type": "code",
   "execution_count": 33,
   "id": "fbf4ErkeZkPq",
   "metadata": {
    "execution": {
     "iopub.execute_input": "2024-04-06T10:12:19.739441Z",
     "iopub.status.busy": "2024-04-06T10:12:19.737723Z",
     "iopub.status.idle": "2024-04-06T10:12:19.748527Z",
     "shell.execute_reply": "2024-04-06T10:12:19.746441Z"
    },
    "executionInfo": {
     "elapsed": 105,
     "status": "ok",
     "timestamp": 1712308982326,
     "user": {
      "displayName": "Nguyễn Đức Vũ",
      "userId": "07288779277842550568"
     },
     "user_tz": -420
    },
    "id": "fbf4ErkeZkPq"
   },
   "outputs": [],
   "source": [
    "# Kiểm tra với một số bộ test mở\n",
    "assert accuracy(np.array([1, 1]), np.array([0, 1])) == 50.0\n",
    "assert accuracy(np.array([1, 0, 1]), np.array([0, 1, 0])) == 0.0"
   ]
  },
  {
   "cell_type": "markdown",
   "id": "m1PzYbK9bLeq",
   "metadata": {
    "id": "m1PzYbK9bLeq"
   },
   "source": [
    "# PHẦN 3 - CÀI ĐẶT MÔ HÌNH SOFTMAX REGRESSION VỚI KERAS"
   ]
  },
  {
   "cell_type": "markdown",
   "id": "tKdiBV5bbQQ8",
   "metadata": {
    "id": "tKdiBV5bbQQ8"
   },
   "source": [
    "Một mô hình máy học cần có đủ ít nhất 7 phương thức sau:\n",
    "- `__init__`: hàm constructor trong hướng đối tượng, được sử dụng để khởi tạo các tham số mặc định hoặc tham số bắt đầu một mô hình. Trong những bài tập đầu tiên, để đơn giản constructor sẽ không sử dụng.\n",
    "- `build`: xây dựng kiến trúc của mô hình\n",
    "- `train`: bắt đầu quá trình huấn luyện mô hình\n",
    "- `save`: lưu lại mô hình sau khi đã huấn luyện\n",
    "- `load`: load lên mô hình từ file đã huấn luyện (pretrained)\n",
    "- `summary`: in tóm tắt kiến trúc mô hình\n",
    "- `predict`: dự đoán giá trị output từ dữ liệu đầu vào"
   ]
  },
  {
   "cell_type": "code",
   "execution_count": 34,
   "id": "_MfEDzohZmgJ",
   "metadata": {
    "execution": {
     "iopub.execute_input": "2024-04-06T10:12:19.784308Z",
     "iopub.status.busy": "2024-04-06T10:12:19.782341Z",
     "iopub.status.idle": "2024-04-06T10:12:19.795258Z",
     "shell.execute_reply": "2024-04-06T10:12:19.793243Z"
    },
    "executionInfo": {
     "elapsed": 86,
     "status": "ok",
     "timestamp": 1712308982326,
     "user": {
      "displayName": "Nguyễn Đức Vũ",
      "userId": "07288779277842550568"
     },
     "user_tz": -420
    },
    "id": "_MfEDzohZmgJ"
   },
   "outputs": [],
   "source": [
    "# Mô hình cài đặt tổng quát bao gồm 7 phương thức cơ bản\n",
    "# Lưu ý: mô hình này chỉ mang tính gợi ý, không bắt buộc\n",
    "# Tuy nhiên, trong phần bài tập cần tuân theo các tên phương thức này\n",
    "class MyModel:\n",
    "    # constructor\n",
    "    def __init__(self):\n",
    "        return None\n",
    "\n",
    "    # Implement architecture of the model\n",
    "    def build(self):\n",
    "        return None\n",
    "\n",
    "    # Train the defined model with training and validation data\n",
    "    def train(self):\n",
    "        return None\n",
    "\n",
    "    # Save the trained model to file\n",
    "    def save(self, model_path):\n",
    "        return None\n",
    "\n",
    "    # Load pretrained model from file\n",
    "    def load(self):\n",
    "        return None\n",
    "\n",
    "    # Visualize your model\n",
    "    def summary(self):\n",
    "        return None\n",
    "\n",
    "    # Apply your model with new input data\n",
    "    def predict(self):\n",
    "        return None"
   ]
  },
  {
   "cell_type": "markdown",
   "id": "vjnVbIngbVmW",
   "metadata": {
    "id": "vjnVbIngbVmW"
   },
   "source": [
    "## 1. Import các thư viện Keras\n",
    "\n",
    "Đầu tiên, ta sẽ import các thư viện, module, hàm của `Keras`:\n",
    "- `Input`: để nhận dữ liệu đầu vào cho mô hình\n",
    "- `Dense`: hay còn gọi là lớp Fully Connected (Lớp kết nối đầy đủ), một thành phần quan trọng của các mô hình dựa trên mạng Neural Network.\n",
    "- `Model`: đây là lớp đối tượng mô hình được sử dụng để đóng gói lớp đầu vào, đầu ra, sau đó huấn luyện với phương thức `fit` và dự đoán kết quả với `predict`.\n",
    "- `load_model`: hàm sử dụng để load mô hình lên từ file"
   ]
  },
  {
   "cell_type": "code",
   "execution_count": 35,
   "id": "z6ADUV-_bTqU",
   "metadata": {
    "execution": {
     "iopub.execute_input": "2024-04-06T10:12:19.806911Z",
     "iopub.status.busy": "2024-04-06T10:12:19.805030Z",
     "iopub.status.idle": "2024-04-06T10:12:19.814646Z",
     "shell.execute_reply": "2024-04-06T10:12:19.812587Z"
    },
    "executionInfo": {
     "elapsed": 86,
     "status": "ok",
     "timestamp": 1712308982326,
     "user": {
      "displayName": "Nguyễn Đức Vũ",
      "userId": "07288779277842550568"
     },
     "user_tz": -420
    },
    "id": "z6ADUV-_bTqU"
   },
   "outputs": [],
   "source": [
    "from keras.layers import Input, Dense\n",
    "from keras import Model\n",
    "import tensorflow as tf\n",
    "from keras.models import load_model\n",
    "import numpy as np"
   ]
  },
  {
   "cell_type": "markdown",
   "id": "p4l_8eFIbZmr",
   "metadata": {
    "id": "p4l_8eFIbZmr"
   },
   "source": [
    "## 2. Cài đặt mô hình Softmax Regression\n",
    "Tiếp theo, ta sẽ dựa trên khung đối tượng `MyModel` đã trình bày ở mục trước để tiến hành cài đặt mô hình **Softmax Regression**. Phương thức chính mà bài tập này cần thực hiện là `def build()`. Các phương thức còn lại đã được cài đặt sẵn, các bạn cần đọc, hiểu ý nghĩa và cách thức sử dụng về sau.\n",
    "\n",
    "<p align=\"center\">\n",
    "  <img src=\"./images/SoftmaxReg.png\" />\n",
    "</p>"
   ]
  },
  {
   "cell_type": "code",
   "execution_count": 36,
   "id": "C2zQnJjDbXY6",
   "metadata": {
    "execution": {
     "iopub.execute_input": "2024-04-06T10:12:19.825422Z",
     "iopub.status.busy": "2024-04-06T10:12:19.823428Z",
     "iopub.status.idle": "2024-04-06T10:12:19.842779Z",
     "shell.execute_reply": "2024-04-06T10:12:19.840669Z"
    },
    "executionInfo": {
     "elapsed": 85,
     "status": "ok",
     "timestamp": 1712308982326,
     "user": {
      "displayName": "Nguyễn Đức Vũ",
      "userId": "07288779277842550568"
     },
     "user_tz": -420
    },
    "id": "C2zQnJjDbXY6"
   },
   "outputs": [],
   "source": [
    "# Softmax Regression\n",
    "class SoftmaxRegression:\n",
    "    def __init__(self): # Self is similar to your 'this' pointer in C++\n",
    "        return None\n",
    "\n",
    "    def build(self, input_dim, output_dim):\n",
    "        # `input_dim`: kích thước input feature\n",
    "        # `output_dim`: số phân lớp cần phân loại\n",
    "\n",
    "        # Khởi tạo model\n",
    "        self.model = None\n",
    "\n",
    "        # Hãy cài đặt để định nghĩa KIẾN TRÚC MÔ HÌNH và lưu ở thuộc tính `self.model`\n",
    "        # với các biến đối tượng sau:\n",
    "        #  - tạo biến `input` với lớp đối tượng `Input` của Keras,\n",
    "        #    truyền vào kích thước đầu vào `input_dim`\n",
    "        #  - tạo biến `output` với lớp đối tượng `Dense` của Keras,\n",
    "        #    truyền vào các tham số:  kích thước output (chú ý PHÂN LOẠI ĐA LỚP),\n",
    "        #    có sử dụng bias, CÓ SỬ DỤNG hàm activation là `softmax`.\n",
    "        # Sau bước này, self.model sẽ đóng gói 2 biến `input` và `output` để tạo thành mô hình\n",
    "        ### BEGIN SOLUTION\n",
    "        input = Input(shape=(input_dim,))\n",
    "        output = Dense(output_dim, use_bias=True, activation='softmax')(input)\n",
    "        self.model = Model(input, output)\n",
    "        ### END SOLUTION\n",
    "\n",
    "        return self.model\n",
    "\n",
    "    def train(self, x_train, y_train):\n",
    "        opt = tf.keras.optimizers.SGD(learning_rate=0.01) # Stochastic Gradient Descent\n",
    "        self.model.compile(optimizer=opt, loss='categorical_crossentropy') # CCE loss\n",
    "        return self.model.fit(x_train, y_train, epochs=100)\n",
    "\n",
    "    def save(self, model_file):\n",
    "        return self.model.save(model_file)\n",
    "\n",
    "    def load(self, model_file):\n",
    "        self.model = load_model(model_file)\n",
    "\n",
    "    def summary(self):\n",
    "        self.model.summary()\n",
    "\n",
    "    def predict(self, x_test):\n",
    "        return self.model.predict(x_test)\n",
    "\n",
    "    def get_weights(self):\n",
    "        return self.model.layers[1].get_weights()"
   ]
  },
  {
   "cell_type": "markdown",
   "id": "yK2vBpYwbeht",
   "metadata": {
    "id": "yK2vBpYwbeht"
   },
   "source": [
    "Tiếp theo, ta sẽ khởi tạo đối tượng SoftmaxRegression và kiểm tra thử xem phương `build` đã cài đặt chính xác chưa."
   ]
  },
  {
   "cell_type": "code",
   "execution_count": 37,
   "id": "_3_AA0Fbbcd4",
   "metadata": {
    "colab": {
     "base_uri": "https://localhost:8080/"
    },
    "execution": {
     "iopub.execute_input": "2024-04-06T10:12:19.855862Z",
     "iopub.status.busy": "2024-04-06T10:12:19.853955Z",
     "iopub.status.idle": "2024-04-06T10:12:19.905746Z",
     "shell.execute_reply": "2024-04-06T10:12:19.903598Z"
    },
    "executionInfo": {
     "elapsed": 85,
     "status": "ok",
     "timestamp": 1712308982326,
     "user": {
      "displayName": "Nguyễn Đức Vũ",
      "userId": "07288779277842550568"
     },
     "user_tz": -420
    },
    "id": "_3_AA0Fbbcd4",
    "outputId": "8fc7ed97-5284-495b-e60b-764b5ea16a59"
   },
   "outputs": [
    {
     "data": {
      "text/plain": [
       "<keras.src.engine.functional.Functional at 0x3606d8710>"
      ]
     },
     "execution_count": 37,
     "metadata": {},
     "output_type": "execute_result"
    }
   ],
   "source": [
    "sr = SoftmaxRegression()\n",
    "# Trong ví dụ này, ta sẽ khởi tạo input là một vector 1000 chiều,\n",
    "# bài toán cần phân loại 20 lớp đối tượng.\n",
    "sr.build(1000, 20)"
   ]
  },
  {
   "cell_type": "code",
   "execution_count": 38,
   "id": "ieq9pPmXbf9N",
   "metadata": {
    "execution": {
     "iopub.execute_input": "2024-04-06T10:12:19.917388Z",
     "iopub.status.busy": "2024-04-06T10:12:19.915529Z",
     "iopub.status.idle": "2024-04-06T10:12:19.929040Z",
     "shell.execute_reply": "2024-04-06T10:12:19.926926Z"
    },
    "executionInfo": {
     "elapsed": 68,
     "status": "ok",
     "timestamp": 1712308982326,
     "user": {
      "displayName": "Nguyễn Đức Vũ",
      "userId": "07288779277842550568"
     },
     "user_tz": -420
    },
    "id": "ieq9pPmXbf9N"
   },
   "outputs": [],
   "source": [
    "# Public Test\n",
    "assert len(sr.model.layers) == 2\n",
    "assert str(type(sr.model.layers[0])).endswith(\"input_layer.InputLayer'>\") == True\n",
    "assert str(type(sr.model.layers[1])).endswith(\"core.dense.Dense'>\") == True\n",
    "assert sr.model.layers[0].input_shape[0][1] == 1000\n",
    "assert sr.model.layers[1].output_shape[1] == 20\n",
    "assert sr.model.layers[1].use_bias == True"
   ]
  },
  {
   "cell_type": "markdown",
   "id": "aJTGlLY3bjie",
   "metadata": {
    "id": "aJTGlLY3bjie"
   },
   "source": [
    "## 3. Tạo dữ liệu mẫu (toy example)\n",
    "Bước tiếp theo, ta sẽ tiến hành tạo mẫu dữ liệu để huấn luyện và kiểm thử.\n",
    "\n",
    "Dữ liệu được tạo ra là các điểm rải ngẫu nhiên xung quanh 4 cụm điểm:\n",
    "- [10, -2]\n",
    "- [2, 8]\n",
    "- [12, 8]\n",
    "- [-2, 0]\n",
    "\n",
    "Lưu ý rằng, 4 cụm điểm này rời nhau đủ xa để khi thêm nhiễu ngẫu nhiên,\n",
    "các điểm thuộc 4 cụm này vẫn không giao thoa nhau."
   ]
  },
  {
   "cell_type": "code",
   "execution_count": 39,
   "id": "ZgqAQmLxbh8E",
   "metadata": {
    "colab": {
     "base_uri": "https://localhost:8080/",
     "height": 451
    },
    "execution": {
     "iopub.execute_input": "2024-04-06T10:12:20.033032Z",
     "iopub.status.busy": "2024-04-06T10:12:20.030934Z",
     "iopub.status.idle": "2024-04-06T10:12:20.417768Z",
     "shell.execute_reply": "2024-04-06T10:12:20.415529Z"
    },
    "executionInfo": {
     "elapsed": 53,
     "status": "ok",
     "timestamp": 1712308982326,
     "user": {
      "displayName": "Nguyễn Đức Vũ",
      "userId": "07288779277842550568"
     },
     "user_tz": -420
    },
    "id": "ZgqAQmLxbh8E",
    "outputId": "876af2b1-4f23-4613-fb1c-fa4994b9fd8f"
   },
   "outputs": [
    {
     "data": {
      "image/png": "[encoded data removed]",
      "text/plain": [
       "<Figure size 640x480 with 1 Axes>"
      ]
     },
     "metadata": {},
     "output_type": "display_data"
    }
   ],
   "source": [
    "import numpy as np\n",
    "import matplotlib.pyplot as plt\n",
    "\n",
    "# Số phân lớp: 4\n",
    "K = 4\n",
    "# Tạo bộ dữ  liệu gồm 4 điểm\n",
    "# S1, S2, S3, S4 là tâm của 4 lớp\n",
    "S1= np.array([[10,-2]])\n",
    "S2= np.array([[2,8]])\n",
    "S3= np.array([[12,8]])\n",
    "S4= np.array([[-2,0]])\n",
    "\n",
    "# 50 samples mỗi lớp\n",
    "n_sample = 50\n",
    "# Phát sinh các điểm với nhiễu ngẫu nhiên xung quanh 4 tâm\n",
    "pts1 = S1 + np.random.normal(0, 1.5, size=(n_sample,2))\n",
    "pts2 = S2 + np.random.normal(0, 1.5, size=(n_sample,2))\n",
    "pts3 = S3 + np.random.normal(0, 1.5, size=(n_sample,2))\n",
    "pts4 = S4 + np.random.normal(0, 1.5, size=(n_sample,2))\n",
    "\n",
    "# Nối tất cả các mẫu thành một khối dữ liệu X (input feature) và Y (nhãn)\n",
    "X_train = np.concatenate((pts1, pts2, pts3, pts4))\n",
    "# Concatenate data labels to a single input variable Y\n",
    "Y_train = np.concatenate(([0]*n_sample, [1]*n_sample, [2]*n_sample, [3]*n_sample))\n",
    "\n",
    "# Chuyển Y từ dạng nhãn sang one-hot vector\n",
    "Y_train = Y_train.astype(int)\n",
    "Y_oh = np.zeros((Y_train.size, Y_train.max()+1 ))\n",
    "Y_oh[np.arange(Y_train.size), Y_train] = 1\n",
    "\n",
    "# Trực quan hóa dữ liệu bằng các hình tròn màu đỏ, xanh lá, xanh dương và vàng\n",
    "plt.plot(pts1[:,0], pts1[:,1], 'ro')\n",
    "plt.plot(pts2[:,0], pts2[:,1], 'go')\n",
    "plt.plot(pts3[:,0], pts3[:,1], 'bo')\n",
    "plt.plot(pts4[:,0], pts4[:,1], 'yo')\n",
    "plt.show()"
   ]
  },
  {
   "cell_type": "markdown",
   "id": "_cT4gNG3bnOA",
   "metadata": {
    "id": "_cT4gNG3bnOA"
   },
   "source": [
    "## 4. Huấn luyện mô hình với dữ liệu mẫu\n",
    "\n",
    "Tiếp theo, ta sẽ khởi tạo lại mô hình để phù hợp với dữ liệu mẫu đã phát sinh ở bước trước. Việc xây dựng kiến trúc của mô hình phải phù hợp với số chiều của dữ liệu mẫu."
   ]
  },
  {
   "cell_type": "code",
   "execution_count": 40,
   "id": "2cWrbxsQblaY",
   "metadata": {
    "colab": {
     "base_uri": "https://localhost:8080/"
    },
    "execution": {
     "iopub.execute_input": "2024-04-06T10:12:20.427976Z",
     "iopub.status.busy": "2024-04-06T10:12:20.425951Z",
     "iopub.status.idle": "2024-04-06T10:12:20.508864Z",
     "shell.execute_reply": "2024-04-06T10:12:20.505929Z"
    },
    "executionInfo": {
     "elapsed": 52,
     "status": "ok",
     "timestamp": 1712308982327,
     "user": {
      "displayName": "Nguyễn Đức Vũ",
      "userId": "07288779277842550568"
     },
     "user_tz": -420
    },
    "id": "2cWrbxsQblaY",
    "outputId": "71e826ee-f45a-47fd-aaf0-0169b6751965"
   },
   "outputs": [
    {
     "name": "stdout",
     "output_type": "stream",
     "text": [
      "Kiến trúc của mô hình Softmax Regression: \n",
      "Model: \"model_5\"\n",
      "_________________________________________________________________\n",
      " Layer (type)                Output Shape              Param #   \n",
      "=================================================================\n",
      " input_6 (InputLayer)        [(None, 2)]               0         \n",
      "                                                                 \n",
      " dense_5 (Dense)             (None, 4)                 12        \n",
      "                                                                 \n",
      "=================================================================\n",
      "Total params: 12 (48.00 Byte)\n",
      "Trainable params: 12 (48.00 Byte)\n",
      "Non-trainable params: 0 (0.00 Byte)\n",
      "_________________________________________________________________\n"
     ]
    }
   ],
   "source": [
    "sr = SoftmaxRegression()\n",
    "\n",
    "# Hãy gọi phương thức `build` cho đối tượng `sr` và truyền tham số đầu vào\n",
    "# tương ứng với dữ liệu train đã phát sinh ở code block trên\n",
    "# Theo bạn, `input_dim` và `output_dim` bằng bao nhiêu?\n",
    "\n",
    "### BEGIN SOLUTION\n",
    "sr.build(2, 4)\n",
    "### END SOLUTION\n",
    "\n",
    "# Để hiển thị kiến trúc của mô hình ta gọi phương thức `summary`\n",
    "print(\"Kiến trúc của mô hình Softmax Regression: \")\n",
    "sr.summary()"
   ]
  },
  {
   "cell_type": "code",
   "execution_count": 41,
   "id": "G_VYYBLObryv",
   "metadata": {
    "colab": {
     "base_uri": "https://localhost:8080/"
    },
    "execution": {
     "iopub.execute_input": "2024-04-06T10:12:20.549700Z",
     "iopub.status.busy": "2024-04-06T10:12:20.549007Z",
     "iopub.status.idle": "2024-04-06T10:12:24.084273Z",
     "shell.execute_reply": "2024-04-06T10:12:24.081670Z"
    },
    "executionInfo": {
     "elapsed": 2451,
     "status": "ok",
     "timestamp": 1712308984757,
     "user": {
      "displayName": "Nguyễn Đức Vũ",
      "userId": "07288779277842550568"
     },
     "user_tz": -420
    },
    "id": "G_VYYBLObryv",
    "outputId": "002b5ce8-1e6b-4bb7-e439-f28cbe05fb11"
   },
   "outputs": [
    {
     "name": "stderr",
     "output_type": "stream",
     "text": [
      "WARNING:absl:At this time, the v2.11+ optimizer `tf.keras.optimizers.SGD` runs slowly on M1/M2 Macs, please use the legacy Keras optimizer instead, located at `tf.keras.optimizers.legacy.SGD`.\n"
     ]
    },
    {
     "name": "stdout",
     "output_type": "stream",
     "text": [
      "Epoch 1/100\n",
      "7/7 [==============================] - 0s 703us/step - loss: 1.0087\n",
      "Epoch 2/100\n",
      "7/7 [==============================] - 0s 537us/step - loss: 0.6676\n",
      "Epoch 3/100\n",
      "7/7 [==============================] - 0s 717us/step - loss: 0.4768\n",
      "Epoch 4/100\n",
      "7/7 [==============================] - 0s 585us/step - loss: 0.3896\n",
      "Epoch 5/100\n",
      "7/7 [==============================] - 0s 717us/step - loss: 0.3447\n",
      "Epoch 6/100\n",
      "7/7 [==============================] - 0s 682us/step - loss: 0.3196\n",
      "Epoch 7/100\n",
      "7/7 [==============================] - 0s 653us/step - loss: 0.3027\n",
      "Epoch 8/100\n",
      "7/7 [==============================] - 0s 609us/step - loss: 0.2924\n",
      "Epoch 9/100\n",
      "7/7 [==============================] - 0s 730us/step - loss: 0.2840\n",
      "Epoch 10/100\n",
      "7/7 [==============================] - 0s 636us/step - loss: 0.2779\n",
      "Epoch 11/100\n",
      "7/7 [==============================] - 0s 644us/step - loss: 0.2728\n",
      "Epoch 12/100\n",
      "7/7 [==============================] - 0s 598us/step - loss: 0.2681\n",
      "Epoch 13/100\n",
      "7/7 [==============================] - 0s 637us/step - loss: 0.2638\n",
      "Epoch 14/100\n",
      "7/7 [==============================] - 0s 636us/step - loss: 0.2597\n",
      "Epoch 15/100\n",
      "7/7 [==============================] - 0s 689us/step - loss: 0.2562\n",
      "Epoch 16/100\n",
      "7/7 [==============================] - 0s 499us/step - loss: 0.2533\n",
      "Epoch 17/100\n",
      "7/7 [==============================] - 0s 650us/step - loss: 0.2503\n",
      "Epoch 18/100\n",
      "7/7 [==============================] - 0s 578us/step - loss: 0.2470\n",
      "Epoch 19/100\n",
      "7/7 [==============================] - 0s 637us/step - loss: 0.2443\n",
      "Epoch 20/100\n",
      "7/7 [==============================] - 0s 761us/step - loss: 0.2417\n",
      "Epoch 21/100\n",
      "7/7 [==============================] - 0s 690us/step - loss: 0.2392\n",
      "Epoch 22/100\n",
      "7/7 [==============================] - 0s 564us/step - loss: 0.2370\n",
      "Epoch 23/100\n",
      "7/7 [==============================] - 0s 656us/step - loss: 0.2347\n",
      "Epoch 24/100\n",
      "7/7 [==============================] - 0s 690us/step - loss: 0.2323\n",
      "Epoch 25/100\n",
      "7/7 [==============================] - 0s 572us/step - loss: 0.2302\n",
      "Epoch 26/100\n",
      "7/7 [==============================] - 0s 679us/step - loss: 0.2281\n",
      "Epoch 27/100\n",
      "7/7 [==============================] - 0s 627us/step - loss: 0.2263\n",
      "Epoch 28/100\n",
      "7/7 [==============================] - 0s 575us/step - loss: 0.2245\n",
      "Epoch 29/100\n",
      "7/7 [==============================] - 0s 685us/step - loss: 0.2224\n",
      "Epoch 30/100\n",
      "7/7 [==============================] - 0s 744us/step - loss: 0.2209\n",
      "Epoch 31/100\n",
      "7/7 [==============================] - 0s 591us/step - loss: 0.2190\n",
      "Epoch 32/100\n",
      "7/7 [==============================] - 0s 714us/step - loss: 0.2172\n",
      "Epoch 33/100\n",
      "7/7 [==============================] - 0s 612us/step - loss: 0.2156\n",
      "Epoch 34/100\n",
      "7/7 [==============================] - 0s 601us/step - loss: 0.2139\n",
      "Epoch 35/100\n",
      "7/7 [==============================] - 0s 615us/step - loss: 0.2125\n",
      "Epoch 36/100\n",
      "7/7 [==============================] - 0s 625us/step - loss: 0.2109\n",
      "Epoch 37/100\n",
      "7/7 [==============================] - 0s 555us/step - loss: 0.2097\n",
      "Epoch 38/100\n",
      "7/7 [==============================] - 0s 825us/step - loss: 0.2084\n",
      "Epoch 39/100\n",
      "7/7 [==============================] - 0s 827us/step - loss: 0.2068\n",
      "Epoch 40/100\n",
      "7/7 [==============================] - 0s 598us/step - loss: 0.2056\n",
      "Epoch 41/100\n",
      "7/7 [==============================] - 0s 679us/step - loss: 0.2042\n",
      "Epoch 42/100\n",
      "7/7 [==============================] - 0s 662us/step - loss: 0.2028\n",
      "Epoch 43/100\n",
      "7/7 [==============================] - 0s 542us/step - loss: 0.2015\n",
      "Epoch 44/100\n",
      "7/7 [==============================] - 0s 615us/step - loss: 0.2003\n",
      "Epoch 45/100\n",
      "7/7 [==============================] - 0s 583us/step - loss: 0.1993\n",
      "Epoch 46/100\n",
      "7/7 [==============================] - 0s 608us/step - loss: 0.1982\n",
      "Epoch 47/100\n",
      "7/7 [==============================] - 0s 616us/step - loss: 0.1968\n",
      "Epoch 48/100\n",
      "7/7 [==============================] - 0s 532us/step - loss: 0.1959\n",
      "Epoch 49/100\n",
      "7/7 [==============================] - 0s 611us/step - loss: 0.1948\n",
      "Epoch 50/100\n",
      "7/7 [==============================] - 0s 561us/step - loss: 0.1936\n",
      "Epoch 51/100\n",
      "7/7 [==============================] - 0s 650us/step - loss: 0.1925\n",
      "Epoch 52/100\n",
      "7/7 [==============================] - 0s 692us/step - loss: 0.1915\n",
      "Epoch 53/100\n",
      "7/7 [==============================] - 0s 609us/step - loss: 0.1907\n",
      "Epoch 54/100\n",
      "7/7 [==============================] - 0s 599us/step - loss: 0.1896\n",
      "Epoch 55/100\n",
      "7/7 [==============================] - 0s 694us/step - loss: 0.1887\n",
      "Epoch 56/100\n",
      "7/7 [==============================] - 0s 515us/step - loss: 0.1876\n",
      "Epoch 57/100\n",
      "7/7 [==============================] - 0s 641us/step - loss: 0.1867\n",
      "Epoch 58/100\n",
      "7/7 [==============================] - 0s 570us/step - loss: 0.1860\n",
      "Epoch 59/100\n",
      "7/7 [==============================] - 0s 524us/step - loss: 0.1853\n",
      "Epoch 60/100\n",
      "7/7 [==============================] - 0s 605us/step - loss: 0.1845\n",
      "Epoch 61/100\n",
      "7/7 [==============================] - 0s 520us/step - loss: 0.1834\n",
      "Epoch 62/100\n",
      "7/7 [==============================] - 0s 644us/step - loss: 0.1827\n",
      "Epoch 63/100\n",
      "7/7 [==============================] - 0s 540us/step - loss: 0.1820\n",
      "Epoch 64/100\n",
      "7/7 [==============================] - 0s 891us/step - loss: 0.1809\n",
      "Epoch 65/100\n",
      "7/7 [==============================] - 0s 1ms/step - loss: 0.1801\n",
      "Epoch 66/100\n",
      "7/7 [==============================] - 0s 1ms/step - loss: 0.1793\n",
      "Epoch 67/100\n",
      "7/7 [==============================] - 0s 1ms/step - loss: 0.1786\n",
      "Epoch 68/100\n",
      "7/7 [==============================] - 0s 719us/step - loss: 0.1778\n",
      "Epoch 69/100\n",
      "7/7 [==============================] - 0s 983us/step - loss: 0.1771\n",
      "Epoch 70/100\n",
      "7/7 [==============================] - 0s 602us/step - loss: 0.1763\n",
      "Epoch 71/100\n",
      "7/7 [==============================] - 0s 601us/step - loss: 0.1757\n",
      "Epoch 72/100\n",
      "7/7 [==============================] - 0s 527us/step - loss: 0.1749\n",
      "Epoch 73/100\n",
      "7/7 [==============================] - 0s 645us/step - loss: 0.1742\n",
      "Epoch 74/100\n",
      "7/7 [==============================] - 0s 507us/step - loss: 0.1736\n",
      "Epoch 75/100\n",
      "7/7 [==============================] - 0s 692us/step - loss: 0.1728\n",
      "Epoch 76/100\n",
      "7/7 [==============================] - 0s 603us/step - loss: 0.1722\n",
      "Epoch 77/100\n",
      "7/7 [==============================] - 0s 696us/step - loss: 0.1716\n",
      "Epoch 78/100\n",
      "7/7 [==============================] - 0s 625us/step - loss: 0.1709\n",
      "Epoch 79/100\n",
      "7/7 [==============================] - 0s 709us/step - loss: 0.1702\n",
      "Epoch 80/100\n",
      "7/7 [==============================] - 0s 533us/step - loss: 0.1696\n",
      "Epoch 81/100\n",
      "7/7 [==============================] - 0s 686us/step - loss: 0.1689\n",
      "Epoch 82/100\n",
      "7/7 [==============================] - 0s 570us/step - loss: 0.1684\n",
      "Epoch 83/100\n",
      "7/7 [==============================] - 0s 685us/step - loss: 0.1678\n",
      "Epoch 84/100\n",
      "7/7 [==============================] - 0s 723us/step - loss: 0.1672\n",
      "Epoch 85/100\n",
      "7/7 [==============================] - 0s 612us/step - loss: 0.1665\n",
      "Epoch 86/100\n",
      "7/7 [==============================] - 0s 599us/step - loss: 0.1658\n",
      "Epoch 87/100\n",
      "7/7 [==============================] - 0s 729us/step - loss: 0.1652\n",
      "Epoch 88/100\n",
      "7/7 [==============================] - 0s 556us/step - loss: 0.1647\n",
      "Epoch 89/100\n",
      "7/7 [==============================] - 0s 775us/step - loss: 0.1643\n",
      "Epoch 90/100\n",
      "7/7 [==============================] - 0s 727us/step - loss: 0.1636\n",
      "Epoch 91/100\n",
      "7/7 [==============================] - 0s 729us/step - loss: 0.1629\n",
      "Epoch 92/100\n",
      "7/7 [==============================] - 0s 574us/step - loss: 0.1626\n",
      "Epoch 93/100\n",
      "7/7 [==============================] - 0s 640us/step - loss: 0.1618\n",
      "Epoch 94/100\n",
      "7/7 [==============================] - 0s 766us/step - loss: 0.1613\n",
      "Epoch 95/100\n",
      "7/7 [==============================] - 0s 597us/step - loss: 0.1608\n",
      "Epoch 96/100\n",
      "7/7 [==============================] - 0s 699us/step - loss: 0.1602\n",
      "Epoch 97/100\n",
      "7/7 [==============================] - 0s 839us/step - loss: 0.1598\n",
      "Epoch 98/100\n",
      "7/7 [==============================] - 0s 565us/step - loss: 0.1592\n",
      "Epoch 99/100\n",
      "7/7 [==============================] - 0s 621us/step - loss: 0.1587\n",
      "Epoch 100/100\n",
      "7/7 [==============================] - 0s 715us/step - loss: 0.1583\n"
     ]
    }
   ],
   "source": [
    "# Để huấn luyện mô hình ta gọi phương thức `train` với dữ liệu mẫu đã tạo được\n",
    "# Nếu bước `build` mô hình gọi đúng thì bước `train` sau sẽ thực hiện thành công\n",
    "# LƯU Ý: Ở đây ta sử dụng output là Y_oh dạng one-hot thay vì dạng nhãn (label)\n",
    "hist = sr.train(X_train, Y_oh)"
   ]
  },
  {
   "cell_type": "code",
   "execution_count": 42,
   "id": "T57sMHCQbtGv",
   "metadata": {
    "colab": {
     "base_uri": "https://localhost:8080/",
     "height": 493
    },
    "execution": {
     "iopub.execute_input": "2024-04-06T10:12:24.093583Z",
     "iopub.status.busy": "2024-04-06T10:12:24.092853Z",
     "iopub.status.idle": "2024-04-06T10:12:24.537275Z",
     "shell.execute_reply": "2024-04-06T10:12:24.535090Z"
    },
    "executionInfo": {
     "elapsed": 10,
     "status": "ok",
     "timestamp": 1712308984758,
     "user": {
      "displayName": "Nguyễn Đức Vũ",
      "userId": "07288779277842550568"
     },
     "user_tz": -420
    },
    "id": "T57sMHCQbtGv",
    "outputId": "22f0e639-a173-4764-f532-f153d2aeca8b"
   },
   "outputs": [
    {
     "data": {
      "image/png": "[encoded data removed]",
      "text/plain": [
       "<Figure size 640x480 with 1 Axes>"
      ]
     },
     "metadata": {},
     "output_type": "display_data"
    }
   ],
   "source": [
    "# Hiển thị loss theo số epoch\n",
    "plt.plot(hist.history['loss'])\n",
    "plt.title('Model Loss')\n",
    "plt.ylabel('loss')\n",
    "plt.xlabel('epoch')\n",
    "plt.show()"
   ]
  },
  {
   "cell_type": "code",
   "execution_count": 43,
   "id": "CExu8Scobw65",
   "metadata": {
    "execution": {
     "iopub.execute_input": "2024-04-06T10:12:24.546845Z",
     "iopub.status.busy": "2024-04-06T10:12:24.545031Z",
     "iopub.status.idle": "2024-04-06T10:12:24.576091Z",
     "shell.execute_reply": "2024-04-06T10:12:24.573950Z"
    },
    "executionInfo": {
     "elapsed": 6,
     "status": "ok",
     "timestamp": 1712308984758,
     "user": {
      "displayName": "Nguyễn Đức Vũ",
      "userId": "07288779277842550568"
     },
     "user_tz": -420
    },
    "id": "CExu8Scobw65"
   },
   "outputs": [
    {
     "name": "stderr",
     "output_type": "stream",
     "text": [
      "/Users/danny/.pyenv/versions/3.11.1/lib/python3.11/site-packages/keras/src/engine/training.py:3103: UserWarning: You are saving your model as an HDF5 file via `model.save()`. This file format is considered legacy. We recommend using instead the native Keras format, e.g. `model.save('my_model.keras')`.\n",
      "  saving_api.save_model(\n"
     ]
    }
   ],
   "source": [
    "# Sau khi đã huấn luyện, ta lưu mô hình về để sau này tái sử dụng\n",
    "# Lưu ý: hai phương thức lưu mô hình `save` và tải mô hình lên 'load'\n",
    "# được sử dụng khi muốn tái sử dụng nhiều lần mà KHÔNG CẦN PHẢI HUẤN LUYỆN LẠI\n",
    "sr.save('softmax_regression_model.h5')"
   ]
  },
  {
   "cell_type": "markdown",
   "id": "_u0aNnJ-bz5c",
   "metadata": {
    "id": "_u0aNnJ-bz5c"
   },
   "source": [
    "## 5. Trực quan hóa mô hình và dự đoán với dữ liệu test"
   ]
  },
  {
   "cell_type": "code",
   "execution_count": 44,
   "id": "CWGwHvn2byjo",
   "metadata": {
    "execution": {
     "iopub.execute_input": "2024-04-06T10:12:24.585386Z",
     "iopub.status.busy": "2024-04-06T10:12:24.583582Z",
     "iopub.status.idle": "2024-04-06T10:12:24.673822Z",
     "shell.execute_reply": "2024-04-06T10:12:24.671487Z"
    },
    "executionInfo": {
     "elapsed": 32,
     "status": "ok",
     "timestamp": 1712308985492,
     "user": {
      "displayName": "Nguyễn Đức Vũ",
      "userId": "07288779277842550568"
     },
     "user_tz": -420
    },
    "id": "CWGwHvn2byjo"
   },
   "outputs": [
    {
     "name": "stderr",
     "output_type": "stream",
     "text": [
      "WARNING:absl:At this time, the v2.11+ optimizer `tf.keras.optimizers.SGD` runs slowly on M1/M2 Macs, please use the legacy Keras optimizer instead, located at `tf.keras.optimizers.legacy.SGD`.\n"
     ]
    }
   ],
   "source": [
    "# Khởi tạo đối tượng mới và gọi phương thức load mô hình từ file\n",
    "pretrain_sr = SoftmaxRegression()\n",
    "pretrain_sr.load('softmax_regression_model.h5')"
   ]
  },
  {
   "cell_type": "code",
   "execution_count": 45,
   "id": "EDrNN_iRb1Yy",
   "metadata": {
    "colab": {
     "base_uri": "https://localhost:8080/"
    },
    "execution": {
     "iopub.execute_input": "2024-04-06T10:12:24.684907Z",
     "iopub.status.busy": "2024-04-06T10:12:24.682511Z",
     "iopub.status.idle": "2024-04-06T10:12:24.697761Z",
     "shell.execute_reply": "2024-04-06T10:12:24.695690Z"
    },
    "executionInfo": {
     "elapsed": 30,
     "status": "ok",
     "timestamp": 1712308985493,
     "user": {
      "displayName": "Nguyễn Đức Vũ",
      "userId": "07288779277842550568"
     },
     "user_tz": -420
    },
    "id": "EDrNN_iRb1Yy",
    "outputId": "7364377b-89de-4b9c-b543-d8ade329f0a8"
   },
   "outputs": [
    {
     "name": "stdout",
     "output_type": "stream",
     "text": [
      "Tham số tối ưu: \n",
      "[array([[ 0.840766  , -0.11388604,  0.64404494, -1.0296947 ],\n",
      "       [-0.9979399 ,  0.5386398 , -0.06392816, -0.05147984]],\n",
      "      dtype=float32), array([-0.15840371, -0.17915054, -0.21947785,  0.55703205], dtype=float32)]\n"
     ]
    }
   ],
   "source": [
    "# Hiển thị bộ tham số của mô hình Softmax\n",
    "theta = pretrain_sr.get_weights()\n",
    "print('Tham số tối ưu: ')\n",
    "print(theta)"
   ]
  },
  {
   "cell_type": "code",
   "execution_count": 46,
   "id": "FZTEt1Vsb2YN",
   "metadata": {
    "colab": {
     "base_uri": "https://localhost:8080/",
     "height": 467
    },
    "execution": {
     "iopub.execute_input": "2024-04-06T10:12:24.706869Z",
     "iopub.status.busy": "2024-04-06T10:12:24.705111Z",
     "iopub.status.idle": "2024-04-06T10:12:27.193107Z",
     "shell.execute_reply": "2024-04-06T10:12:27.190767Z"
    },
    "executionInfo": {
     "elapsed": 962,
     "status": "ok",
     "timestamp": 1712308986428,
     "user": {
      "displayName": "Nguyễn Đức Vũ",
      "userId": "07288779277842550568"
     },
     "user_tz": -420
    },
    "id": "FZTEt1Vsb2YN",
    "outputId": "ec662aad-4944-4b1c-f256-bd20f3e58d97"
   },
   "outputs": [
    {
     "name": "stdout",
     "output_type": "stream",
     "text": [
      "20/20 [==============================] - 0s 531us/step\n"
     ]
    },
    {
     "data": {
      "image/png": "[encoded data removed]",
      "text/plain": [
       "<Figure size 640x480 with 1 Axes>"
      ]
     },
     "metadata": {},
     "output_type": "display_data"
    }
   ],
   "source": [
    "# Trực quan hóa dữ liệu và mô hình sau khi huấn luyện\n",
    "# Ý tưởng: lấy mẫu dày đặc các điểm trong phạm vi dữ liệu train\n",
    "# Sau đó dùng mô hình để dự đoán và hiển thị kết quả\n",
    "\n",
    "# `colors` là các marker được sử dụng để trực quan hóa kết quả test\n",
    "colors = ['r+', 'g+', 'b+', 'y+']\n",
    "# `gt_colors` là các marker được sử dụng để trực quan hóa dữ liệu train\n",
    "gt_colors = ['ro', 'go', 'bo', 'yo']\n",
    "\n",
    "# Lấy mẫu dày đặc các điểm\n",
    "x = np.arange(-8, 17, 1)\n",
    "y = np.arange(-8, 17, 1)\n",
    "xx, yy = np.meshgrid(x,y)\n",
    "\n",
    "xx = xx.reshape(-1)\n",
    "yy = yy.reshape(-1)\n",
    "\n",
    "# Tạo các dữ liệu test dày đặc\n",
    "X_test = np.concatenate([[xx],[yy]], axis=0).T\n",
    "Y_pred = pretrain_sr.predict(X_test)\n",
    "\n",
    "for i in range(len(xx)):\n",
    "    plt.plot(xx[i],yy[i], colors[np.argmax(Y_pred[i])])\n",
    "plt.plot(pts1[:,0], pts1[:,1], gt_colors[0])\n",
    "plt.plot(pts2[:,0], pts2[:,1], gt_colors[1])\n",
    "plt.plot(pts3[:,0], pts3[:,1], gt_colors[2])\n",
    "plt.plot(pts4[:,0], pts4[:,1], gt_colors[3])\n",
    "plt.show()"
   ]
  },
  {
   "cell_type": "markdown",
   "id": "9kUCyBh1b5vm",
   "metadata": {
    "id": "9kUCyBh1b5vm"
   },
   "source": [
    "Như vậy ta có thể thấy rằng, không gian mặt phẳng đã được phân loại sử dụng mô hình đã huấn luyện trước đó với Softmax Regression. Dựa trên hình trên ta thấy kết quả khá chính xác, chỉ trừ một số điểm ở biên giữa các lớp."
   ]
  },
  {
   "cell_type": "markdown",
   "id": "Lc9lXMIMb-pS",
   "metadata": {
    "id": "Lc9lXMIMb-pS"
   },
   "source": [
    "# PHẦN 4 - CÀI ĐẶT MÔ HÌNH NEURAL NETWORK VỚI KERAS"
   ]
  },
  {
   "cell_type": "markdown",
   "id": "0RI_9W80cCqL",
   "metadata": {
    "id": "0RI_9W80cCqL"
   },
   "source": [
    "Một mô hình máy học cần có đủ ít nhất 7 phương thức sau:\n",
    "- `__init__`: hàm constructor trong hướng đối tượng, được sử dụng để khởi tạo các tham số mặc định hoặc tham số bắt đầu một mô hình. Trong những bài tập đầu tiên, để đơn giản constructor sẽ không sử dụng.\n",
    "- `build`: xây dựng kiến trúc của mô hình\n",
    "- `train`: bắt đầu quá trình huấn luyện mô hình\n",
    "- `save`: lưu lại mô hình sau khi đã huấn luyện\n",
    "- `load`: load lên mô hình từ file đã huấn luyện (pretrained)\n",
    "- `summary`: in tóm tắt kiến trúc mô hình\n",
    "- `predict`: dự đoán giá trị output từ dữ liệu đầu vào"
   ]
  },
  {
   "cell_type": "code",
   "execution_count": 47,
   "id": "bpyrEhf0b3up",
   "metadata": {
    "execution": {
     "iopub.execute_input": "2024-04-06T10:12:27.204697Z",
     "iopub.status.busy": "2024-04-06T10:12:27.202615Z",
     "iopub.status.idle": "2024-04-06T10:12:27.216257Z",
     "shell.execute_reply": "2024-04-06T10:12:27.214140Z"
    },
    "executionInfo": {
     "elapsed": 53,
     "status": "ok",
     "timestamp": 1712308986428,
     "user": {
      "displayName": "Nguyễn Đức Vũ",
      "userId": "07288779277842550568"
     },
     "user_tz": -420
    },
    "id": "bpyrEhf0b3up"
   },
   "outputs": [],
   "source": [
    "# Mô hình cài đặt tổng quát bao gồm 7 phương thức cơ bản\n",
    "# Lưu ý: mô hình này chỉ mang tính gợi ý, không bắt buộc\n",
    "# Tuy nhiên, trong phần bài tập cần tuân theo các tên phương thức này\n",
    "class MyModel:\n",
    "    # constructor\n",
    "    def __init__(self):\n",
    "        return None\n",
    "\n",
    "    # Implement architecture of the model\n",
    "    def build(self):\n",
    "        return None\n",
    "\n",
    "    # Train the defined model with training and validation data\n",
    "    def train(self):\n",
    "        return None\n",
    "\n",
    "    # Save the trained model to file\n",
    "    def save(self, model_path):\n",
    "        return None\n",
    "\n",
    "    # Load pretrained model from file\n",
    "    def load(self):\n",
    "        return None\n",
    "\n",
    "    # Visualize your model\n",
    "    def summary(self):\n",
    "        return None\n",
    "\n",
    "    # Apply your model with new input data\n",
    "    def predict(self):\n",
    "        return None"
   ]
  },
  {
   "cell_type": "markdown",
   "id": "xK0O019wcFr_",
   "metadata": {
    "id": "xK0O019wcFr_"
   },
   "source": [
    "## 1. Import các thư viện Keras\n",
    "\n",
    "Đầu tiên, ta sẽ import các thư viện, module, hàm của `Keras`:\n",
    "- `Input`: để nhận dữ liệu đầu vào cho mô hình\n",
    "- `Dense`: hay còn gọi là lớp Fully Connected (Lớp kết nối đầy đủ), một thành phần quan trọng của các mô hình dựa trên mạng Neural Network.\n",
    "- `Model`: đây là lớp đối tượng mô hình được sử dụng để đóng gói lớp đầu vào, đầu ra, sau đó huấn luyện với phương thức `fit` và dự đoán kết quả với `predict`.\n",
    "- `load_model`: hàm sử dụng để load mô hình lên từ file"
   ]
  },
  {
   "cell_type": "code",
   "execution_count": 48,
   "id": "lGw0UAsCcEPW",
   "metadata": {
    "execution": {
     "iopub.execute_input": "2024-04-06T10:12:27.225532Z",
     "iopub.status.busy": "2024-04-06T10:12:27.223652Z",
     "iopub.status.idle": "2024-04-06T10:12:27.233750Z",
     "shell.execute_reply": "2024-04-06T10:12:27.231570Z"
    },
    "executionInfo": {
     "elapsed": 52,
     "status": "ok",
     "timestamp": 1712308986428,
     "user": {
      "displayName": "Nguyễn Đức Vũ",
      "userId": "07288779277842550568"
     },
     "user_tz": -420
    },
    "id": "lGw0UAsCcEPW"
   },
   "outputs": [],
   "source": [
    "from keras.layers import Input, Dense\n",
    "from keras import Model\n",
    "import tensorflow as tf\n",
    "from keras.models import load_model\n",
    "import numpy as np"
   ]
  },
  {
   "cell_type": "markdown",
   "id": "zwK6d3txcIkj",
   "metadata": {
    "id": "zwK6d3txcIkj"
   },
   "source": [
    "## 2. Cài đặt mô hình Neural Network\n",
    "Tiếp theo, ta sẽ dựa trên khung đối tượng `MyModel` đã trình bày ở mục trước để tiến hành cài đặt mô hình **Neural Network**. Phương thức chính mà bài tập này cần thực hiện là `def build()`. Các phương thức còn lại đã được cài đặt sẵn, các bạn cần đọc, hiểu ý nghĩa và cách thức sử dụng về sau.\n",
    "\n",
    "<p align=\"center\">\n",
    "  <img src=\"./images/NeuralNet.png\" />\n",
    "</p>"
   ]
  },
  {
   "cell_type": "code",
   "execution_count": 49,
   "id": "MkXl2AppcHT7",
   "metadata": {
    "execution": {
     "iopub.execute_input": "2024-04-06T10:12:27.243098Z",
     "iopub.status.busy": "2024-04-06T10:12:27.241456Z",
     "iopub.status.idle": "2024-04-06T10:12:27.266124Z",
     "shell.execute_reply": "2024-04-06T10:12:27.263828Z"
    },
    "executionInfo": {
     "elapsed": 51,
     "status": "ok",
     "timestamp": 1712308986428,
     "user": {
      "displayName": "Nguyễn Đức Vũ",
      "userId": "07288779277842550568"
     },
     "user_tz": -420
    },
    "id": "MkXl2AppcHT7"
   },
   "outputs": [],
   "source": [
    "# Neural Network\n",
    "class NeuralNetwork:\n",
    "    def __init__(self): # Self is similar to your 'this' pointer in C++\n",
    "        return None\n",
    "\n",
    "    def build(self, input_dim, output_dim, n_hidden, n_neurons):\n",
    "        # `input_dim`: kích thước input feature\n",
    "        # `output_dim`: số phân lớp cần phân loại\n",
    "        # `n_hidden`: số lượng lớp ẩn\n",
    "        # `n_neurons`: số lượng neuron mỗi lớp ẩn\n",
    "\n",
    "        # Khởi tạo model\n",
    "        self.model = None\n",
    "\n",
    "        # Hãy cài đặt để định nghĩa KIẾN TRÚC MÔ HÌNH và lưu ở thuộc tính `self.model`\n",
    "        # với các biến đối tượng sau:\n",
    "        #  - tạo biến `input` với lớp đối tượng `Input` của Keras,\n",
    "        #    truyền vào kích thước đầu vào `input_dim`\n",
    "        #  - tạo `n_hidden`lớp ẩn biết rằng, mỗi lớp ẩn có `n_neurons`, có sử dụng bias\n",
    "        #    activation là hàm `sigmoid`. Đầu ra của lớp ẩn này là đầu vào lớp ẩn sau.\n",
    "        #  - tạo biến `output` với lớp đối tượng `Dense` của Keras,\n",
    "        #    truyền vào các tham số:  kích thước output (chú ý PHÂN LOẠI ĐA LỚP),\n",
    "        #    có sử dụng bias, CÓ SỬ DỤNG hàm activation là `softmax`. Đầu vào của lớp\n",
    "        #    output chính là lớp ẩn cuối cùng.\n",
    "        # Sau bước này, self.model sẽ đóng gói 2 biến `input` và `output` để tạo thành mô hình\n",
    "        ### BEGIN SOLUTION\n",
    "        input = Input(shape=(input_dim,))\n",
    "        n_hidden = int(n_hidden)\n",
    "        output = input\n",
    "\n",
    "        for i in range(n_hidden):\n",
    "            output = Dense(n_neurons, use_bias=True, activation='sigmoid')(output)\n",
    "        \n",
    "        output = Dense(output_dim, use_bias=True, activation='softmax')(output)\n",
    "        self.model = Model(input, output)\n",
    "        ### END SOLUTION\n",
    "\n",
    "        return self.model\n",
    "\n",
    "    def train(self, x_train, y_train, epochs=500):\n",
    "        # Khởi tạo mặc định với số `epochs=50`, `learning_rate=0.05`\n",
    "        opt = tf.keras.optimizers.SGD(learning_rate=0.05) # Stochastic Gradient Descent\n",
    "        self.model.compile(optimizer=opt, loss='categorical_crossentropy') # CCE loss\n",
    "        return self.model.fit(x_train, y_train, epochs=epochs)\n",
    "\n",
    "    def save(self, model_file):\n",
    "        return self.model.save(model_file)\n",
    "\n",
    "    def load(self, model_file):\n",
    "        self.model = load_model(model_file)\n",
    "\n",
    "    def summary(self):\n",
    "        self.model.summary()\n",
    "\n",
    "    def predict(self, x_test):\n",
    "        return self.model.predict(x_test)\n",
    "\n",
    "    def get_weights(self, layer_id):\n",
    "        return self.model.layers[layer_id].get_weights()"
   ]
  },
  {
   "cell_type": "markdown",
   "id": "KZG8g70NcOd5",
   "metadata": {
    "id": "KZG8g70NcOd5"
   },
   "source": [
    "Tiếp theo, ta sẽ khởi tạo đối tượng NeuralNetwork và kiểm tra thử xem phương `build` đã cài đặt chính xác chưa."
   ]
  },
  {
   "cell_type": "code",
   "execution_count": 50,
   "id": "Jjph2C2CcLty",
   "metadata": {
    "colab": {
     "base_uri": "https://localhost:8080/"
    },
    "execution": {
     "iopub.execute_input": "2024-04-06T10:12:27.275624Z",
     "iopub.status.busy": "2024-04-06T10:12:27.273555Z",
     "iopub.status.idle": "2024-04-06T10:12:27.395029Z",
     "shell.execute_reply": "2024-04-06T10:12:27.392884Z"
    },
    "executionInfo": {
     "elapsed": 51,
     "status": "ok",
     "timestamp": 1712308986428,
     "user": {
      "displayName": "Nguyễn Đức Vũ",
      "userId": "07288779277842550568"
     },
     "user_tz": -420
    },
    "id": "Jjph2C2CcLty",
    "outputId": "7fdff960-81e8-47b7-9df2-80a118aa3c28"
   },
   "outputs": [
    {
     "data": {
      "text/plain": [
       "<keras.src.engine.functional.Functional at 0x36193fa50>"
      ]
     },
     "execution_count": 50,
     "metadata": {},
     "output_type": "execute_result"
    }
   ],
   "source": [
    "nn = NeuralNetwork()\n",
    "# Trong ví dụ này, ta sẽ khởi tạo input là một vector 1000 chiều,\n",
    "# bài toán cần phân loại 20 lớp đối tượng. Số lượng lớp ẩn là 3\n",
    "# và số neuron mỗi lớp ẩn là  10.\n",
    "nn.build(1000, 20, 3, 10)"
   ]
  },
  {
   "cell_type": "markdown",
   "id": "GYB5dcBtcS7d",
   "metadata": {
    "id": "GYB5dcBtcS7d"
   },
   "source": [
    "## 3. Tạo dữ liệu mẫu (toy example)\n",
    "Bước tiếp theo, ta sẽ tiến hành tạo mẫu dữ liệu để huấn luyện và kiểm thử.\n",
    "\n",
    "Dữ liệu được tạo ra là các điểm rải ngẫu nhiên xung quanh 4 cụm điểm:\n",
    "- [10, -2]\n",
    "- [2, 8]\n",
    "- [12, 8]\n",
    "- [-2, 0]\n",
    "\n",
    "Lưu ý rằng, 4 cụm điểm này rời nhau đủ xa để khi thêm nhiễu ngẫu nhiên,\n",
    "các điểm thuộc 4 cụm này vẫn không giao thoa nhau."
   ]
  },
  {
   "cell_type": "code",
   "execution_count": 51,
   "id": "oP_aPXwjcRpt",
   "metadata": {
    "colab": {
     "base_uri": "https://localhost:8080/",
     "height": 453
    },
    "execution": {
     "iopub.execute_input": "2024-04-06T10:12:27.553137Z",
     "iopub.status.busy": "2024-04-06T10:12:27.551295Z",
     "iopub.status.idle": "2024-04-06T10:12:27.974500Z",
     "shell.execute_reply": "2024-04-06T10:12:27.972272Z"
    },
    "executionInfo": {
     "elapsed": 68,
     "status": "ok",
     "timestamp": 1712308987226,
     "user": {
      "displayName": "Nguyễn Đức Vũ",
      "userId": "07288779277842550568"
     },
     "user_tz": -420
    },
    "id": "oP_aPXwjcRpt",
    "outputId": "f078f8cc-a3c4-42fb-eba9-e173d445f41d"
   },
   "outputs": [
    {
     "data": {
      "image/png": "[encoded data removed]",
      "text/plain": [
       "<Figure size 640x480 with 1 Axes>"
      ]
     },
     "metadata": {},
     "output_type": "display_data"
    }
   ],
   "source": [
    "import numpy as np\n",
    "import matplotlib.pyplot as plt\n",
    "\n",
    "# Số phân lớp: 4\n",
    "K = 4\n",
    "# Tạo bộ dữ  liệu gồm 4 điểm\n",
    "# S1, S2, S3, S4 là tâm của 4 lớp\n",
    "S1= np.array([[10,-2]])\n",
    "S2= np.array([[2,8]])\n",
    "S3= np.array([[12,8]])\n",
    "S4= np.array([[-2,0]])\n",
    "\n",
    "# 50 samples mỗi lớp\n",
    "n_sample = 50\n",
    "# Phát sinh các điểm với nhiễu ngẫu nhiên xung quanh 4 tâm\n",
    "pts1 = S1 + np.random.normal(0, 1.5, size=(n_sample,2))\n",
    "pts2 = S2 + np.random.normal(0, 1.5, size=(n_sample,2))\n",
    "pts3 = S3 + np.random.normal(0, 1.5, size=(n_sample,2))\n",
    "pts4 = S4 + np.random.normal(0, 1.5, size=(n_sample,2))\n",
    "\n",
    "# Nối tất cả các mẫu thành một khối dữ liệu X (input feature) và Y (nhãn)\n",
    "X_train = np.concatenate((pts1, pts2, pts3, pts4))\n",
    "# Concatenate data labels to a single input variable Y\n",
    "Y_train = np.concatenate(([0]*n_sample, [1]*n_sample, [2]*n_sample, [3]*n_sample))\n",
    "\n",
    "# Chuyển Y từ dạng nhãn sang one-hot vector\n",
    "Y_train = Y_train.astype(int)\n",
    "Y_oh = np.zeros((Y_train.size, Y_train.max()+1 ))\n",
    "Y_oh[np.arange(Y_train.size), Y_train] = 1\n",
    "\n",
    "# Trực quan hóa dữ liệu bằng các hình tròn màu đỏ, xanh lá, xanh dương và vàng\n",
    "plt.plot(pts1[:,0], pts1[:,1], 'ro')\n",
    "plt.plot(pts2[:,0], pts2[:,1], 'go')\n",
    "plt.plot(pts3[:,0], pts3[:,1], 'bo')\n",
    "plt.plot(pts4[:,0], pts4[:,1], 'yo')\n",
    "plt.show()"
   ]
  },
  {
   "cell_type": "markdown",
   "id": "uopzbiCucXrm",
   "metadata": {
    "id": "uopzbiCucXrm"
   },
   "source": [
    "## 4. Huấn luyện mô hình với dữ liệu mẫu\n",
    "\n",
    "Tiếp theo, ta sẽ khởi tạo lại mô hình để phù hợp với dữ liệu mẫu đã phát sinh ở bước trước. Việc xây dựng kiến trúc của mô hình phải phù hợp với số chiều của dữ liệu mẫu."
   ]
  },
  {
   "cell_type": "code",
   "execution_count": 52,
   "id": "YlAmECLucVk3",
   "metadata": {
    "colab": {
     "base_uri": "https://localhost:8080/"
    },
    "execution": {
     "iopub.execute_input": "2024-04-06T10:12:27.984335Z",
     "iopub.status.busy": "2024-04-06T10:12:27.982726Z",
     "iopub.status.idle": "2024-04-06T10:12:28.094159Z",
     "shell.execute_reply": "2024-04-06T10:12:28.091649Z"
    },
    "executionInfo": {
     "elapsed": 62,
     "status": "ok",
     "timestamp": 1712308987226,
     "user": {
      "displayName": "Nguyễn Đức Vũ",
      "userId": "07288779277842550568"
     },
     "user_tz": -420
    },
    "id": "YlAmECLucVk3",
    "outputId": "9f5b16a8-545f-4784-d9c9-185fe686db8e"
   },
   "outputs": [
    {
     "name": "stdout",
     "output_type": "stream",
     "text": [
      "Kiến trúc của mô hình Neural Network: \n",
      "Model: \"model_7\"\n",
      "_________________________________________________________________\n",
      " Layer (type)                Output Shape              Param #   \n",
      "=================================================================\n",
      " input_8 (InputLayer)        [(None, 2)]               0         \n",
      "                                                                 \n",
      " dense_10 (Dense)            (None, 3)                 9         \n",
      "                                                                 \n",
      " dense_11 (Dense)            (None, 4)                 16        \n",
      "                                                                 \n",
      "=================================================================\n",
      "Total params: 25 (100.00 Byte)\n",
      "Trainable params: 25 (100.00 Byte)\n",
      "Non-trainable params: 0 (0.00 Byte)\n",
      "_________________________________________________________________\n"
     ]
    }
   ],
   "source": [
    "nn = NeuralNetwork()\n",
    "\n",
    "# Hãy gọi phương thức `build` cho đối tượng `sr` và truyền tham số đầu vào\n",
    "# tương ứng với dữ liệu train đã phát sinh ở code block trên\n",
    "# Theo bạn, `input_dim`, `output_dim` bằng bao nhiêu?\n",
    "# Đối với các lớp ẩn, ta khởi tạo 01 lớp ẩn và 03 neuron cho mỗi lớp ẩn\n",
    "\n",
    "### BEGIN SOLUTION\n",
    "nn.build(2, 4, 1, 3)\n",
    "### END SOLUTION\n",
    "\n",
    "# Để hiển thị kiến trúc của mô hình ta gọi phương thức `summary`\n",
    "print(\"Kiến trúc của mô hình Neural Network: \")\n",
    "nn.summary()"
   ]
  },
  {
   "cell_type": "code",
   "execution_count": 53,
   "id": "U2LYtxBgca3h",
   "metadata": {
    "colab": {
     "base_uri": "https://localhost:8080/"
    },
    "execution": {
     "iopub.execute_input": "2024-04-06T10:12:28.139524Z",
     "iopub.status.busy": "2024-04-06T10:12:28.138763Z",
     "iopub.status.idle": "2024-04-06T10:12:43.653052Z",
     "shell.execute_reply": "2024-04-06T10:12:43.650821Z"
    },
    "executionInfo": {
     "elapsed": 14532,
     "status": "ok",
     "timestamp": 1712309001740,
     "user": {
      "displayName": "Nguyễn Đức Vũ",
      "userId": "07288779277842550568"
     },
     "user_tz": -420
    },
    "id": "U2LYtxBgca3h",
    "outputId": "76f2b571-3cfb-45c0-fe42-266e28149fa3",
    "scrolled": true
   },
   "outputs": [
    {
     "name": "stderr",
     "output_type": "stream",
     "text": [
      "WARNING:absl:At this time, the v2.11+ optimizer `tf.keras.optimizers.SGD` runs slowly on M1/M2 Macs, please use the legacy Keras optimizer instead, located at `tf.keras.optimizers.legacy.SGD`.\n"
     ]
    },
    {
     "name": "stdout",
     "output_type": "stream",
     "text": [
      "Epoch 1/500\n",
      "7/7 [==============================] - 0s 742us/step - loss: 1.2618\n",
      "Epoch 2/500\n",
      "7/7 [==============================] - 0s 581us/step - loss: 1.1854\n",
      "Epoch 3/500\n",
      "7/7 [==============================] - 0s 680us/step - loss: 1.1464\n",
      "Epoch 4/500\n",
      "7/7 [==============================] - 0s 680us/step - loss: 1.1133\n",
      "Epoch 5/500\n",
      "7/7 [==============================] - 0s 594us/step - loss: 1.0866\n",
      "Epoch 6/500\n",
      "7/7 [==============================] - 0s 720us/step - loss: 1.0650\n",
      "Epoch 7/500\n",
      "7/7 [==============================] - 0s 654us/step - loss: 1.0448\n",
      "Epoch 8/500\n",
      "7/7 [==============================] - 0s 696us/step - loss: 1.0273\n",
      "Epoch 9/500\n",
      "7/7 [==============================] - 0s 598us/step - loss: 1.0099\n",
      "Epoch 10/500\n",
      "7/7 [==============================] - 0s 703us/step - loss: 0.9945\n",
      "Epoch 11/500\n",
      "7/7 [==============================] - 0s 618us/step - loss: 0.9785\n",
      "Epoch 12/500\n",
      "7/7 [==============================] - 0s 687us/step - loss: 0.9640\n",
      "Epoch 13/500\n",
      "7/7 [==============================] - 0s 706us/step - loss: 0.9497\n",
      "Epoch 14/500\n",
      "7/7 [==============================] - 0s 630us/step - loss: 0.9353\n",
      "Epoch 15/500\n",
      "7/7 [==============================] - 0s 611us/step - loss: 0.9222\n",
      "Epoch 16/500\n",
      "7/7 [==============================] - 0s 767us/step - loss: 0.9090\n",
      "Epoch 17/500\n",
      "7/7 [==============================] - 0s 857us/step - loss: 0.8964\n",
      "Epoch 18/500\n",
      "7/7 [==============================] - 0s 731us/step - loss: 0.8848\n",
      "Epoch 19/500\n",
      "7/7 [==============================] - 0s 751us/step - loss: 0.8729\n",
      "Epoch 20/500\n",
      "7/7 [==============================] - 0s 856us/step - loss: 0.8623\n",
      "Epoch 21/500\n",
      "7/7 [==============================] - 0s 699us/step - loss: 0.8524\n",
      "Epoch 22/500\n",
      "7/7 [==============================] - 0s 704us/step - loss: 0.8420\n",
      "Epoch 23/500\n",
      "7/7 [==============================] - 0s 545us/step - loss: 0.8321\n",
      "Epoch 24/500\n",
      "7/7 [==============================] - 0s 619us/step - loss: 0.8221\n",
      "Epoch 25/500\n",
      "7/7 [==============================] - 0s 698us/step - loss: 0.8138\n",
      "Epoch 26/500\n",
      "7/7 [==============================] - 0s 631us/step - loss: 0.8047\n",
      "Epoch 27/500\n",
      "7/7 [==============================] - 0s 638us/step - loss: 0.7959\n",
      "Epoch 28/500\n",
      "7/7 [==============================] - 0s 672us/step - loss: 0.7875\n",
      "Epoch 29/500\n",
      "7/7 [==============================] - 0s 588us/step - loss: 0.7795\n",
      "Epoch 30/500\n",
      "7/7 [==============================] - 0s 701us/step - loss: 0.7719\n",
      "Epoch 31/500\n",
      "7/7 [==============================] - 0s 647us/step - loss: 0.7644\n",
      "Epoch 32/500\n",
      "7/7 [==============================] - 0s 602us/step - loss: 0.7575\n",
      "Epoch 33/500\n",
      "7/7 [==============================] - 0s 652us/step - loss: 0.7503\n",
      "Epoch 34/500\n",
      "7/7 [==============================] - 0s 639us/step - loss: 0.7444\n",
      "Epoch 35/500\n",
      "7/7 [==============================] - 0s 581us/step - loss: 0.7369\n",
      "Epoch 36/500\n",
      "7/7 [==============================] - 0s 707us/step - loss: 0.7323\n",
      "Epoch 37/500\n",
      "7/7 [==============================] - 0s 581us/step - loss: 0.7245\n",
      "Epoch 38/500\n",
      "7/7 [==============================] - 0s 583us/step - loss: 0.7182\n",
      "Epoch 39/500\n",
      "7/7 [==============================] - 0s 601us/step - loss: 0.7122\n",
      "Epoch 40/500\n",
      "7/7 [==============================] - 0s 604us/step - loss: 0.7067\n",
      "Epoch 41/500\n",
      "7/7 [==============================] - 0s 574us/step - loss: 0.7012\n",
      "Epoch 42/500\n",
      "7/7 [==============================] - 0s 624us/step - loss: 0.6956\n",
      "Epoch 43/500\n",
      "7/7 [==============================] - 0s 557us/step - loss: 0.6911\n",
      "Epoch 44/500\n",
      "7/7 [==============================] - 0s 580us/step - loss: 0.6849\n",
      "Epoch 45/500\n",
      "7/7 [==============================] - 0s 607us/step - loss: 0.6803\n",
      "Epoch 46/500\n",
      "7/7 [==============================] - 0s 613us/step - loss: 0.6752\n",
      "Epoch 47/500\n",
      "7/7 [==============================] - 0s 652us/step - loss: 0.6706\n",
      "Epoch 48/500\n",
      "7/7 [==============================] - 0s 570us/step - loss: 0.6667\n",
      "Epoch 49/500\n",
      "7/7 [==============================] - 0s 625us/step - loss: 0.6624\n",
      "Epoch 50/500\n",
      "7/7 [==============================] - 0s 547us/step - loss: 0.6583\n",
      "Epoch 51/500\n",
      "7/7 [==============================] - 0s 675us/step - loss: 0.6538\n",
      "Epoch 52/500\n",
      "7/7 [==============================] - 0s 611us/step - loss: 0.6499\n",
      "Epoch 53/500\n",
      "7/7 [==============================] - 0s 604us/step - loss: 0.6457\n",
      "Epoch 54/500\n",
      "7/7 [==============================] - 0s 534us/step - loss: 0.6413\n",
      "Epoch 55/500\n",
      "7/7 [==============================] - 0s 588us/step - loss: 0.6377\n",
      "Epoch 56/500\n",
      "7/7 [==============================] - 0s 591us/step - loss: 0.6336\n",
      "Epoch 57/500\n",
      "7/7 [==============================] - 0s 691us/step - loss: 0.6303\n",
      "Epoch 58/500\n",
      "7/7 [==============================] - 0s 567us/step - loss: 0.6268\n",
      "Epoch 59/500\n",
      "7/7 [==============================] - 0s 623us/step - loss: 0.6233\n",
      "Epoch 60/500\n",
      "7/7 [==============================] - 0s 659us/step - loss: 0.6203\n",
      "Epoch 61/500\n",
      "7/7 [==============================] - 0s 642us/step - loss: 0.6176\n",
      "Epoch 62/500\n",
      "7/7 [==============================] - 0s 585us/step - loss: 0.6137\n",
      "Epoch 63/500\n",
      "7/7 [==============================] - 0s 806us/step - loss: 0.6109\n",
      "Epoch 64/500\n",
      "7/7 [==============================] - 0s 531us/step - loss: 0.6073\n",
      "Epoch 65/500\n",
      "7/7 [==============================] - 0s 714us/step - loss: 0.6048\n",
      "Epoch 66/500\n",
      "7/7 [==============================] - 0s 549us/step - loss: 0.6018\n",
      "Epoch 67/500\n",
      "7/7 [==============================] - 0s 710us/step - loss: 0.5984\n",
      "Epoch 68/500\n",
      "7/7 [==============================] - 0s 749us/step - loss: 0.5970\n",
      "Epoch 69/500\n",
      "7/7 [==============================] - 0s 643us/step - loss: 0.5930\n",
      "Epoch 70/500\n",
      "7/7 [==============================] - 0s 606us/step - loss: 0.5902\n",
      "Epoch 71/500\n",
      "7/7 [==============================] - 0s 727us/step - loss: 0.5874\n",
      "Epoch 72/500\n",
      "7/7 [==============================] - 0s 679us/step - loss: 0.5853\n",
      "Epoch 73/500\n",
      "7/7 [==============================] - 0s 730us/step - loss: 0.5831\n",
      "Epoch 74/500\n",
      "7/7 [==============================] - 0s 621us/step - loss: 0.5800\n",
      "Epoch 75/500\n",
      "7/7 [==============================] - 0s 751us/step - loss: 0.5775\n",
      "Epoch 76/500\n",
      "7/7 [==============================] - 0s 559us/step - loss: 0.5751\n",
      "Epoch 77/500\n",
      "7/7 [==============================] - 0s 666us/step - loss: 0.5732\n",
      "Epoch 78/500\n",
      "7/7 [==============================] - 0s 721us/step - loss: 0.5711\n",
      "Epoch 79/500\n",
      "7/7 [==============================] - 0s 690us/step - loss: 0.5690\n",
      "Epoch 80/500\n",
      "7/7 [==============================] - 0s 598us/step - loss: 0.5661\n",
      "Epoch 81/500\n",
      "7/7 [==============================] - 0s 681us/step - loss: 0.5643\n",
      "Epoch 82/500\n",
      "7/7 [==============================] - 0s 862us/step - loss: 0.5624\n",
      "Epoch 83/500\n",
      "7/7 [==============================] - 0s 4ms/step - loss: 0.5604\n",
      "Epoch 84/500\n",
      "7/7 [==============================] - 0s 2ms/step - loss: 0.5578\n",
      "Epoch 85/500\n",
      "7/7 [==============================] - 0s 1ms/step - loss: 0.5561\n",
      "Epoch 86/500\n",
      "7/7 [==============================] - 0s 956us/step - loss: 0.5540\n",
      "Epoch 87/500\n",
      "7/7 [==============================] - 0s 958us/step - loss: 0.5521\n",
      "Epoch 88/500\n",
      "7/7 [==============================] - 0s 897us/step - loss: 0.5505\n",
      "Epoch 89/500\n",
      "7/7 [==============================] - 0s 775us/step - loss: 0.5487\n",
      "Epoch 90/500\n",
      "7/7 [==============================] - 0s 715us/step - loss: 0.5470\n",
      "Epoch 91/500\n",
      "7/7 [==============================] - 0s 766us/step - loss: 0.5455\n",
      "Epoch 92/500\n",
      "7/7 [==============================] - 0s 815us/step - loss: 0.5433\n",
      "Epoch 93/500\n",
      "7/7 [==============================] - 0s 789us/step - loss: 0.5413\n",
      "Epoch 94/500\n",
      "7/7 [==============================] - 0s 678us/step - loss: 0.5396\n",
      "Epoch 95/500\n",
      "7/7 [==============================] - 0s 711us/step - loss: 0.5385\n",
      "Epoch 96/500\n",
      "7/7 [==============================] - 0s 674us/step - loss: 0.5364\n",
      "Epoch 97/500\n",
      "7/7 [==============================] - 0s 590us/step - loss: 0.5351\n",
      "Epoch 98/500\n",
      "7/7 [==============================] - 0s 661us/step - loss: 0.5334\n",
      "Epoch 99/500\n",
      "7/7 [==============================] - 0s 760us/step - loss: 0.5318\n",
      "Epoch 100/500\n",
      "7/7 [==============================] - 0s 749us/step - loss: 0.5305\n",
      "Epoch 101/500\n",
      "7/7 [==============================] - 0s 878us/step - loss: 0.5292\n",
      "Epoch 102/500\n",
      "7/7 [==============================] - 0s 564us/step - loss: 0.5271\n",
      "Epoch 103/500\n",
      "7/7 [==============================] - 0s 681us/step - loss: 0.5259\n",
      "Epoch 104/500\n",
      "7/7 [==============================] - 0s 1ms/step - loss: 0.5248\n",
      "Epoch 105/500\n",
      "7/7 [==============================] - 0s 932us/step - loss: 0.5230\n",
      "Epoch 106/500\n",
      "7/7 [==============================] - 0s 1ms/step - loss: 0.5225\n",
      "Epoch 107/500\n",
      "7/7 [==============================] - 0s 786us/step - loss: 0.5217\n",
      "Epoch 108/500\n",
      "7/7 [==============================] - 0s 826us/step - loss: 0.5190\n",
      "Epoch 109/500\n",
      "7/7 [==============================] - 0s 729us/step - loss: 0.5175\n",
      "Epoch 110/500\n",
      "7/7 [==============================] - 0s 734us/step - loss: 0.5164\n",
      "Epoch 111/500\n",
      "7/7 [==============================] - 0s 832us/step - loss: 0.5159\n",
      "Epoch 112/500\n",
      "7/7 [==============================] - 0s 622us/step - loss: 0.5146\n",
      "Epoch 113/500\n",
      "7/7 [==============================] - 0s 556us/step - loss: 0.5132\n",
      "Epoch 114/500\n",
      "7/7 [==============================] - 0s 604us/step - loss: 0.5114\n",
      "Epoch 115/500\n",
      "7/7 [==============================] - 0s 602us/step - loss: 0.5110\n",
      "Epoch 116/500\n",
      "7/7 [==============================] - 0s 620us/step - loss: 0.5095\n",
      "Epoch 117/500\n",
      "7/7 [==============================] - 0s 612us/step - loss: 0.5081\n",
      "Epoch 118/500\n",
      "7/7 [==============================] - 0s 668us/step - loss: 0.5077\n",
      "Epoch 119/500\n",
      "7/7 [==============================] - 0s 607us/step - loss: 0.5057\n",
      "Epoch 120/500\n",
      "7/7 [==============================] - 0s 650us/step - loss: 0.5047\n",
      "Epoch 121/500\n",
      "7/7 [==============================] - 0s 711us/step - loss: 0.5033\n",
      "Epoch 122/500\n",
      "7/7 [==============================] - 0s 536us/step - loss: 0.5031\n",
      "Epoch 123/500\n",
      "7/7 [==============================] - 0s 723us/step - loss: 0.5017\n",
      "Epoch 124/500\n",
      "7/7 [==============================] - 0s 798us/step - loss: 0.5011\n",
      "Epoch 125/500\n",
      "7/7 [==============================] - 0s 602us/step - loss: 0.4994\n",
      "Epoch 126/500\n",
      "7/7 [==============================] - 0s 714us/step - loss: 0.4988\n",
      "Epoch 127/500\n",
      "7/7 [==============================] - 0s 760us/step - loss: 0.4981\n",
      "Epoch 128/500\n",
      "7/7 [==============================] - 0s 752us/step - loss: 0.4976\n",
      "Epoch 129/500\n",
      "7/7 [==============================] - 0s 601us/step - loss: 0.4953\n",
      "Epoch 130/500\n",
      "7/7 [==============================] - 0s 758us/step - loss: 0.4948\n",
      "Epoch 131/500\n",
      "7/7 [==============================] - 0s 546us/step - loss: 0.4940\n",
      "Epoch 132/500\n",
      "7/7 [==============================] - 0s 603us/step - loss: 0.4937\n",
      "Epoch 133/500\n",
      "7/7 [==============================] - 0s 692us/step - loss: 0.4929\n",
      "Epoch 134/500\n",
      "7/7 [==============================] - 0s 609us/step - loss: 0.4914\n",
      "Epoch 135/500\n",
      "7/7 [==============================] - 0s 585us/step - loss: 0.4906\n",
      "Epoch 136/500\n",
      "7/7 [==============================] - 0s 698us/step - loss: 0.4895\n",
      "Epoch 137/500\n",
      "7/7 [==============================] - 0s 669us/step - loss: 0.4880\n",
      "Epoch 138/500\n",
      "7/7 [==============================] - 0s 596us/step - loss: 0.4872\n",
      "Epoch 139/500\n",
      "7/7 [==============================] - 0s 701us/step - loss: 0.4863\n",
      "Epoch 140/500\n",
      "7/7 [==============================] - 0s 673us/step - loss: 0.4860\n",
      "Epoch 141/500\n",
      "7/7 [==============================] - 0s 594us/step - loss: 0.4855\n",
      "Epoch 142/500\n",
      "7/7 [==============================] - 0s 754us/step - loss: 0.4848\n",
      "Epoch 143/500\n",
      "7/7 [==============================] - 0s 635us/step - loss: 0.4836\n",
      "Epoch 144/500\n",
      "7/7 [==============================] - 0s 627us/step - loss: 0.4834\n",
      "Epoch 145/500\n",
      "7/7 [==============================] - 0s 681us/step - loss: 0.4824\n",
      "Epoch 146/500\n",
      "7/7 [==============================] - 0s 751us/step - loss: 0.4821\n",
      "Epoch 147/500\n",
      "7/7 [==============================] - 0s 537us/step - loss: 0.4810\n",
      "Epoch 148/500\n",
      "7/7 [==============================] - 0s 723us/step - loss: 0.4799\n",
      "Epoch 149/500\n",
      "7/7 [==============================] - 0s 693us/step - loss: 0.4788\n",
      "Epoch 150/500\n",
      "7/7 [==============================] - 0s 618us/step - loss: 0.4782\n",
      "Epoch 151/500\n",
      "7/7 [==============================] - 0s 685us/step - loss: 0.4782\n",
      "Epoch 152/500\n",
      "7/7 [==============================] - 0s 712us/step - loss: 0.4764\n",
      "Epoch 153/500\n",
      "7/7 [==============================] - 0s 585us/step - loss: 0.4765\n",
      "Epoch 154/500\n",
      "7/7 [==============================] - 0s 719us/step - loss: 0.4762\n",
      "Epoch 155/500\n",
      "7/7 [==============================] - 0s 725us/step - loss: 0.4744\n",
      "Epoch 156/500\n",
      "7/7 [==============================] - 0s 724us/step - loss: 0.4745\n",
      "Epoch 157/500\n",
      "7/7 [==============================] - 0s 579us/step - loss: 0.4739\n",
      "Epoch 158/500\n",
      "7/7 [==============================] - 0s 1ms/step - loss: 0.4741\n",
      "Epoch 159/500\n",
      "7/7 [==============================] - 0s 802us/step - loss: 0.4725\n",
      "Epoch 160/500\n",
      "7/7 [==============================] - 0s 702us/step - loss: 0.4711\n",
      "Epoch 161/500\n",
      "7/7 [==============================] - 0s 587us/step - loss: 0.4705\n",
      "Epoch 162/500\n",
      "7/7 [==============================] - 0s 672us/step - loss: 0.4703\n",
      "Epoch 163/500\n",
      "7/7 [==============================] - 0s 826us/step - loss: 0.4701\n",
      "Epoch 164/500\n",
      "7/7 [==============================] - 0s 637us/step - loss: 0.4692\n",
      "Epoch 165/500\n",
      "7/7 [==============================] - 0s 708us/step - loss: 0.4685\n",
      "Epoch 166/500\n",
      "7/7 [==============================] - 0s 637us/step - loss: 0.4674\n",
      "Epoch 167/500\n",
      "7/7 [==============================] - 0s 770us/step - loss: 0.4678\n",
      "Epoch 168/500\n",
      "7/7 [==============================] - 0s 669us/step - loss: 0.4661\n",
      "Epoch 169/500\n",
      "7/7 [==============================] - 0s 666us/step - loss: 0.4656\n",
      "Epoch 170/500\n",
      "7/7 [==============================] - 0s 676us/step - loss: 0.4653\n",
      "Epoch 171/500\n",
      "7/7 [==============================] - 0s 1ms/step - loss: 0.4643\n",
      "Epoch 172/500\n",
      "7/7 [==============================] - 0s 716us/step - loss: 0.4641\n",
      "Epoch 173/500\n",
      "7/7 [==============================] - 0s 683us/step - loss: 0.4633\n",
      "Epoch 174/500\n",
      "7/7 [==============================] - 0s 649us/step - loss: 0.4633\n",
      "Epoch 175/500\n",
      "7/7 [==============================] - 0s 764us/step - loss: 0.4634\n",
      "Epoch 176/500\n",
      "7/7 [==============================] - 0s 570us/step - loss: 0.4623\n",
      "Epoch 177/500\n",
      "7/7 [==============================] - 0s 685us/step - loss: 0.4614\n",
      "Epoch 178/500\n",
      "7/7 [==============================] - 0s 659us/step - loss: 0.4607\n",
      "Epoch 179/500\n",
      "7/7 [==============================] - 0s 660us/step - loss: 0.4605\n",
      "Epoch 180/500\n",
      "7/7 [==============================] - 0s 683us/step - loss: 0.4599\n",
      "Epoch 181/500\n",
      "7/7 [==============================] - 0s 719us/step - loss: 0.4596\n",
      "Epoch 182/500\n",
      "7/7 [==============================] - 0s 538us/step - loss: 0.4586\n",
      "Epoch 183/500\n",
      "7/7 [==============================] - 0s 650us/step - loss: 0.4579\n",
      "Epoch 184/500\n",
      "7/7 [==============================] - 0s 795us/step - loss: 0.4583\n",
      "Epoch 185/500\n",
      "7/7 [==============================] - 0s 2ms/step - loss: 0.4583\n",
      "Epoch 186/500\n",
      "7/7 [==============================] - 0s 2ms/step - loss: 0.4577\n",
      "Epoch 187/500\n",
      "7/7 [==============================] - 0s 1ms/step - loss: 0.4572\n",
      "Epoch 188/500\n",
      "7/7 [==============================] - 0s 707us/step - loss: 0.4563\n",
      "Epoch 189/500\n",
      "7/7 [==============================] - 0s 866us/step - loss: 0.4564\n",
      "Epoch 190/500\n",
      "7/7 [==============================] - 0s 722us/step - loss: 0.4551\n",
      "Epoch 191/500\n",
      "7/7 [==============================] - 0s 572us/step - loss: 0.4552\n",
      "Epoch 192/500\n",
      "7/7 [==============================] - 0s 700us/step - loss: 0.4555\n",
      "Epoch 193/500\n",
      "7/7 [==============================] - 0s 587us/step - loss: 0.4545\n",
      "Epoch 194/500\n",
      "7/7 [==============================] - 0s 759us/step - loss: 0.4532\n",
      "Epoch 195/500\n",
      "7/7 [==============================] - 0s 708us/step - loss: 0.4528\n",
      "Epoch 196/500\n",
      "7/7 [==============================] - 0s 836us/step - loss: 0.4525\n",
      "Epoch 197/500\n",
      "7/7 [==============================] - 0s 550us/step - loss: 0.4522\n",
      "Epoch 198/500\n",
      "7/7 [==============================] - 0s 827us/step - loss: 0.4523\n",
      "Epoch 199/500\n",
      "7/7 [==============================] - 0s 737us/step - loss: 0.4513\n",
      "Epoch 200/500\n",
      "7/7 [==============================] - 0s 628us/step - loss: 0.4506\n",
      "Epoch 201/500\n",
      "7/7 [==============================] - 0s 645us/step - loss: 0.4512\n",
      "Epoch 202/500\n",
      "7/7 [==============================] - 0s 737us/step - loss: 0.4498\n",
      "Epoch 203/500\n",
      "7/7 [==============================] - 0s 744us/step - loss: 0.4496\n",
      "Epoch 204/500\n",
      "7/7 [==============================] - 0s 593us/step - loss: 0.4487\n",
      "Epoch 205/500\n",
      "7/7 [==============================] - 0s 761us/step - loss: 0.4492\n",
      "Epoch 206/500\n",
      "7/7 [==============================] - 0s 761us/step - loss: 0.4480\n",
      "Epoch 207/500\n",
      "7/7 [==============================] - 0s 617us/step - loss: 0.4485\n",
      "Epoch 208/500\n",
      "7/7 [==============================] - 0s 873us/step - loss: 0.4481\n",
      "Epoch 209/500\n",
      "7/7 [==============================] - 0s 741us/step - loss: 0.4476\n",
      "Epoch 210/500\n",
      "7/7 [==============================] - 0s 613us/step - loss: 0.4472\n",
      "Epoch 211/500\n",
      "7/7 [==============================] - 0s 589us/step - loss: 0.4473\n",
      "Epoch 212/500\n",
      "7/7 [==============================] - 0s 810us/step - loss: 0.4461\n",
      "Epoch 213/500\n",
      "7/7 [==============================] - 0s 663us/step - loss: 0.4450\n",
      "Epoch 214/500\n",
      "7/7 [==============================] - 0s 577us/step - loss: 0.4459\n",
      "Epoch 215/500\n",
      "7/7 [==============================] - 0s 679us/step - loss: 0.4459\n",
      "Epoch 216/500\n",
      "7/7 [==============================] - 0s 825us/step - loss: 0.4450\n",
      "Epoch 217/500\n",
      "7/7 [==============================] - 0s 531us/step - loss: 0.4436\n",
      "Epoch 218/500\n",
      "7/7 [==============================] - 0s 709us/step - loss: 0.4440\n",
      "Epoch 219/500\n",
      "7/7 [==============================] - 0s 725us/step - loss: 0.4431\n",
      "Epoch 220/500\n",
      "7/7 [==============================] - 0s 630us/step - loss: 0.4430\n",
      "Epoch 221/500\n",
      "7/7 [==============================] - 0s 583us/step - loss: 0.4443\n",
      "Epoch 222/500\n",
      "7/7 [==============================] - 0s 745us/step - loss: 0.4431\n",
      "Epoch 223/500\n",
      "7/7 [==============================] - 0s 578us/step - loss: 0.4435\n",
      "Epoch 224/500\n",
      "7/7 [==============================] - 0s 613us/step - loss: 0.4419\n",
      "Epoch 225/500\n",
      "7/7 [==============================] - 0s 677us/step - loss: 0.4417\n",
      "Epoch 226/500\n",
      "7/7 [==============================] - 0s 608us/step - loss: 0.4415\n",
      "Epoch 227/500\n",
      "7/7 [==============================] - 0s 559us/step - loss: 0.4409\n",
      "Epoch 228/500\n",
      "7/7 [==============================] - 0s 711us/step - loss: 0.4400\n",
      "Epoch 229/500\n",
      "7/7 [==============================] - 0s 584us/step - loss: 0.4402\n",
      "Epoch 230/500\n",
      "7/7 [==============================] - 0s 739us/step - loss: 0.4398\n",
      "Epoch 231/500\n",
      "7/7 [==============================] - 0s 744us/step - loss: 0.4393\n",
      "Epoch 232/500\n",
      "7/7 [==============================] - 0s 658us/step - loss: 0.4403\n",
      "Epoch 233/500\n",
      "7/7 [==============================] - 0s 582us/step - loss: 0.4385\n",
      "Epoch 234/500\n",
      "7/7 [==============================] - 0s 702us/step - loss: 0.4382\n",
      "Epoch 235/500\n",
      "7/7 [==============================] - 0s 672us/step - loss: 0.4390\n",
      "Epoch 236/500\n",
      "7/7 [==============================] - 0s 666us/step - loss: 0.4378\n",
      "Epoch 237/500\n",
      "7/7 [==============================] - 0s 539us/step - loss: 0.4381\n",
      "Epoch 238/500\n",
      "7/7 [==============================] - 0s 651us/step - loss: 0.4379\n",
      "Epoch 239/500\n",
      "7/7 [==============================] - 0s 608us/step - loss: 0.4374\n",
      "Epoch 240/500\n",
      "7/7 [==============================] - 0s 710us/step - loss: 0.4372\n",
      "Epoch 241/500\n",
      "7/7 [==============================] - 0s 557us/step - loss: 0.4369\n",
      "Epoch 242/500\n",
      "7/7 [==============================] - 0s 631us/step - loss: 0.4363\n",
      "Epoch 243/500\n",
      "7/7 [==============================] - 0s 664us/step - loss: 0.4367\n",
      "Epoch 244/500\n",
      "7/7 [==============================] - 0s 570us/step - loss: 0.4364\n",
      "Epoch 245/500\n",
      "7/7 [==============================] - 0s 662us/step - loss: 0.4350\n",
      "Epoch 246/500\n",
      "7/7 [==============================] - 0s 701us/step - loss: 0.4352\n",
      "Epoch 247/500\n",
      "7/7 [==============================] - 0s 539us/step - loss: 0.4348\n",
      "Epoch 248/500\n",
      "7/7 [==============================] - 0s 2ms/step - loss: 0.4338\n",
      "Epoch 249/500\n",
      "7/7 [==============================] - 0s 1ms/step - loss: 0.4347\n",
      "Epoch 250/500\n",
      "7/7 [==============================] - 0s 1ms/step - loss: 0.4340\n",
      "Epoch 251/500\n",
      "7/7 [==============================] - 0s 970us/step - loss: 0.4336\n",
      "Epoch 252/500\n",
      "7/7 [==============================] - 0s 638us/step - loss: 0.4330\n",
      "Epoch 253/500\n",
      "7/7 [==============================] - 0s 737us/step - loss: 0.4334\n",
      "Epoch 254/500\n",
      "7/7 [==============================] - 0s 612us/step - loss: 0.4327\n",
      "Epoch 255/500\n",
      "7/7 [==============================] - 0s 938us/step - loss: 0.4316\n",
      "Epoch 256/500\n",
      "7/7 [==============================] - 0s 561us/step - loss: 0.4316\n",
      "Epoch 257/500\n",
      "7/7 [==============================] - 0s 639us/step - loss: 0.4315\n",
      "Epoch 258/500\n",
      "7/7 [==============================] - 0s 646us/step - loss: 0.4314\n",
      "Epoch 259/500\n",
      "7/7 [==============================] - 0s 696us/step - loss: 0.4312\n",
      "Epoch 260/500\n",
      "7/7 [==============================] - 0s 600us/step - loss: 0.4307\n",
      "Epoch 261/500\n",
      "7/7 [==============================] - 0s 731us/step - loss: 0.4301\n",
      "Epoch 262/500\n",
      "7/7 [==============================] - 0s 639us/step - loss: 0.4309\n",
      "Epoch 263/500\n",
      "7/7 [==============================] - 0s 588us/step - loss: 0.4294\n",
      "Epoch 264/500\n",
      "7/7 [==============================] - 0s 751us/step - loss: 0.4302\n",
      "Epoch 265/500\n",
      "7/7 [==============================] - 0s 560us/step - loss: 0.4303\n",
      "Epoch 266/500\n",
      "7/7 [==============================] - 0s 541us/step - loss: 0.4290\n",
      "Epoch 267/500\n",
      "7/7 [==============================] - 0s 697us/step - loss: 0.4294\n",
      "Epoch 268/500\n",
      "7/7 [==============================] - 0s 570us/step - loss: 0.4287\n",
      "Epoch 269/500\n",
      "7/7 [==============================] - 0s 659us/step - loss: 0.4285\n",
      "Epoch 270/500\n",
      "7/7 [==============================] - 0s 703us/step - loss: 0.4284\n",
      "Epoch 271/500\n",
      "7/7 [==============================] - 0s 646us/step - loss: 0.4288\n",
      "Epoch 272/500\n",
      "7/7 [==============================] - 0s 749us/step - loss: 0.4273\n",
      "Epoch 273/500\n",
      "7/7 [==============================] - 0s 715us/step - loss: 0.4274\n",
      "Epoch 274/500\n",
      "7/7 [==============================] - 0s 577us/step - loss: 0.4267\n",
      "Epoch 275/500\n",
      "7/7 [==============================] - 0s 605us/step - loss: 0.4269\n",
      "Epoch 276/500\n",
      "7/7 [==============================] - 0s 628us/step - loss: 0.4264\n",
      "Epoch 277/500\n",
      "7/7 [==============================] - 0s 623us/step - loss: 0.4257\n",
      "Epoch 278/500\n",
      "7/7 [==============================] - 0s 864us/step - loss: 0.4262\n",
      "Epoch 279/500\n",
      "7/7 [==============================] - 0s 630us/step - loss: 0.4259\n",
      "Epoch 280/500\n",
      "7/7 [==============================] - 0s 596us/step - loss: 0.4257\n",
      "Epoch 281/500\n",
      "7/7 [==============================] - 0s 598us/step - loss: 0.4250\n",
      "Epoch 282/500\n",
      "7/7 [==============================] - 0s 672us/step - loss: 0.4245\n",
      "Epoch 283/500\n",
      "7/7 [==============================] - 0s 675us/step - loss: 0.4241\n",
      "Epoch 284/500\n",
      "7/7 [==============================] - 0s 547us/step - loss: 0.4241\n",
      "Epoch 285/500\n",
      "7/7 [==============================] - 0s 680us/step - loss: 0.4232\n",
      "Epoch 286/500\n",
      "7/7 [==============================] - 0s 634us/step - loss: 0.4227\n",
      "Epoch 287/500\n",
      "7/7 [==============================] - 0s 634us/step - loss: 0.4226\n",
      "Epoch 288/500\n",
      "7/7 [==============================] - 0s 721us/step - loss: 0.4223\n",
      "Epoch 289/500\n",
      "7/7 [==============================] - 0s 699us/step - loss: 0.4235\n",
      "Epoch 290/500\n",
      "7/7 [==============================] - 0s 523us/step - loss: 0.4227\n",
      "Epoch 291/500\n",
      "7/7 [==============================] - 0s 556us/step - loss: 0.4229\n",
      "Epoch 292/500\n",
      "7/7 [==============================] - 0s 577us/step - loss: 0.4207\n",
      "Epoch 293/500\n",
      "7/7 [==============================] - 0s 595us/step - loss: 0.4208\n",
      "Epoch 294/500\n",
      "7/7 [==============================] - 0s 600us/step - loss: 0.4205\n",
      "Epoch 295/500\n",
      "7/7 [==============================] - 0s 565us/step - loss: 0.4204\n",
      "Epoch 296/500\n",
      "7/7 [==============================] - 0s 728us/step - loss: 0.4187\n",
      "Epoch 297/500\n",
      "7/7 [==============================] - 0s 663us/step - loss: 0.4182\n",
      "Epoch 298/500\n",
      "7/7 [==============================] - 0s 524us/step - loss: 0.4178\n",
      "Epoch 299/500\n",
      "7/7 [==============================] - 0s 688us/step - loss: 0.4170\n",
      "Epoch 300/500\n",
      "7/7 [==============================] - 0s 621us/step - loss: 0.4179\n",
      "Epoch 301/500\n",
      "7/7 [==============================] - 0s 694us/step - loss: 0.4156\n",
      "Epoch 302/500\n",
      "7/7 [==============================] - 0s 653us/step - loss: 0.4152\n",
      "Epoch 303/500\n",
      "7/7 [==============================] - 0s 670us/step - loss: 0.4132\n",
      "Epoch 304/500\n",
      "7/7 [==============================] - 0s 626us/step - loss: 0.4139\n",
      "Epoch 305/500\n",
      "7/7 [==============================] - 0s 761us/step - loss: 0.4115\n",
      "Epoch 306/500\n",
      "7/7 [==============================] - 0s 622us/step - loss: 0.4092\n",
      "Epoch 307/500\n",
      "7/7 [==============================] - 0s 622us/step - loss: 0.4083\n",
      "Epoch 308/500\n",
      "7/7 [==============================] - 0s 624us/step - loss: 0.4063\n",
      "Epoch 309/500\n",
      "7/7 [==============================] - 0s 545us/step - loss: 0.4035\n",
      "Epoch 310/500\n",
      "7/7 [==============================] - 0s 626us/step - loss: 0.4008\n",
      "Epoch 311/500\n",
      "7/7 [==============================] - 0s 1ms/step - loss: 0.3986\n",
      "Epoch 312/500\n",
      "7/7 [==============================] - 0s 2ms/step - loss: 0.3967\n",
      "Epoch 313/500\n",
      "7/7 [==============================] - 0s 2ms/step - loss: 0.3942\n",
      "Epoch 314/500\n",
      "7/7 [==============================] - 0s 845us/step - loss: 0.3914\n",
      "Epoch 315/500\n",
      "7/7 [==============================] - 0s 903us/step - loss: 0.3891\n",
      "Epoch 316/500\n",
      "7/7 [==============================] - 0s 716us/step - loss: 0.3856\n",
      "Epoch 317/500\n",
      "7/7 [==============================] - 0s 629us/step - loss: 0.3828\n",
      "Epoch 318/500\n",
      "7/7 [==============================] - 0s 673us/step - loss: 0.3801\n",
      "Epoch 319/500\n",
      "7/7 [==============================] - 0s 538us/step - loss: 0.3767\n",
      "Epoch 320/500\n",
      "7/7 [==============================] - 0s 745us/step - loss: 0.3726\n",
      "Epoch 321/500\n",
      "7/7 [==============================] - 0s 645us/step - loss: 0.3701\n",
      "Epoch 322/500\n",
      "7/7 [==============================] - 0s 640us/step - loss: 0.3664\n",
      "Epoch 323/500\n",
      "7/7 [==============================] - 0s 535us/step - loss: 0.3629\n",
      "Epoch 324/500\n",
      "7/7 [==============================] - 0s 630us/step - loss: 0.3590\n",
      "Epoch 325/500\n",
      "7/7 [==============================] - 0s 553us/step - loss: 0.3555\n",
      "Epoch 326/500\n",
      "7/7 [==============================] - 0s 655us/step - loss: 0.3517\n",
      "Epoch 327/500\n",
      "7/7 [==============================] - 0s 635us/step - loss: 0.3475\n",
      "Epoch 328/500\n",
      "7/7 [==============================] - 0s 571us/step - loss: 0.3436\n",
      "Epoch 329/500\n",
      "7/7 [==============================] - 0s 584us/step - loss: 0.3401\n",
      "Epoch 330/500\n",
      "7/7 [==============================] - 0s 645us/step - loss: 0.3354\n",
      "Epoch 331/500\n",
      "7/7 [==============================] - 0s 533us/step - loss: 0.3316\n",
      "Epoch 332/500\n",
      "7/7 [==============================] - 0s 604us/step - loss: 0.3297\n",
      "Epoch 333/500\n",
      "7/7 [==============================] - 0s 652us/step - loss: 0.3242\n",
      "Epoch 334/500\n",
      "7/7 [==============================] - 0s 580us/step - loss: 0.3209\n",
      "Epoch 335/500\n",
      "7/7 [==============================] - 0s 635us/step - loss: 0.3190\n",
      "Epoch 336/500\n",
      "7/7 [==============================] - 0s 633us/step - loss: 0.3136\n",
      "Epoch 337/500\n",
      "7/7 [==============================] - 0s 547us/step - loss: 0.3097\n",
      "Epoch 338/500\n",
      "7/7 [==============================] - 0s 634us/step - loss: 0.3061\n",
      "Epoch 339/500\n",
      "7/7 [==============================] - 0s 601us/step - loss: 0.3034\n",
      "Epoch 340/500\n",
      "7/7 [==============================] - 0s 605us/step - loss: 0.2989\n",
      "Epoch 341/500\n",
      "7/7 [==============================] - 0s 581us/step - loss: 0.2960\n",
      "Epoch 342/500\n",
      "7/7 [==============================] - 0s 574us/step - loss: 0.2927\n",
      "Epoch 343/500\n",
      "7/7 [==============================] - 0s 684us/step - loss: 0.2890\n",
      "Epoch 344/500\n",
      "7/7 [==============================] - 0s 732us/step - loss: 0.2868\n",
      "Epoch 345/500\n",
      "7/7 [==============================] - 0s 668us/step - loss: 0.2825\n",
      "Epoch 346/500\n",
      "7/7 [==============================] - 0s 584us/step - loss: 0.2795\n",
      "Epoch 347/500\n",
      "7/7 [==============================] - 0s 614us/step - loss: 0.2761\n",
      "Epoch 348/500\n",
      "7/7 [==============================] - 0s 609us/step - loss: 0.2732\n",
      "Epoch 349/500\n",
      "7/7 [==============================] - 0s 592us/step - loss: 0.2718\n",
      "Epoch 350/500\n",
      "7/7 [==============================] - 0s 628us/step - loss: 0.2687\n",
      "Epoch 351/500\n",
      "7/7 [==============================] - 0s 635us/step - loss: 0.2662\n",
      "Epoch 352/500\n",
      "7/7 [==============================] - 0s 625us/step - loss: 0.2632\n",
      "Epoch 353/500\n",
      "7/7 [==============================] - 0s 615us/step - loss: 0.2606\n",
      "Epoch 354/500\n",
      "7/7 [==============================] - 0s 615us/step - loss: 0.2584\n",
      "Epoch 355/500\n",
      "7/7 [==============================] - 0s 568us/step - loss: 0.2554\n",
      "Epoch 356/500\n",
      "7/7 [==============================] - 0s 581us/step - loss: 0.2544\n",
      "Epoch 357/500\n",
      "7/7 [==============================] - 0s 564us/step - loss: 0.2508\n",
      "Epoch 358/500\n",
      "7/7 [==============================] - 0s 617us/step - loss: 0.2485\n",
      "Epoch 359/500\n",
      "7/7 [==============================] - 0s 665us/step - loss: 0.2461\n",
      "Epoch 360/500\n",
      "7/7 [==============================] - 0s 608us/step - loss: 0.2444\n",
      "Epoch 361/500\n",
      "7/7 [==============================] - 0s 569us/step - loss: 0.2419\n",
      "Epoch 362/500\n",
      "7/7 [==============================] - 0s 645us/step - loss: 0.2398\n",
      "Epoch 363/500\n",
      "7/7 [==============================] - 0s 629us/step - loss: 0.2380\n",
      "Epoch 364/500\n",
      "7/7 [==============================] - 0s 754us/step - loss: 0.2355\n",
      "Epoch 365/500\n",
      "7/7 [==============================] - 0s 620us/step - loss: 0.2342\n",
      "Epoch 366/500\n",
      "7/7 [==============================] - 0s 568us/step - loss: 0.2321\n",
      "Epoch 367/500\n",
      "7/7 [==============================] - 0s 590us/step - loss: 0.2306\n",
      "Epoch 368/500\n",
      "7/7 [==============================] - 0s 582us/step - loss: 0.2292\n",
      "Epoch 369/500\n",
      "7/7 [==============================] - 0s 1ms/step - loss: 0.2275\n",
      "Epoch 370/500\n",
      "7/7 [==============================] - 0s 1ms/step - loss: 0.2260\n",
      "Epoch 371/500\n",
      "7/7 [==============================] - 0s 787us/step - loss: 0.2248\n",
      "Epoch 372/500\n",
      "7/7 [==============================] - 0s 628us/step - loss: 0.2227\n",
      "Epoch 373/500\n",
      "7/7 [==============================] - 0s 828us/step - loss: 0.2205\n",
      "Epoch 374/500\n",
      "7/7 [==============================] - 0s 748us/step - loss: 0.2194\n",
      "Epoch 375/500\n",
      "7/7 [==============================] - 0s 609us/step - loss: 0.2178\n",
      "Epoch 376/500\n",
      "7/7 [==============================] - 0s 599us/step - loss: 0.2156\n",
      "Epoch 377/500\n",
      "7/7 [==============================] - 0s 597us/step - loss: 0.2146\n",
      "Epoch 378/500\n",
      "7/7 [==============================] - 0s 645us/step - loss: 0.2131\n",
      "Epoch 379/500\n",
      "7/7 [==============================] - 0s 612us/step - loss: 0.2111\n",
      "Epoch 380/500\n",
      "7/7 [==============================] - 0s 676us/step - loss: 0.2090\n",
      "Epoch 381/500\n",
      "7/7 [==============================] - 0s 650us/step - loss: 0.2082\n",
      "Epoch 382/500\n",
      "7/7 [==============================] - 0s 644us/step - loss: 0.2060\n",
      "Epoch 383/500\n",
      "7/7 [==============================] - 0s 717us/step - loss: 0.2053\n",
      "Epoch 384/500\n",
      "7/7 [==============================] - 0s 660us/step - loss: 0.2043\n",
      "Epoch 385/500\n",
      "7/7 [==============================] - 0s 672us/step - loss: 0.2028\n",
      "Epoch 386/500\n",
      "7/7 [==============================] - 0s 541us/step - loss: 0.2008\n",
      "Epoch 387/500\n",
      "7/7 [==============================] - 0s 665us/step - loss: 0.2001\n",
      "Epoch 388/500\n",
      "7/7 [==============================] - 0s 610us/step - loss: 0.1992\n",
      "Epoch 389/500\n",
      "7/7 [==============================] - 0s 549us/step - loss: 0.1977\n",
      "Epoch 390/500\n",
      "7/7 [==============================] - 0s 686us/step - loss: 0.1970\n",
      "Epoch 391/500\n",
      "7/7 [==============================] - 0s 587us/step - loss: 0.1972\n",
      "Epoch 392/500\n",
      "7/7 [==============================] - 0s 548us/step - loss: 0.1945\n",
      "Epoch 393/500\n",
      "7/7 [==============================] - 0s 591us/step - loss: 0.1934\n",
      "Epoch 394/500\n",
      "7/7 [==============================] - 0s 670us/step - loss: 0.1915\n",
      "Epoch 395/500\n",
      "7/7 [==============================] - 0s 651us/step - loss: 0.1897\n",
      "Epoch 396/500\n",
      "7/7 [==============================] - 0s 652us/step - loss: 0.1894\n",
      "Epoch 397/500\n",
      "7/7 [==============================] - 0s 535us/step - loss: 0.1880\n",
      "Epoch 398/500\n",
      "7/7 [==============================] - 0s 629us/step - loss: 0.1872\n",
      "Epoch 399/500\n",
      "7/7 [==============================] - 0s 621us/step - loss: 0.1869\n",
      "Epoch 400/500\n",
      "7/7 [==============================] - 0s 569us/step - loss: 0.1849\n",
      "Epoch 401/500\n",
      "7/7 [==============================] - 0s 558us/step - loss: 0.1838\n",
      "Epoch 402/500\n",
      "7/7 [==============================] - 0s 607us/step - loss: 0.1838\n",
      "Epoch 403/500\n",
      "7/7 [==============================] - 0s 620us/step - loss: 0.1831\n",
      "Epoch 404/500\n",
      "7/7 [==============================] - 0s 656us/step - loss: 0.1807\n",
      "Epoch 405/500\n",
      "7/7 [==============================] - 0s 579us/step - loss: 0.1813\n",
      "Epoch 406/500\n",
      "7/7 [==============================] - 0s 620us/step - loss: 0.1790\n",
      "Epoch 407/500\n",
      "7/7 [==============================] - 0s 579us/step - loss: 0.1775\n",
      "Epoch 408/500\n",
      "7/7 [==============================] - 0s 613us/step - loss: 0.1771\n",
      "Epoch 409/500\n",
      "7/7 [==============================] - 0s 612us/step - loss: 0.1765\n",
      "Epoch 410/500\n",
      "7/7 [==============================] - 0s 623us/step - loss: 0.1758\n",
      "Epoch 411/500\n",
      "7/7 [==============================] - 0s 520us/step - loss: 0.1742\n",
      "Epoch 412/500\n",
      "7/7 [==============================] - 0s 606us/step - loss: 0.1740\n",
      "Epoch 413/500\n",
      "7/7 [==============================] - 0s 659us/step - loss: 0.1731\n",
      "Epoch 414/500\n",
      "7/7 [==============================] - 0s 590us/step - loss: 0.1726\n",
      "Epoch 415/500\n",
      "7/7 [==============================] - 0s 1ms/step - loss: 0.1707\n",
      "Epoch 416/500\n",
      "7/7 [==============================] - 0s 1ms/step - loss: 0.1694\n",
      "Epoch 417/500\n",
      "7/7 [==============================] - 0s 1ms/step - loss: 0.1691\n",
      "Epoch 418/500\n",
      "7/7 [==============================] - 0s 989us/step - loss: 0.1685\n",
      "Epoch 419/500\n",
      "7/7 [==============================] - 0s 694us/step - loss: 0.1678\n",
      "Epoch 420/500\n",
      "7/7 [==============================] - 0s 760us/step - loss: 0.1670\n",
      "Epoch 421/500\n",
      "7/7 [==============================] - 0s 711us/step - loss: 0.1655\n",
      "Epoch 422/500\n",
      "7/7 [==============================] - 0s 560us/step - loss: 0.1646\n",
      "Epoch 423/500\n",
      "7/7 [==============================] - 0s 633us/step - loss: 0.1648\n",
      "Epoch 424/500\n",
      "7/7 [==============================] - 0s 569us/step - loss: 0.1633\n",
      "Epoch 425/500\n",
      "7/7 [==============================] - 0s 576us/step - loss: 0.1621\n",
      "Epoch 426/500\n",
      "7/7 [==============================] - 0s 617us/step - loss: 0.1606\n",
      "Epoch 427/500\n",
      "7/7 [==============================] - 0s 567us/step - loss: 0.1606\n",
      "Epoch 428/500\n",
      "7/7 [==============================] - 0s 634us/step - loss: 0.1614\n",
      "Epoch 429/500\n",
      "7/7 [==============================] - 0s 544us/step - loss: 0.1599\n",
      "Epoch 430/500\n",
      "7/7 [==============================] - 0s 606us/step - loss: 0.1592\n",
      "Epoch 431/500\n",
      "7/7 [==============================] - 0s 672us/step - loss: 0.1577\n",
      "Epoch 432/500\n",
      "7/7 [==============================] - 0s 629us/step - loss: 0.1561\n",
      "Epoch 433/500\n",
      "7/7 [==============================] - 0s 703us/step - loss: 0.1564\n",
      "Epoch 434/500\n",
      "7/7 [==============================] - 0s 667us/step - loss: 0.1552\n",
      "Epoch 435/500\n",
      "7/7 [==============================] - 0s 528us/step - loss: 0.1538\n",
      "Epoch 436/500\n",
      "7/7 [==============================] - 0s 573us/step - loss: 0.1541\n",
      "Epoch 437/500\n",
      "7/7 [==============================] - 0s 588us/step - loss: 0.1550\n",
      "Epoch 438/500\n",
      "7/7 [==============================] - 0s 600us/step - loss: 0.1536\n",
      "Epoch 439/500\n",
      "7/7 [==============================] - 0s 626us/step - loss: 0.1516\n",
      "Epoch 440/500\n",
      "7/7 [==============================] - 0s 563us/step - loss: 0.1518\n",
      "Epoch 441/500\n",
      "7/7 [==============================] - 0s 618us/step - loss: 0.1515\n",
      "Epoch 442/500\n",
      "7/7 [==============================] - 0s 588us/step - loss: 0.1501\n",
      "Epoch 443/500\n",
      "7/7 [==============================] - 0s 526us/step - loss: 0.1499\n",
      "Epoch 444/500\n",
      "7/7 [==============================] - 0s 613us/step - loss: 0.1494\n",
      "Epoch 445/500\n",
      "7/7 [==============================] - 0s 585us/step - loss: 0.1478\n",
      "Epoch 446/500\n",
      "7/7 [==============================] - 0s 635us/step - loss: 0.1506\n",
      "Epoch 447/500\n",
      "7/7 [==============================] - 0s 627us/step - loss: 0.1468\n",
      "Epoch 448/500\n",
      "7/7 [==============================] - 0s 606us/step - loss: 0.1457\n",
      "Epoch 449/500\n",
      "7/7 [==============================] - 0s 643us/step - loss: 0.1442\n",
      "Epoch 450/500\n",
      "7/7 [==============================] - 0s 729us/step - loss: 0.1457\n",
      "Epoch 451/500\n",
      "7/7 [==============================] - 0s 748us/step - loss: 0.1457\n",
      "Epoch 452/500\n",
      "7/7 [==============================] - 0s 640us/step - loss: 0.1437\n",
      "Epoch 453/500\n",
      "7/7 [==============================] - 0s 520us/step - loss: 0.1436\n",
      "Epoch 454/500\n",
      "7/7 [==============================] - 0s 485us/step - loss: 0.1413\n",
      "Epoch 455/500\n",
      "7/7 [==============================] - 0s 579us/step - loss: 0.1411\n",
      "Epoch 456/500\n",
      "7/7 [==============================] - 0s 593us/step - loss: 0.1407\n",
      "Epoch 457/500\n",
      "7/7 [==============================] - 0s 541us/step - loss: 0.1407\n",
      "Epoch 458/500\n",
      "7/7 [==============================] - 0s 804us/step - loss: 0.1409\n",
      "Epoch 459/500\n",
      "7/7 [==============================] - 0s 643us/step - loss: 0.1398\n",
      "Epoch 460/500\n",
      "7/7 [==============================] - 0s 620us/step - loss: 0.1383\n",
      "Epoch 461/500\n",
      "7/7 [==============================] - 0s 629us/step - loss: 0.1384\n",
      "Epoch 462/500\n",
      "7/7 [==============================] - 0s 488us/step - loss: 0.1396\n",
      "Epoch 463/500\n",
      "7/7 [==============================] - 0s 672us/step - loss: 0.1380\n",
      "Epoch 464/500\n",
      "7/7 [==============================] - 0s 3ms/step - loss: 0.1380\n",
      "Epoch 465/500\n",
      "7/7 [==============================] - 0s 2ms/step - loss: 0.1356\n",
      "Epoch 466/500\n",
      "7/7 [==============================] - 0s 1ms/step - loss: 0.1356\n",
      "Epoch 467/500\n",
      "7/7 [==============================] - 0s 740us/step - loss: 0.1359\n",
      "Epoch 468/500\n",
      "7/7 [==============================] - 0s 755us/step - loss: 0.1353\n",
      "Epoch 469/500\n",
      "7/7 [==============================] - 0s 628us/step - loss: 0.1339\n",
      "Epoch 470/500\n",
      "7/7 [==============================] - 0s 680us/step - loss: 0.1343\n",
      "Epoch 471/500\n",
      "7/7 [==============================] - 0s 536us/step - loss: 0.1326\n",
      "Epoch 472/500\n",
      "7/7 [==============================] - 0s 618us/step - loss: 0.1319\n",
      "Epoch 473/500\n",
      "7/7 [==============================] - 0s 639us/step - loss: 0.1330\n",
      "Epoch 474/500\n",
      "7/7 [==============================] - 0s 636us/step - loss: 0.1320\n",
      "Epoch 475/500\n",
      "7/7 [==============================] - 0s 483us/step - loss: 0.1303\n",
      "Epoch 476/500\n",
      "7/7 [==============================] - 0s 670us/step - loss: 0.1297\n",
      "Epoch 477/500\n",
      "7/7 [==============================] - 0s 678us/step - loss: 0.1298\n",
      "Epoch 478/500\n",
      "7/7 [==============================] - 0s 693us/step - loss: 0.1300\n",
      "Epoch 479/500\n",
      "7/7 [==============================] - 0s 586us/step - loss: 0.1296\n",
      "Epoch 480/500\n",
      "7/7 [==============================] - 0s 595us/step - loss: 0.1296\n",
      "Epoch 481/500\n",
      "7/7 [==============================] - 0s 723us/step - loss: 0.1286\n",
      "Epoch 482/500\n",
      "7/7 [==============================] - 0s 588us/step - loss: 0.1288\n",
      "Epoch 483/500\n",
      "7/7 [==============================] - 0s 624us/step - loss: 0.1275\n",
      "Epoch 484/500\n",
      "7/7 [==============================] - 0s 648us/step - loss: 0.1279\n",
      "Epoch 485/500\n",
      "7/7 [==============================] - 0s 551us/step - loss: 0.1271\n",
      "Epoch 486/500\n",
      "7/7 [==============================] - 0s 594us/step - loss: 0.1292\n",
      "Epoch 487/500\n",
      "7/7 [==============================] - 0s 652us/step - loss: 0.1264\n",
      "Epoch 488/500\n",
      "7/7 [==============================] - 0s 548us/step - loss: 0.1266\n",
      "Epoch 489/500\n",
      "7/7 [==============================] - 0s 680us/step - loss: 0.1254\n",
      "Epoch 490/500\n",
      "7/7 [==============================] - 0s 591us/step - loss: 0.1250\n",
      "Epoch 491/500\n",
      "7/7 [==============================] - 0s 578us/step - loss: 0.1263\n",
      "Epoch 492/500\n",
      "7/7 [==============================] - 0s 629us/step - loss: 0.1238\n",
      "Epoch 493/500\n",
      "7/7 [==============================] - 0s 837us/step - loss: 0.1226\n",
      "Epoch 494/500\n",
      "7/7 [==============================] - 0s 686us/step - loss: 0.1247\n",
      "Epoch 495/500\n",
      "7/7 [==============================] - 0s 691us/step - loss: 0.1233\n",
      "Epoch 496/500\n",
      "7/7 [==============================] - 0s 632us/step - loss: 0.1241\n",
      "Epoch 497/500\n",
      "7/7 [==============================] - 0s 697us/step - loss: 0.1219\n",
      "Epoch 498/500\n",
      "7/7 [==============================] - 0s 662us/step - loss: 0.1213\n",
      "Epoch 499/500\n",
      "7/7 [==============================] - 0s 596us/step - loss: 0.1227\n",
      "Epoch 500/500\n",
      "7/7 [==============================] - 0s 545us/step - loss: 0.1216\n"
     ]
    }
   ],
   "source": [
    "# Để huấn luyện mô hình ta gọi phương thức `train` với dữ liệu mẫu đã tạo được\n",
    "# Nếu bước `build` mô hình gọi đúng thì bước `train` sau sẽ thực hiện thành công\n",
    "# LƯU Ý: Ở đây ta sử dụng output là Y_oh dạng one-hot thay vì dạng nhãn (label)\n",
    "hist = nn.train(X_train, Y_oh)"
   ]
  },
  {
   "cell_type": "code",
   "execution_count": 54,
   "id": "AmXUsyJqccP-",
   "metadata": {
    "colab": {
     "base_uri": "https://localhost:8080/",
     "height": 493
    },
    "execution": {
     "iopub.execute_input": "2024-04-06T10:12:43.662274Z",
     "iopub.status.busy": "2024-04-06T10:12:43.660593Z",
     "iopub.status.idle": "2024-04-06T10:12:44.125183Z",
     "shell.execute_reply": "2024-04-06T10:12:44.122682Z"
    },
    "executionInfo": {
     "elapsed": 638,
     "status": "ok",
     "timestamp": 1712309002364,
     "user": {
      "displayName": "Nguyễn Đức Vũ",
      "userId": "07288779277842550568"
     },
     "user_tz": -420
    },
    "id": "AmXUsyJqccP-",
    "outputId": "ae35dd71-d1a4-490a-9c5e-a75a1a0046b0"
   },
   "outputs": [
    {
     "data": {
      "image/png": "[encoded data removed]",
      "text/plain": [
       "<Figure size 640x480 with 1 Axes>"
      ]
     },
     "metadata": {},
     "output_type": "display_data"
    }
   ],
   "source": [
    "# Hiển thị loss theo số epoch\n",
    "plt.plot(hist.history['loss'])\n",
    "plt.title('Model Loss')\n",
    "plt.ylabel('loss')\n",
    "plt.xlabel('epoch')\n",
    "plt.show()"
   ]
  },
  {
   "cell_type": "code",
   "execution_count": 55,
   "id": "ClY-3xfOcfKA",
   "metadata": {
    "execution": {
     "iopub.execute_input": "2024-04-06T10:12:44.134629Z",
     "iopub.status.busy": "2024-04-06T10:12:44.133758Z",
     "iopub.status.idle": "2024-04-06T10:12:44.173234Z",
     "shell.execute_reply": "2024-04-06T10:12:44.170980Z"
    },
    "executionInfo": {
     "elapsed": 53,
     "status": "ok",
     "timestamp": 1712309002364,
     "user": {
      "displayName": "Nguyễn Đức Vũ",
      "userId": "07288779277842550568"
     },
     "user_tz": -420
    },
    "id": "ClY-3xfOcfKA"
   },
   "outputs": [
    {
     "name": "stderr",
     "output_type": "stream",
     "text": [
      "/Users/danny/.pyenv/versions/3.11.1/lib/python3.11/site-packages/keras/src/engine/training.py:3103: UserWarning: You are saving your model as an HDF5 file via `model.save()`. This file format is considered legacy. We recommend using instead the native Keras format, e.g. `model.save('my_model.keras')`.\n",
      "  saving_api.save_model(\n"
     ]
    }
   ],
   "source": [
    "# Sau khi đã huấn luyện, ta lưu mô hình về để sau này tái sử dụng\n",
    "# Lưu ý: hai phương thức lưu mô hình `save` và tải mô hình lên 'load'\n",
    "# được sử dụng khi muốn tái sử dụng nhiều lần mà KHÔNG CẦN PHẢI HUẤN LUYỆN LẠI\n",
    "nn.save('neural_network_model.h5')"
   ]
  },
  {
   "cell_type": "markdown",
   "id": "HSBBOp7lciIP",
   "metadata": {
    "id": "HSBBOp7lciIP"
   },
   "source": [
    "## 5. Trực quan hóa mô hình và dự đoán với dữ liệu test"
   ]
  },
  {
   "cell_type": "code",
   "execution_count": 56,
   "id": "sH1bT06_cgtd",
   "metadata": {
    "execution": {
     "iopub.execute_input": "2024-04-06T10:12:44.182741Z",
     "iopub.status.busy": "2024-04-06T10:12:44.180673Z",
     "iopub.status.idle": "2024-04-06T10:12:44.294924Z",
     "shell.execute_reply": "2024-04-06T10:12:44.292604Z"
    },
    "executionInfo": {
     "elapsed": 52,
     "status": "ok",
     "timestamp": 1712309002365,
     "user": {
      "displayName": "Nguyễn Đức Vũ",
      "userId": "07288779277842550568"
     },
     "user_tz": -420
    },
    "id": "sH1bT06_cgtd"
   },
   "outputs": [
    {
     "name": "stderr",
     "output_type": "stream",
     "text": [
      "WARNING:absl:At this time, the v2.11+ optimizer `tf.keras.optimizers.SGD` runs slowly on M1/M2 Macs, please use the legacy Keras optimizer instead, located at `tf.keras.optimizers.legacy.SGD`.\n"
     ]
    }
   ],
   "source": [
    "# Khởi tạo đối tượng mới và gọi phương thức load mô hình từ file\n",
    "pretrain_nn = NeuralNetwork()\n",
    "pretrain_nn.load('neural_network_model.h5')"
   ]
  },
  {
   "cell_type": "code",
   "execution_count": 57,
   "id": "La880IJ2ckQN",
   "metadata": {
    "colab": {
     "base_uri": "https://localhost:8080/"
    },
    "execution": {
     "iopub.execute_input": "2024-04-06T10:12:44.304133Z",
     "iopub.status.busy": "2024-04-06T10:12:44.302150Z",
     "iopub.status.idle": "2024-04-06T10:12:44.315665Z",
     "shell.execute_reply": "2024-04-06T10:12:44.313669Z"
    },
    "executionInfo": {
     "elapsed": 51,
     "status": "ok",
     "timestamp": 1712309002365,
     "user": {
      "displayName": "Nguyễn Đức Vũ",
      "userId": "07288779277842550568"
     },
     "user_tz": -420
    },
    "id": "La880IJ2ckQN",
    "outputId": "3832b7f9-6747-446e-bfc8-78f772702f27"
   },
   "outputs": [
    {
     "name": "stdout",
     "output_type": "stream",
     "text": [
      "Tham số tối ưu: \n",
      "[array([[ 1.5487996 , -1.4963466 , -3.6956384 ,  3.561954  ],\n",
      "       [ 2.7109244 , -4.5549593 ,  2.7528036 , -1.0818523 ],\n",
      "       [ 0.22446872,  3.0999417 ,  1.0857147 , -3.5863476 ]],\n",
      "      dtype=float32), array([-1.6613677 ,  0.9613497 , -0.21329573,  0.9133158 ], dtype=float32)]\n"
     ]
    }
   ],
   "source": [
    "# In ra bộ tham số tối ưu lớp cuối cùng\n",
    "theta = pretrain_nn.get_weights(-1)\n",
    "print('Tham số tối ưu: ')\n",
    "print(theta)"
   ]
  },
  {
   "cell_type": "code",
   "execution_count": 58,
   "id": "pC0t6oWyclN_",
   "metadata": {
    "colab": {
     "base_uri": "https://localhost:8080/",
     "height": 467
    },
    "execution": {
     "iopub.execute_input": "2024-04-06T10:12:44.324722Z",
     "iopub.status.busy": "2024-04-06T10:12:44.322742Z",
     "iopub.status.idle": "2024-04-06T10:12:46.795101Z",
     "shell.execute_reply": "2024-04-06T10:12:46.792927Z"
    },
    "executionInfo": {
     "elapsed": 554,
     "status": "ok",
     "timestamp": 1712309002893,
     "user": {
      "displayName": "Nguyễn Đức Vũ",
      "userId": "07288779277842550568"
     },
     "user_tz": -420
    },
    "id": "pC0t6oWyclN_",
    "outputId": "4cbd0b16-caed-4a2e-fc1a-7195bacbb813"
   },
   "outputs": [
    {
     "name": "stdout",
     "output_type": "stream",
     "text": [
      "20/20 [==============================] - 0s 448us/step\n"
     ]
    },
    {
     "data": {
      "image/png": "[encoded data removed]",
      "text/plain": [
       "<Figure size 640x480 with 1 Axes>"
      ]
     },
     "metadata": {},
     "output_type": "display_data"
    }
   ],
   "source": [
    "# Trực quan hóa dữ liệu và mô hình sau khi huấn luyện\n",
    "# Ý tưởng: lấy mẫu dày đặc các điểm trong phạm vi dữ liệu train\n",
    "# Sau đó dùng mô hình để dự đoán và hiển thị kết quả\n",
    "\n",
    "# `colors` là các marker được sử dụng để trực quan hóa kết quả test\n",
    "colors = ['r+', 'g+', 'b+', 'y+']\n",
    "# `gt_colors` là các marker được sử dụng để trực quan hóa dữ liệu train\n",
    "gt_colors = ['ro', 'go', 'bo', 'yo']\n",
    "\n",
    "# Lấy mẫu dày đặc các điểm\n",
    "x = np.arange(-8, 17, 1)\n",
    "y = np.arange(-8, 17, 1)\n",
    "xx, yy = np.meshgrid(x,y)\n",
    "\n",
    "xx = xx.reshape(-1)\n",
    "yy = yy.reshape(-1)\n",
    "\n",
    "# Tạo các dữ liệu test dày đặc\n",
    "X_test = np.concatenate([[xx],[yy]], axis=0).T\n",
    "Y_pred = pretrain_nn.predict(X_test)\n",
    "\n",
    "for i in range(len(xx)):\n",
    "    plt.plot(xx[i],yy[i], colors[np.argmax(Y_pred[i])])\n",
    "plt.plot(pts1[:,0], pts1[:,1], gt_colors[0])\n",
    "plt.plot(pts2[:,0], pts2[:,1], gt_colors[1])\n",
    "plt.plot(pts3[:,0], pts3[:,1], gt_colors[2])\n",
    "plt.plot(pts4[:,0], pts4[:,1], gt_colors[3])\n",
    "plt.show()"
   ]
  },
  {
   "cell_type": "markdown",
   "id": "tUTCVHqgcoKc",
   "metadata": {
    "id": "tUTCVHqgcoKc"
   },
   "source": [
    "Ta có thể thấy rằng, không gian mặt phẳng đã được phân loại sử dụng mô hình Neural Network đã huấn luyện trước đó. Dựa trên hình trên ta thấy kết quả khá chính xác, chỉ trừ một số điểm ở biên giữa các lớp."
   ]
  },
  {
   "cell_type": "markdown",
   "id": "olk8nJo8cp9n",
   "metadata": {
    "id": "olk8nJo8cp9n"
   },
   "source": [
    "## 6. Thử nghiệm với tập dữ liệu  MNIST\n",
    "\n",
    "MNIST là tập dữ liệu chữ số viết tay kinh điển trong lĩnh vực máy học. Để tải và sử dụng dữ liệu này cực kỳ đơn giản chỉ với 2 dòng code:"
   ]
  },
  {
   "cell_type": "code",
   "execution_count": 59,
   "id": "nvm8yf2qcmhK",
   "metadata": {
    "colab": {
     "base_uri": "https://localhost:8080/"
    },
    "execution": {
     "iopub.execute_input": "2024-04-06T10:12:46.805212Z",
     "iopub.status.busy": "2024-04-06T10:12:46.803575Z",
     "iopub.status.idle": "2024-04-06T10:12:47.315346Z",
     "shell.execute_reply": "2024-04-06T10:12:47.313230Z"
    },
    "executionInfo": {
     "elapsed": 676,
     "status": "ok",
     "timestamp": 1712309003534,
     "user": {
      "displayName": "Nguyễn Đức Vũ",
      "userId": "07288779277842550568"
     },
     "user_tz": -420
    },
    "id": "nvm8yf2qcmhK",
    "outputId": "6f37aec6-f7f4-4611-cef8-1ae6279077c2"
   },
   "outputs": [
    {
     "name": "stdout",
     "output_type": "stream",
     "text": [
      "Downloading data from https://storage.googleapis.com/tensorflow/tf-keras-datasets/mnist.npz\n",
      "11490434/11490434 [==============================] - 1s 0us/step\n",
      "(60000, 28, 28)\n",
      "(60000,)\n",
      "(10000, 28, 28)\n",
      "(10000,)\n"
     ]
    }
   ],
   "source": [
    "# Prepare MNIST dataset\n",
    "from keras.datasets import mnist\n",
    "(x_train, y_train), (x_test, y_test) = mnist.load_data()\n",
    "\n",
    "print(x_train.shape)\n",
    "print(y_train.shape)\n",
    "print(x_test.shape)\n",
    "print(y_test.shape)"
   ]
  },
  {
   "cell_type": "markdown",
   "id": "jIMGbvMCctvv",
   "metadata": {
    "id": "jIMGbvMCctvv"
   },
   "source": [
    "Để hiểu rõ hơn về dữ liệu này, ta sẽ trực quan hóa dữ liệu bằng cách hiển thị ảnh và xem kích thước ảnh."
   ]
  },
  {
   "cell_type": "code",
   "execution_count": 60,
   "id": "taofQbEOcsRo",
   "metadata": {
    "colab": {
     "base_uri": "https://localhost:8080/",
     "height": 500
    },
    "execution": {
     "iopub.execute_input": "2024-04-06T10:12:47.325858Z",
     "iopub.status.busy": "2024-04-06T10:12:47.323814Z",
     "iopub.status.idle": "2024-04-06T10:12:47.741095Z",
     "shell.execute_reply": "2024-04-06T10:12:47.738937Z"
    },
    "executionInfo": {
     "elapsed": 557,
     "status": "ok",
     "timestamp": 1712309004058,
     "user": {
      "displayName": "Nguyễn Đức Vũ",
      "userId": "07288779277842550568"
     },
     "user_tz": -420
    },
    "id": "taofQbEOcsRo",
    "outputId": "b8813a0a-5608-4bea-a8b2-fa4081a37e31"
   },
   "outputs": [
    {
     "name": "stdout",
     "output_type": "stream",
     "text": [
      "Nhãn của mẫu dữ liệu thứ 1234:  3\n",
      "Kích thước của ảnh train:  (28, 28)\n",
      "Số điểm ảnh nếu biến đổi thành vector:  784\n"
     ]
    },
    {
     "data": {
      "image/png": "[encoded data removed]",
      "text/plain": [
       "<Figure size 640x480 with 1 Axes>"
      ]
     },
     "metadata": {},
     "output_type": "display_data"
    }
   ],
   "source": [
    "plt.imshow(x_train[1234])\n",
    "print('Nhãn của mẫu dữ liệu thứ 1234: ', y_train[1234])\n",
    "print('Kích thước của ảnh train: ', x_train[1234].shape)\n",
    "print('Số điểm ảnh nếu biến đổi thành vector: ',\n",
    "      x_train[1234].shape[0]*x_train[1234].shape[1])"
   ]
  },
  {
   "cell_type": "markdown",
   "id": "5Wy0f6YtcxYD",
   "metadata": {
    "id": "5Wy0f6YtcxYD"
   },
   "source": [
    "Tiền xử lý dữ liệu trước khi huấn luyện mô hình:\n",
    "- Chuyển output sang dạng one-hot vector\n",
    "- Chuẩn hóa dữ liệu input về khoảng giá trị `[0-1]`"
   ]
  },
  {
   "cell_type": "code",
   "execution_count": 61,
   "id": "GBgRbu6icvSj",
   "metadata": {
    "execution": {
     "iopub.execute_input": "2024-04-06T10:12:47.751075Z",
     "iopub.status.busy": "2024-04-06T10:12:47.749090Z",
     "iopub.status.idle": "2024-04-06T10:12:48.018542Z",
     "shell.execute_reply": "2024-04-06T10:12:48.016142Z"
    },
    "executionInfo": {
     "elapsed": 532,
     "status": "ok",
     "timestamp": 1712309004060,
     "user": {
      "displayName": "Nguyễn Đức Vũ",
      "userId": "07288779277842550568"
     },
     "user_tz": -420
    },
    "id": "GBgRbu6icvSj"
   },
   "outputs": [],
   "source": [
    "# Hàm chuyển đổi output từ dạng nhãn (label) sang vector one-hot\n",
    "def onehot(y):\n",
    "    oh = np.zeros((y.shape[0], y.max()+1))\n",
    "    oh[np.arange(y.shape[0]), y] = 1\n",
    "    return oh\n",
    "\n",
    "y_train_oh = onehot(y_train)\n",
    "y_test_oh = onehot(y_test)\n",
    "\n",
    "# Chuẩn hóa dữ liệu input trên dữ liệu train và test\n",
    "n_train_sample, h, w = x_train.shape\n",
    "n_test_sample, _,_ = x_test.shape # Kích thước ngang x cao giống nhau trên tất cả mẫu\n",
    "\n",
    "x_train = (x_train.astype('float32')) / 255.0\n",
    "x_test = (x_test.astype('float32')) / 255.0\n",
    "x_train_vec = x_train.reshape((n_train_sample, w*h))\n",
    "x_test_vec = x_test.reshape((n_test_sample, w*h))"
   ]
  },
  {
   "cell_type": "markdown",
   "id": "r98H0b84c0mz",
   "metadata": {
    "id": "r98H0b84c0mz"
   },
   "source": [
    "Khởi tạo mô hình từ đầu sao cho phù hợp với dữ liệu MNIST.\n",
    "Trong đó, thông tin cấu hình về lớp ẩn:\n",
    "- 2 lớp ẩn\n",
    "- 100 neuron mỗi lớp ẩn\n",
    "- huấn luyện với 30 epochs"
   ]
  },
  {
   "cell_type": "code",
   "execution_count": 65,
   "id": "syb9FU2pczSp",
   "metadata": {
    "colab": {
     "base_uri": "https://localhost:8080/"
    },
    "execution": {
     "iopub.execute_input": "2024-04-06T10:12:48.029040Z",
     "iopub.status.busy": "2024-04-06T10:12:48.027218Z",
     "iopub.status.idle": "2024-04-06T10:18:11.737218Z",
     "shell.execute_reply": "2024-04-06T10:18:11.734692Z"
    },
    "id": "syb9FU2pczSp",
    "outputId": "783d5bd4-139c-46c9-b675-c513dd762782"
   },
   "outputs": [
    {
     "name": "stderr",
     "output_type": "stream",
     "text": [
      "WARNING:absl:At this time, the v2.11+ optimizer `tf.keras.optimizers.SGD` runs slowly on M1/M2 Macs, please use the legacy Keras optimizer instead, located at `tf.keras.optimizers.legacy.SGD`.\n"
     ]
    },
    {
     "name": "stdout",
     "output_type": "stream",
     "text": [
      "Epoch 1/30\n",
      "1875/1875 [==============================] - 1s 647us/step - loss: 1.3020\n",
      "Epoch 2/30\n",
      "1875/1875 [==============================] - 1s 619us/step - loss: 0.4453\n",
      "Epoch 3/30\n",
      "1875/1875 [==============================] - 1s 622us/step - loss: 0.3433\n",
      "Epoch 4/30\n",
      "1875/1875 [==============================] - 1s 638us/step - loss: 0.3026\n",
      "Epoch 5/30\n",
      "1875/1875 [==============================] - 1s 694us/step - loss: 0.2751\n",
      "Epoch 6/30\n",
      "1875/1875 [==============================] - 1s 651us/step - loss: 0.2536\n",
      "Epoch 7/30\n",
      "1875/1875 [==============================] - 1s 638us/step - loss: 0.2349\n",
      "Epoch 8/30\n",
      "1875/1875 [==============================] - 1s 690us/step - loss: 0.2187\n",
      "Epoch 9/30\n",
      "1875/1875 [==============================] - 1s 653us/step - loss: 0.2036\n",
      "Epoch 10/30\n",
      "1875/1875 [==============================] - 1s 638us/step - loss: 0.1905\n",
      "Epoch 11/30\n",
      "1875/1875 [==============================] - 1s 689us/step - loss: 0.1786\n",
      "Epoch 12/30\n",
      "1875/1875 [==============================] - 1s 622us/step - loss: 0.1675\n",
      "Epoch 13/30\n",
      "1875/1875 [==============================] - 1s 622us/step - loss: 0.1581\n",
      "Epoch 14/30\n",
      "1875/1875 [==============================] - 1s 620us/step - loss: 0.1493\n",
      "Epoch 15/30\n",
      "1875/1875 [==============================] - 1s 635us/step - loss: 0.1411\n",
      "Epoch 16/30\n",
      "1875/1875 [==============================] - 1s 620us/step - loss: 0.1335\n",
      "Epoch 17/30\n",
      "1875/1875 [==============================] - 1s 619us/step - loss: 0.1269\n",
      "Epoch 18/30\n",
      "1875/1875 [==============================] - 1s 633us/step - loss: 0.1206\n",
      "Epoch 19/30\n",
      "1875/1875 [==============================] - 1s 626us/step - loss: 0.1150\n",
      "Epoch 20/30\n",
      "1875/1875 [==============================] - 1s 619us/step - loss: 0.1099\n",
      "Epoch 21/30\n",
      "1875/1875 [==============================] - 1s 620us/step - loss: 0.1051\n",
      "Epoch 22/30\n",
      "1875/1875 [==============================] - 1s 617us/step - loss: 0.1005\n",
      "Epoch 23/30\n",
      "1875/1875 [==============================] - 1s 622us/step - loss: 0.0962\n",
      "Epoch 24/30\n",
      "1875/1875 [==============================] - 1s 617us/step - loss: 0.0923\n",
      "Epoch 25/30\n",
      "1875/1875 [==============================] - 1s 658us/step - loss: 0.0885\n",
      "Epoch 26/30\n",
      "1875/1875 [==============================] - 1s 623us/step - loss: 0.0851\n",
      "Epoch 27/30\n",
      "1875/1875 [==============================] - 1s 616us/step - loss: 0.0816\n",
      "Epoch 28/30\n",
      "1875/1875 [==============================] - 1s 632us/step - loss: 0.0786\n",
      "Epoch 29/30\n",
      "1875/1875 [==============================] - 1s 626us/step - loss: 0.0757\n",
      "Epoch 30/30\n",
      "1875/1875 [==============================] - 1s 630us/step - loss: 0.0731\n"
     ]
    }
   ],
   "source": [
    "nn4mnist = NeuralNetwork()\n",
    "\n",
    "# Hoàn tất đoạn code sau đây với việc sử dụng biến `nn4mnist` để gọi\n",
    "# phương thức `build`# và `train`. Lưu ý: sử dụng các tham số phù hợp\n",
    "# theo yêu cầu đã nêu.\n",
    "\n",
    "### BEGIN SOLUTION\n",
    "nn4mnist.build(w*h, 10, 2, 100)\n",
    "hist = nn4mnist.train(x_train_vec, y_train_oh, epochs=30)\n",
    "### END SOLUTION"
   ]
  },
  {
   "cell_type": "code",
   "execution_count": 66,
   "id": "4LkP07Vec5kT",
   "metadata": {
    "execution": {
     "iopub.execute_input": "2024-04-06T10:18:11.747402Z",
     "iopub.status.busy": "2024-04-06T10:18:11.745774Z",
     "iopub.status.idle": "2024-04-06T10:18:12.198532Z",
     "shell.execute_reply": "2024-04-06T10:18:12.196272Z"
    },
    "id": "4LkP07Vec5kT"
   },
   "outputs": [
    {
     "data": {
      "image/png": "[encoded data removed]",
      "text/plain": [
       "<Figure size 640x480 with 1 Axes>"
      ]
     },
     "metadata": {},
     "output_type": "display_data"
    }
   ],
   "source": [
    "# Trực quan hóa giá trị loss trong quá trình huấn luyện\n",
    "plt.plot(hist.history['loss'])\n",
    "plt.title('Model Loss')\n",
    "plt.ylabel('loss')\n",
    "plt.xlabel('epoch')\n",
    "plt.show()"
   ]
  },
  {
   "cell_type": "code",
   "execution_count": 67,
   "id": "KNngPMH_c2Uk",
   "metadata": {
    "execution": {
     "iopub.execute_input": "2024-04-06T10:18:12.208452Z",
     "iopub.status.busy": "2024-04-06T10:18:12.206264Z",
     "iopub.status.idle": "2024-04-06T10:18:12.216597Z",
     "shell.execute_reply": "2024-04-06T10:18:12.214540Z"
    },
    "id": "KNngPMH_c2Uk"
   },
   "outputs": [],
   "source": [
    "# Public Test\n",
    "assert hist is not None\n",
    "assert 'loss' in hist.history\n",
    "assert len(hist.history['loss']) == 30"
   ]
  },
  {
   "cell_type": "markdown",
   "id": "ZdW22hK-c--7",
   "metadata": {
    "id": "ZdW22hK-c--7"
   },
   "source": [
    "Sau quá trình huấn luyện, chúng ta sử dụng mô hình để dự đoán trên mẫu dữ liệu test:"
   ]
  },
  {
   "cell_type": "code",
   "execution_count": 68,
   "id": "yr_dK2Rwc9JF",
   "metadata": {
    "execution": {
     "iopub.execute_input": "2024-04-06T10:18:12.263088Z",
     "iopub.status.busy": "2024-04-06T10:18:12.262225Z",
     "iopub.status.idle": "2024-04-06T10:18:13.975879Z",
     "shell.execute_reply": "2024-04-06T10:18:13.972235Z"
    },
    "id": "yr_dK2Rwc9JF"
   },
   "outputs": [
    {
     "name": "stdout",
     "output_type": "stream",
     "text": [
      "313/313 [==============================] - 0s 448us/step\n"
     ]
    }
   ],
   "source": [
    "pred = nn4mnist.predict(x_test_vec)"
   ]
  },
  {
   "cell_type": "markdown",
   "id": "4Z6-hDXUdGwk",
   "metadata": {
    "id": "4Z6-hDXUdGwk"
   },
   "source": [
    "Cuối cùng, trực quan hóa một mẫu dữ liệu test bất kỳ (ví dụ mẫu thứ 50):"
   ]
  },
  {
   "cell_type": "code",
   "execution_count": 69,
   "id": "JMKe8wEvdAxY",
   "metadata": {
    "execution": {
     "iopub.execute_input": "2024-04-06T10:18:13.986815Z",
     "iopub.status.busy": "2024-04-06T10:18:13.986099Z",
     "iopub.status.idle": "2024-04-06T10:18:14.426892Z",
     "shell.execute_reply": "2024-04-06T10:18:14.424661Z"
    },
    "id": "JMKe8wEvdAxY"
   },
   "outputs": [
    {
     "name": "stdout",
     "output_type": "stream",
     "text": [
      "Label of the data:  6\n",
      "Predicted label of the data:  6\n"
     ]
    },
    {
     "data": {
      "image/png": "[encoded data removed]",
      "text/plain": [
       "<Figure size 640x480 with 1 Axes>"
      ]
     },
     "metadata": {},
     "output_type": "display_data"
    }
   ],
   "source": [
    "# Show the 50-th test sample\n",
    "test_id = 50\n",
    "plt.imshow(x_test[test_id])\n",
    "print('Label of the data: ', y_test[test_id])\n",
    "print('Predicted label of the data: ', np.argmax(pred[test_id]))"
   ]
  }
 ],
 "metadata": {
  "colab": {
   "provenance": []
  },
  "kernelspec": {
   "display_name": "Python 3 (ipykernel)",
   "language": "python",
   "name": "python3"
  },
  "language_info": {
   "codemirror_mode": {
    "name": "ipython",
    "version": 3
   },
   "file_extension": ".py",
   "mimetype": "text/x-python",
   "name": "python",
   "nbconvert_exporter": "python",
   "pygments_lexer": "ipython3",
   "version": "3.11.1"
  }
 },
 "nbformat": 4,
 "nbformat_minor": 5
}
